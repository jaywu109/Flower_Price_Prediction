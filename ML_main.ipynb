{
 "cells": [
  {
   "cell_type": "code",
   "execution_count": 1,
   "id": "characteristic-cleaners",
   "metadata": {},
   "outputs": [
    {
     "name": "stderr",
     "output_type": "stream",
     "text": [
      "Importing plotly failed. Interactive plots will not work.\n"
     ]
    },
    {
     "name": "stdout",
     "output_type": "stream",
     "text": [
      "2.4.0\n"
     ]
    }
   ],
   "source": [
    "import matplotlib.pyplot as plt\n",
    "import matplotlib as mpl\n",
    "import pandas as pd #Basic library for all of our dataset operations\n",
    "import numpy as np\n",
    "import requests\n",
    "import io\n",
    "import statsmodels.tsa.api as smt\n",
    "import statsmodels as sm\n",
    "import tensorflow as tf\n",
    "import pmdarima as pm\n",
    "import warnings\n",
    "import xgboost as xgb\n",
    "\n",
    "import lightgbm as lgb\n",
    "import gluonts\n",
    "from math import sqrt\n",
    "import warnings\n",
    "warnings.filterwarnings('ignore')\n",
    "# # import shap\n",
    "# # warnings.filterwarnings(\"ignore\") #We will use deprecated models of statmodels which throw a lot of warnings to use more modern ones\n",
    "\n",
    "from utils.metrics import evaluate\n",
    "from utils.plots import bar_metrics\n",
    "\n",
    "from statsmodels.tsa.ar_model import AR\n",
    "from random import random\n",
    "from datetime import datetime\n",
    "from fbprophet import Prophet\n",
    "from statsmodels.tsa.seasonal import seasonal_decompose\n",
    "from statsmodels.graphics.tsaplots import plot_acf,plot_pacf\n",
    "from statsmodels.tsa.stattools import adfuller\n",
    "from statsmodels.tsa.holtwinters import SimpleExpSmoothing, ExponentialSmoothing\n",
    "from sklearn import linear_model, svm\n",
    "from sklearn.linear_model import LinearRegression\n",
    "from sklearn.ensemble import RandomForestRegressor\n",
    "from sklearn.neighbors import KNeighborsRegressor\n",
    "from sklearn.preprocessing import MinMaxScaler, StandardScaler\n",
    "from sklearn.metrics import mean_squared_error, mean_absolute_error, make_scorer\n",
    "from sklearn.model_selection import cross_val_score, GridSearchCV\n",
    "from math import sqrt\n",
    "from xgboost import plot_importance, plot_tree\n",
    "from statsmodels.tsa.arima_model import ARIMA\n",
    "from gluonts.model.deepar import DeepAREstimator\n",
    "from gluonts.trainer import Trainer\n",
    "from gluonts.dataset.common import ListDataset\n",
    "from gluonts.evaluation.backtest import make_evaluation_predictions\n",
    "from itertools import islice\n",
    "from pylab import rcParams\n",
    "# progress bar\n",
    "from tqdm import tqdm, tqdm_notebook\n",
    "# from bayes_opt import BayesianOptimization\n",
    "\n",
    "\n",
    "#Extra settings\n",
    "seed = 42\n",
    "tf.random.set_seed(seed)\n",
    "np.random.seed(seed)\n",
    "plt.style.use('bmh')\n",
    "mpl.rcParams['axes.labelsize'] = 14\n",
    "mpl.rcParams['xtick.labelsize'] = 12\n",
    "mpl.rcParams['ytick.labelsize'] = 12\n",
    "mpl.rcParams['text.color'] = 'k'\n",
    "print(tf.__version__)"
   ]
  },
  {
   "cell_type": "code",
   "execution_count": 2,
   "id": "institutional-merchandise",
   "metadata": {},
   "outputs": [],
   "source": [
    "import pandas as pd\n",
    "import numpy as np\n",
    "import seaborn as sns\n",
    "import warnings\n",
    "import itertools\n",
    "import numpy as np\n",
    "import matplotlib.pyplot as plt\n",
    "import lightgbm as lgb\n",
    "from pylab import rcParams\n",
    "\n",
    "rcParams['figure.figsize'] = 18, 8\n",
    "warnings.filterwarnings(\"ignore\")\n",
    "\n",
    "from statsmodels.tsa.seasonal import seasonal_decompose\n",
    "\n",
    "#-----------------------Imports from Sktime-------------------------\n",
    "from sktime.forecasting.base import ForecastingHorizon\n",
    "from sktime.transformations.series.detrend import Deseasonalizer, Detrender\n",
    "from sktime.forecasting.trend import PolynomialTrendForecaster\n",
    "from sktime.forecasting.model_selection import (\n",
    "    temporal_train_test_split,\n",
    ")\n",
    "from sktime.utils.plotting import plot_series\n",
    "from sktime.forecasting.compose import (\n",
    "    TransformedTargetForecaster,\n",
    "    ReducedRegressionForecaster\n",
    ")"
   ]
  },
  {
   "cell_type": "code",
   "execution_count": 3,
   "id": "operational-escape",
   "metadata": {},
   "outputs": [],
   "source": [
    "from datetime import datetime"
   ]
  },
  {
   "cell_type": "code",
   "execution_count": 4,
   "id": "trained-removal",
   "metadata": {},
   "outputs": [
    {
     "data": {
      "text/html": [
       "<div>\n",
       "<style scoped>\n",
       "    .dataframe tbody tr th:only-of-type {\n",
       "        vertical-align: middle;\n",
       "    }\n",
       "\n",
       "    .dataframe tbody tr th {\n",
       "        vertical-align: top;\n",
       "    }\n",
       "\n",
       "    .dataframe thead th {\n",
       "        text-align: right;\n",
       "    }\n",
       "</style>\n",
       "<table border=\"1\" class=\"dataframe\">\n",
       "  <thead>\n",
       "    <tr style=\"text-align: right;\">\n",
       "      <th></th>\n",
       "      <th>highest</th>\n",
       "      <th>high</th>\n",
       "      <th>mid</th>\n",
       "      <th>low</th>\n",
       "      <th>ave</th>\n",
       "      <th>volume</th>\n",
       "    </tr>\n",
       "    <tr>\n",
       "      <th>date</th>\n",
       "      <th></th>\n",
       "      <th></th>\n",
       "      <th></th>\n",
       "      <th></th>\n",
       "      <th></th>\n",
       "      <th></th>\n",
       "    </tr>\n",
       "  </thead>\n",
       "  <tbody>\n",
       "    <tr>\n",
       "      <th>1998-12-01</th>\n",
       "      <td>195</td>\n",
       "      <td>131</td>\n",
       "      <td>77</td>\n",
       "      <td>59</td>\n",
       "      <td>84.0</td>\n",
       "      <td>327</td>\n",
       "    </tr>\n",
       "    <tr>\n",
       "      <th>1998-12-02</th>\n",
       "      <td>165</td>\n",
       "      <td>144</td>\n",
       "      <td>111</td>\n",
       "      <td>93</td>\n",
       "      <td>113.0</td>\n",
       "      <td>456</td>\n",
       "    </tr>\n",
       "    <tr>\n",
       "      <th>1998-12-03</th>\n",
       "      <td>204</td>\n",
       "      <td>160</td>\n",
       "      <td>82</td>\n",
       "      <td>65</td>\n",
       "      <td>94.0</td>\n",
       "      <td>432</td>\n",
       "    </tr>\n",
       "    <tr>\n",
       "      <th>1998-12-04</th>\n",
       "      <td>189</td>\n",
       "      <td>161</td>\n",
       "      <td>114</td>\n",
       "      <td>80</td>\n",
       "      <td>116.0</td>\n",
       "      <td>583</td>\n",
       "    </tr>\n",
       "    <tr>\n",
       "      <th>1998-12-06</th>\n",
       "      <td>181</td>\n",
       "      <td>157</td>\n",
       "      <td>90</td>\n",
       "      <td>55</td>\n",
       "      <td>96.0</td>\n",
       "      <td>1052</td>\n",
       "    </tr>\n",
       "    <tr>\n",
       "      <th>...</th>\n",
       "      <td>...</td>\n",
       "      <td>...</td>\n",
       "      <td>...</td>\n",
       "      <td>...</td>\n",
       "      <td>...</td>\n",
       "      <td>...</td>\n",
       "    </tr>\n",
       "    <tr>\n",
       "      <th>2021-01-15</th>\n",
       "      <td>305</td>\n",
       "      <td>305</td>\n",
       "      <td>305</td>\n",
       "      <td>305</td>\n",
       "      <td>305.0</td>\n",
       "      <td>48</td>\n",
       "    </tr>\n",
       "    <tr>\n",
       "      <th>2021-01-16</th>\n",
       "      <td>330</td>\n",
       "      <td>330</td>\n",
       "      <td>320</td>\n",
       "      <td>239</td>\n",
       "      <td>305.4</td>\n",
       "      <td>97</td>\n",
       "    </tr>\n",
       "    <tr>\n",
       "      <th>2021-01-18</th>\n",
       "      <td>327</td>\n",
       "      <td>327</td>\n",
       "      <td>327</td>\n",
       "      <td>327</td>\n",
       "      <td>327.0</td>\n",
       "      <td>96</td>\n",
       "    </tr>\n",
       "    <tr>\n",
       "      <th>2021-01-25</th>\n",
       "      <td>212</td>\n",
       "      <td>211</td>\n",
       "      <td>201</td>\n",
       "      <td>201</td>\n",
       "      <td>203.3</td>\n",
       "      <td>69</td>\n",
       "    </tr>\n",
       "    <tr>\n",
       "      <th>2021-01-26</th>\n",
       "      <td>173</td>\n",
       "      <td>173</td>\n",
       "      <td>160</td>\n",
       "      <td>85</td>\n",
       "      <td>147.9</td>\n",
       "      <td>121</td>\n",
       "    </tr>\n",
       "  </tbody>\n",
       "</table>\n",
       "<p>6681 rows × 6 columns</p>\n",
       "</div>"
      ],
      "text/plain": [
       "            highest  high  mid  low    ave  volume\n",
       "date                                              \n",
       "1998-12-01      195   131   77   59   84.0     327\n",
       "1998-12-02      165   144  111   93  113.0     456\n",
       "1998-12-03      204   160   82   65   94.0     432\n",
       "1998-12-04      189   161  114   80  116.0     583\n",
       "1998-12-06      181   157   90   55   96.0    1052\n",
       "...             ...   ...  ...  ...    ...     ...\n",
       "2021-01-15      305   305  305  305  305.0      48\n",
       "2021-01-16      330   330  320  239  305.4      97\n",
       "2021-01-18      327   327  327  327  327.0      96\n",
       "2021-01-25      212   211  201  201  203.3      69\n",
       "2021-01-26      173   173  160   85  147.9     121\n",
       "\n",
       "[6681 rows x 6 columns]"
      ]
     },
     "execution_count": 4,
     "metadata": {},
     "output_type": "execute_result"
    }
   ],
   "source": [
    "raw_col = ['date', 'highest', 'high', 'mid', 'low', 'ave', 'ave_dif', 'volume', 'vol_dif', 'resid']\n",
    "raw = pd.read_csv('FS443.csv',names=raw_col).drop(['ave_dif', 'vol_dif', 'resid'], axis=1)\n",
    "for i in range(raw.shape[0]):\n",
    "    raw.volume[i] = int(raw.volume[i].split(' ')[0].replace(',', ''))\n",
    "raw.volume = raw.volume.values.astype('int')\n",
    "\n",
    "ts_date = raw.copy().date\n",
    "for itr in range(raw.shape[0]):\n",
    "    date = raw.date[itr].split('/')\n",
    "    date[0] = str(int(date[0]) + 1911)\n",
    "    result = '/'.join(date)\n",
    "    ts_date[itr] =  np.datetime64(datetime.strptime(result, \"%Y/%m/%d\").date())\n",
    "    \n",
    "\n",
    "\n",
    "ts = raw.copy()\n",
    "ts.date = ts_date\n",
    "ts['date'] = pd.to_datetime(ts['date'], errors='coerce')\n",
    "ts = ts.set_index('date')\n",
    "ts.index = pd.to_datetime(ts.index)\n",
    "ts"
   ]
  },
  {
   "cell_type": "code",
   "execution_count": 5,
   "id": "undefined-proposal",
   "metadata": {},
   "outputs": [],
   "source": [
    "ts.index = ts.index.to_period('D') \n",
    "# ts.ave = ts.ave + 0.001"
   ]
  },
  {
   "cell_type": "code",
   "execution_count": 45,
   "id": "ordinary-second",
   "metadata": {},
   "outputs": [],
   "source": []
  },
  {
   "cell_type": "code",
   "execution_count": 6,
   "id": "universal-atlanta",
   "metadata": {},
   "outputs": [],
   "source": [
    "y_train, y_test = ts[:-14].ave, ts[-14:].ave"
   ]
  },
  {
   "cell_type": "code",
   "execution_count": 33,
   "id": "destroyed-concrete",
   "metadata": {},
   "outputs": [],
   "source": [
    "y_train, y_test = temporal_train_test_split(store1_agg_monthly, test_size=0.2)"
   ]
  },
  {
   "cell_type": "code",
   "execution_count": 66,
   "id": "understood-monroe",
   "metadata": {},
   "outputs": [
    {
     "data": {
      "image/png": "[encoded data removed]",
      "text/plain": [
       "<Figure size 1152x288 with 1 Axes>"
      ]
     },
     "metadata": {
      "needs_background": "light"
     },
     "output_type": "display_data"
    }
   ],
   "source": [
    "#Multiplicative Deseasonalizer, period = 12(for Monthly Data)\n",
    "deseasonalizer = Deseasonalizer(model=\"multiplicative\", sp=25)\n",
    "plot_series(deseasonalizer.fit_transform(y_train))\n",
    "seasonal = deseasonalizer.fit_transform(y_train)"
   ]
  },
  {
   "cell_type": "code",
   "execution_count": 18,
   "id": "greatest-marijuana",
   "metadata": {},
   "outputs": [],
   "source": [
    "regressor = lgb.LGBMRegressor()\n",
    "forecaster = ReducedRegressionForecaster(\n",
    "                    regressor=regressor, window_length=4,                               strategy=\"recursive\" #hyper-paramter to set recursive strategy\n",
    ")"
   ]
  },
  {
   "cell_type": "code",
   "execution_count": 67,
   "id": "domestic-quality",
   "metadata": {},
   "outputs": [],
   "source": [
    "lgb_params = {\n",
    "                    'boosting_type': 'gbdt',\n",
    "                    'objective': 'tweedie',\n",
    "                    'tweedie_variance_power': 1.1,\n",
    "                    'metric': 'rmse',\n",
    "                    'subsample': 0.5,\n",
    "                    'subsample_freq': 1,\n",
    "                    'learning_rate': 0.03,\n",
    "                    'num_leaves': 2**11-1,\n",
    "                    'min_data_in_leaf': 2**12-1,\n",
    "                    'feature_fraction': 0.5,\n",
    "                    'max_bin': 100,\n",
    "                    'n_estimators': 1400,\n",
    "                    'boost_from_average': False,\n",
    "                    'verbose': -1,\n",
    "                } \n",
    "#----------------------------Create Pipeline--------------------\n",
    "def get_transformed_target_forecaster():\n",
    "    \n",
    "    #Initialize Light GBM Regressor \n",
    "    lgb_params = {\n",
    "                    'boosting_type': 'gbdt',\n",
    "                    'objective': 'tweedie',\n",
    "                    'tweedie_variance_power': 1.1,\n",
    "                    'metric': 'rmse',\n",
    "                    'subsample': 0.5,\n",
    "                    'subsample_freq': 1,\n",
    "                    'learning_rate': 0.03,\n",
    "                    'num_leaves': 2**11-1,\n",
    "                    'min_data_in_leaf': 2**12-1,\n",
    "                    'feature_fraction': 0.5,\n",
    "                    'max_bin': 100,\n",
    "                    'n_estimators': 1400,\n",
    "                    'boost_from_average': False,\n",
    "                    'verbose': -1,\n",
    "                } \n",
    "    \n",
    "    regressor = lgb.LGBMRegressor(**lgb_params)\n",
    "#-----------------------Forecaster Pipeline-----------------\n",
    "    \n",
    "    #1.Separate the Seasonal Component.\n",
    "    #2.Fit a forecaster for the trend.\n",
    "    #3.Fit a Autoregressor to the resdiual(autoregressing on four historic values).\n",
    "    \n",
    "    forecaster = TransformedTargetForecaster(\n",
    "        [\n",
    "          \n",
    "            (\n",
    "                # Recursive strategy for Multi-Step Ahead Forecast.\n",
    "                # Auto Regress on four previous values\n",
    "                \"forecast\",\n",
    "                ReducedRegressionForecaster(\n",
    "                    regressor=regressor, window_length=4, strategy=\"recursive\",\n",
    "                ),\n",
    "            ),\n",
    "        ]\n",
    "    )\n",
    "    return forecaster"
   ]
  },
  {
   "cell_type": "code",
   "execution_count": 63,
   "id": "changing-africa",
   "metadata": {},
   "outputs": [],
   "source": [
    "# #----------------------------Create Pipeline--------------------\n",
    "# def get_transformed_target_forecaster(alpha,params):\n",
    "    \n",
    "#     #Initialize Light GBM Regressor \n",
    "    \n",
    "#     regressor = lgb.LGBMRegressor(alpha = alpha,**params)\n",
    "# #-----------------------Forecaster Pipeline-----------------\n",
    "    \n",
    "#     #1.Separate the Seasonal Component.\n",
    "#     #2.Fit a forecaster for the trend.\n",
    "#     #3.Fit a Autoregressor to the resdiual(autoregressing on four historic values).\n",
    "    \n",
    "#     forecaster = TransformedTargetForecaster(\n",
    "#         [\n",
    "#             (\"deseasonalise\", Deseasonalizer(model=\"multiplicative\", sp=25)),\n",
    "#             (\"detrend\", Detrender(forecaster=PolynomialTrendForecaster(degree=1))),\n",
    "#             (\n",
    "#                 # Recursive strategy for Multi-Step Ahead Forecast.\n",
    "#                 # Auto Regress on four previous values\n",
    "#                 \"forecast\",\n",
    "#                 ReducedRegressionForecaster(\n",
    "#                     regressor=regressor, window_length=4, strategy=\"recursive\",\n",
    "#                 ),\n",
    "#             ),\n",
    "#         ]\n",
    "#     )\n",
    "#     return forecaster"
   ]
  },
  {
   "cell_type": "code",
   "execution_count": 7,
   "id": "healthy-democracy",
   "metadata": {},
   "outputs": [],
   "source": [
    "from sklearn.linear_model import TweedieRegressor\n",
    "from sklearn.linear_model import SGDRegressor\n",
    "from sklearn.ensemble import GradientBoostingRegressor\n",
    "from sklearn.ensemble import ExtraTreesRegressor\n",
    "from sklearn.linear_model import ElasticNet"
   ]
  },
  {
   "cell_type": "code",
   "execution_count": 8,
   "id": "descending-destruction",
   "metadata": {},
   "outputs": [],
   "source": [
    "\n",
    "rfg = RandomForestRegressor( random_state=0)\n",
    "\n",
    "\n",
    "BR = linear_model.BayesianRidge()\n",
    "\n",
    "\n",
    "Lasso = linear_model.Lasso(alpha=0.1)\n",
    "\n",
    "\n",
    "XGB = xgb.XGBRegressor(objective ='reg:squarederror',n_estimators=1000)\n",
    "\n",
    "\n",
    "lgbm = lgb.LGBMRegressor()\n",
    "\n",
    "\n",
    "SVR = svm.SVR(kernel='rbf', C=100, gamma=0.1, epsilon=.1)\n",
    "\n",
    "\n",
    "KNN = KNeighborsRegressor(n_neighbors=2)\n",
    "\n",
    "\n",
    "Tweedie = TweedieRegressor()\n",
    "\n",
    "SGD = SGDRegressor()\n",
    "\n",
    "GBDT = GradientBoostingRegressor()\n",
    "\n",
    "ExtraTree = ExtraTreesRegressor()\n",
    "\n",
    "EN = ElasticNet()\n",
    "\n",
    "rgs = [rfg, BR, Lasso, XGB, lgbm, SVR, KNN, Tweedie , GBDT, ExtraTree, EN]\n",
    "names = ['rfg', 'BR', 'Lasso', 'XGB', 'lgbm', 'SVR', 'KNN', 'Tweedie', 'GBDT', 'ExtraTree', 'EN']"
   ]
  },
  {
   "cell_type": "code",
   "execution_count": 11,
   "id": "identified-speaker",
   "metadata": {},
   "outputs": [],
   "source": [
    "rgs = [rfg, BR, Lasso, XGB, lgbm, SVR, KNN, Tweedie , GBDT, ExtraTree, EN]\n",
    "names = ['rfg', 'BR', 'Lasso', 'XGB', 'lgbm', 'SVR', 'KNN', 'Tweedie', 'GBDT', 'ExtraTree', 'EN']"
   ]
  },
  {
   "cell_type": "code",
   "execution_count": 12,
   "id": "beginning-steal",
   "metadata": {},
   "outputs": [],
   "source": [
    "from pytorch_forecasting.metrics import QuantileLoss, MultiLoss"
   ]
  },
  {
   "cell_type": "code",
   "execution_count": null,
   "id": "novel-tribune",
   "metadata": {},
   "outputs": [],
   "source": []
  },
  {
   "cell_type": "raw",
   "id": "mexican-mozambique",
   "metadata": {
    "scrolled": true
   },
   "source": [
    "mse_list = []\n",
    "for window in tqdm(range(4,6)):\n",
    "    mse_sublist = []\n",
    "\n",
    "    for i in range(len(rgs)):\n",
    "#         if i ==6:\n",
    "        regressor = rgs[i]\n",
    "        name = names[i]\n",
    "        forecaster = ReducedRegressionForecaster(\n",
    "        regressor=regressor, window_length=window, strategy=\"recursive\"\n",
    "        )\n",
    "        fh = ForecastingHorizon(y_test.index, is_relative=False)\n",
    "        forecaster.fit(y_train)\n",
    "        y_pred = forecaster.predict(fh)\n",
    "        mse = ((y_test - y_pred) ** 2).mean()\n",
    "        mse_sublist.append(mse)\n",
    "\n",
    "        print(names[i], 'RMSE: {}'.format(round(np.sqrt(mse), 2)))\n",
    "    mse_list.append(np.sqrt(np.array(mse_sublist)))"
   ]
  },
  {
   "cell_type": "code",
   "execution_count": null,
   "id": "intermediate-wichita",
   "metadata": {},
   "outputs": [],
   "source": [
    "mse_list = []\n",
    "for\n",
    "for i in tqdm(range(len(rgs))):\n",
    "    regressor = rgs[i]\n",
    "    name = names[i]\n",
    "    forecaster = ReducedRegressionForecaster(\n",
    "    regressor=regressor, window_length=5, strategy=\"recursive\"\n",
    "    )\n",
    "    fh = ForecastingHorizon(y_test.index, is_relative=False)\n",
    "    forecaster.fit(y_train)\n",
    "    y_pred = forecaster.predict(fh)\n",
    "    mse = ((y_test - y_pred) ** 2).mean()\n",
    "    mse_list.append(mse)\n",
    "    \n",
    "    print(names[i], 'RMSE: {}'.format(round(np.sqrt(mse), 2)))"
   ]
  },
  {
   "cell_type": "code",
   "execution_count": 10,
   "id": "valued-family",
   "metadata": {},
   "outputs": [
    {
     "name": "stderr",
     "output_type": "stream",
     "text": [
      "  9%|███████▌                                                                           | 1/11 [00:04<00:43,  4.32s/it]"
     ]
    },
    {
     "name": "stdout",
     "output_type": "stream",
     "text": [
      "rfg RMSE: nan\n"
     ]
    },
    {
     "name": "stderr",
     "output_type": "stream",
     "text": [
      "\r",
      " 18%|███████████████                                                                    | 2/11 [00:06<00:25,  2.87s/it]"
     ]
    },
    {
     "name": "stdout",
     "output_type": "stream",
     "text": [
      "BR RMSE: nan\n"
     ]
    },
    {
     "name": "stderr",
     "output_type": "stream",
     "text": [
      "\r",
      " 27%|██████████████████████▋                                                            | 3/11 [00:08<00:19,  2.40s/it]"
     ]
    },
    {
     "name": "stdout",
     "output_type": "stream",
     "text": [
      "Lasso RMSE: nan\n"
     ]
    },
    {
     "name": "stderr",
     "output_type": "stream",
     "text": [
      "\r",
      " 36%|██████████████████████████████▏                                                    | 4/11 [00:16<00:33,  4.77s/it]"
     ]
    },
    {
     "name": "stdout",
     "output_type": "stream",
     "text": [
      "XGB RMSE: nan\n"
     ]
    },
    {
     "name": "stderr",
     "output_type": "stream",
     "text": [
      "\r",
      " 45%|█████████████████████████████████████▋                                             | 5/11 [00:18<00:22,  3.73s/it]"
     ]
    },
    {
     "name": "stdout",
     "output_type": "stream",
     "text": [
      "lgbm RMSE: nan\n"
     ]
    },
    {
     "name": "stderr",
     "output_type": "stream",
     "text": [
      "\r",
      " 55%|█████████████████████████████████████████████▎                                     | 6/11 [00:25<00:23,  4.77s/it]"
     ]
    },
    {
     "name": "stdout",
     "output_type": "stream",
     "text": [
      "SVR RMSE: nan\n"
     ]
    },
    {
     "name": "stderr",
     "output_type": "stream",
     "text": [
      "\r",
      " 64%|████████████████████████████████████████████████████▊                              | 7/11 [00:27<00:15,  3.88s/it]"
     ]
    },
    {
     "name": "stdout",
     "output_type": "stream",
     "text": [
      "KNN RMSE: nan\n"
     ]
    },
    {
     "name": "stderr",
     "output_type": "stream",
     "text": [
      "\r",
      " 73%|████████████████████████████████████████████████████████████▎                      | 8/11 [00:29<00:09,  3.27s/it]"
     ]
    },
    {
     "name": "stdout",
     "output_type": "stream",
     "text": [
      "Tweedie RMSE: nan\n"
     ]
    },
    {
     "name": "stderr",
     "output_type": "stream",
     "text": [
      "\r",
      " 82%|███████████████████████████████████████████████████████████████████▉               | 9/11 [00:31<00:06,  3.13s/it]"
     ]
    },
    {
     "name": "stdout",
     "output_type": "stream",
     "text": [
      "GBDT RMSE: nan\n"
     ]
    },
    {
     "name": "stderr",
     "output_type": "stream",
     "text": [
      "\r",
      " 91%|██████████████████████████████████████████████████████████████████████████▌       | 10/11 [00:35<00:03,  3.41s/it]"
     ]
    },
    {
     "name": "stdout",
     "output_type": "stream",
     "text": [
      "ExtraTree RMSE: nan\n"
     ]
    },
    {
     "name": "stderr",
     "output_type": "stream",
     "text": [
      "100%|██████████████████████████████████████████████████████████████████████████████████| 11/11 [00:37<00:00,  3.44s/it]"
     ]
    },
    {
     "name": "stdout",
     "output_type": "stream",
     "text": [
      "EN RMSE: nan\n"
     ]
    },
    {
     "name": "stderr",
     "output_type": "stream",
     "text": [
      "\n"
     ]
    }
   ],
   "source": [
    "mse_list = []\n",
    "for i in tqdm(range(len(rgs))):\n",
    "    regressor = rgs[i]\n",
    "    name = names[i]\n",
    "    forecaster = ReducedRegressionForecaster(\n",
    "    regressor=regressor, window_length=5, strategy=\"recursive\"\n",
    "    )\n",
    "    fh = ForecastingHorizon(y_test.index, is_relative=False)\n",
    "    forecaster.fit(y_train)\n",
    "    y_pred = forecaster.predict(fh)\n",
    "    mse = ((y_test - y_pred) ** 2).mean()\n",
    "    mse_list.append(mse)\n",
    "    \n",
    "    print(names[i], 'RMSE: {}'.format(round(np.sqrt(mse), 2)))"
   ]
  },
  {
   "cell_type": "code",
   "execution_count": 12,
   "id": "unlimited-settle",
   "metadata": {},
   "outputs": [
    {
     "name": "stderr",
     "output_type": "stream",
     "text": [
      "  8%|██████▉                                                                            | 1/12 [00:04<00:49,  4.46s/it]"
     ]
    },
    {
     "name": "stdout",
     "output_type": "stream",
     "text": [
      "rfg RMSE: 36.51\n"
     ]
    },
    {
     "name": "stderr",
     "output_type": "stream",
     "text": [
      "\r",
      " 17%|█████████████▊                                                                     | 2/12 [00:06<00:28,  2.81s/it]"
     ]
    },
    {
     "name": "stdout",
     "output_type": "stream",
     "text": [
      "BR RMSE: 29.39\n"
     ]
    },
    {
     "name": "stderr",
     "output_type": "stream",
     "text": [
      "\r",
      " 25%|████████████████████▊                                                              | 3/12 [00:07<00:21,  2.33s/it]"
     ]
    },
    {
     "name": "stdout",
     "output_type": "stream",
     "text": [
      "Lasso RMSE: 29.39\n"
     ]
    },
    {
     "name": "stderr",
     "output_type": "stream",
     "text": [
      "\r",
      " 33%|███████████████████████████▋                                                       | 4/12 [00:14<00:31,  3.92s/it]"
     ]
    },
    {
     "name": "stdout",
     "output_type": "stream",
     "text": [
      "XGB RMSE: 42.37\n"
     ]
    },
    {
     "name": "stderr",
     "output_type": "stream",
     "text": [
      "\r",
      " 42%|██████████████████████████████████▌                                                | 5/12 [00:16<00:22,  3.21s/it]"
     ]
    },
    {
     "name": "stdout",
     "output_type": "stream",
     "text": [
      "lgbm RMSE: 37.79\n"
     ]
    },
    {
     "name": "stderr",
     "output_type": "stream",
     "text": [
      "\r",
      " 50%|█████████████████████████████████████████▌                                         | 6/12 [00:22<00:26,  4.38s/it]"
     ]
    },
    {
     "name": "stdout",
     "output_type": "stream",
     "text": [
      "SVR RMSE: 34.07\n"
     ]
    },
    {
     "name": "stderr",
     "output_type": "stream",
     "text": [
      "\r",
      " 58%|████████████████████████████████████████████████▍                                  | 7/12 [00:24<00:17,  3.51s/it]"
     ]
    },
    {
     "name": "stdout",
     "output_type": "stream",
     "text": [
      "KNN RMSE: 36.19\n"
     ]
    },
    {
     "name": "stderr",
     "output_type": "stream",
     "text": [
      "\r",
      " 67%|███████████████████████████████████████████████████████▎                           | 8/12 [00:26<00:11,  2.97s/it]"
     ]
    },
    {
     "name": "stdout",
     "output_type": "stream",
     "text": [
      "Tweedie RMSE: 29.39\n"
     ]
    },
    {
     "name": "stderr",
     "output_type": "stream",
     "text": [
      "\r",
      " 75%|██████████████████████████████████████████████████████████████▎                    | 9/12 [00:28<00:07,  2.66s/it]"
     ]
    },
    {
     "name": "stdout",
     "output_type": "stream",
     "text": [
      "SGD RMSE: inf\n"
     ]
    },
    {
     "name": "stderr",
     "output_type": "stream",
     "text": [
      "\r",
      " 83%|████████████████████████████████████████████████████████████████████▎             | 10/12 [00:30<00:05,  2.62s/it]"
     ]
    },
    {
     "name": "stdout",
     "output_type": "stream",
     "text": [
      "GBDT RMSE: 37.7\n"
     ]
    },
    {
     "name": "stderr",
     "output_type": "stream",
     "text": [
      "\r",
      " 92%|███████████████████████████████████████████████████████████████████████████▏      | 11/12 [00:34<00:02,  2.83s/it]"
     ]
    },
    {
     "name": "stdout",
     "output_type": "stream",
     "text": [
      "ExtraTree RMSE: 36.5\n"
     ]
    },
    {
     "name": "stderr",
     "output_type": "stream",
     "text": [
      "100%|██████████████████████████████████████████████████████████████████████████████████| 12/12 [00:36<00:00,  3.01s/it]"
     ]
    },
    {
     "name": "stdout",
     "output_type": "stream",
     "text": [
      "EN RMSE: 29.37\n"
     ]
    },
    {
     "name": "stderr",
     "output_type": "stream",
     "text": [
      "\n"
     ]
    }
   ],
   "source": [
    "mse_list = []\n",
    "for i in tqdm(range(len(rgs))):\n",
    "    regressor = rgs[i]\n",
    "    name = names[i]\n",
    "    forecaster = ReducedRegressionForecaster(\n",
    "    regressor=regressor, window_length=5, strategy=\"recursive\"\n",
    "    )\n",
    "    fh = ForecastingHorizon(y_test.index, is_relative=False)\n",
    "    forecaster.fit(y_train)\n",
    "    y_pred = forecaster.predict(fh)\n",
    "    mse = ((y_test - y_pred) ** 2).mean()\n",
    "    mse_list.append(mse)\n",
    "    \n",
    "    print(names[i], 'RMSE: {}'.format(round(np.sqrt(mse), 2)))"
   ]
  },
  {
   "cell_type": "code",
   "execution_count": null,
   "id": "supported-pipeline",
   "metadata": {},
   "outputs": [],
   "source": [
    "lgb.LGBMRegressor()"
   ]
  },
  {
   "cell_type": "code",
   "execution_count": 97,
   "id": "described-alliance",
   "metadata": {},
   "outputs": [
    {
     "name": "stdout",
     "output_type": "stream",
     "text": [
      "[LightGBM] [Warning] feature_fraction is set=0.5, colsample_bytree=1.0 will be ignored. Current value: feature_fraction=0.5\n",
      "[LightGBM] [Warning] min_data_in_leaf is set=4095, min_child_samples=20 will be ignored. Current value: min_data_in_leaf=4095\n",
      "The Root Mean Squared Error of our forecasts is nan\n"
     ]
    }
   ],
   "source": [
    "from sklearn.neighbors import KNeighborsRegressor\n",
    "lgb_params = {\n",
    "                'boosting_type': 'gbdt',\n",
    "                'objective': 'tweedie',\n",
    "                'tweedie_variance_power': 1.1,\n",
    "                'metric': 'rmse',\n",
    "                'subsample': 0.5,\n",
    "                'subsample_freq': 1,\n",
    "                'learning_rate': 0.03,\n",
    "                'num_leaves': 2**11-1,\n",
    "                'min_data_in_leaf': 2**12-1,\n",
    "                'feature_fraction': 0.5,\n",
    "                'max_bin': 100,\n",
    "                'n_estimators': 1400,\n",
    "                'boost_from_average': False,\n",
    "                'verbose': -1,\n",
    "            } \n",
    "\n",
    "regressor = lgb.LGBMRegressor(**lgb_params)\n",
    "forecaster = ReducedRegressionForecaster(\n",
    "    regressor=regressor, window_length=5, strategy=\"recursive\"\n",
    ")\n",
    "fh = ForecastingHorizon(y_test.index, is_relative=False)\n",
    "forecaster.fit(y_train)\n",
    "y_pred = forecaster.predict(fh)\n",
    "mse = ((y_test - y_pred) ** 2).mean()\n",
    "\n",
    "print('The Root Mean Squared Error of our forecasts is {}'.format(round(np.sqrt(mse), 2)))"
   ]
  },
  {
   "cell_type": "code",
   "execution_count": 102,
   "id": "pediatric-puppy",
   "metadata": {},
   "outputs": [
    {
     "name": "stdout",
     "output_type": "stream",
     "text": [
      "The Root Mean Squared Error of our forecasts is 1440.8\n"
     ]
    }
   ],
   "source": [
    "from sktime.forecasting.ets import AutoETS\n",
    "\n",
    "forecaster = AutoETS(auto=True, sp=25, n_jobs=-1)\n",
    "fh = ForecastingHorizon(y_test.index, is_relative=False)\n",
    "forecaster.fit(y_train)\n",
    "y_pred = forecaster.predict(fh)\n",
    "mse = ((y_test - y_pred) ** 2).mean()\n",
    "\n",
    "print('The Root Mean Squared Error of our forecasts is {}'.format(round(np.sqrt(mse), 2)))"
   ]
  },
  {
   "cell_type": "code",
   "execution_count": 103,
   "id": "nominated-relaxation",
   "metadata": {},
   "outputs": [
    {
     "name": "stdout",
     "output_type": "stream",
     "text": [
      "The Root Mean Squared Error of our forecasts is 20.58\n"
     ]
    }
   ],
   "source": [
    "from sklearn.neighbors import KNeighborsRegressor\n",
    "\n",
    "regressor = KNeighborsRegressor()\n",
    "forecaster = ReducedRegressionForecaster(\n",
    "    regressor=regressor, window_length=5, strategy=\"recursive\"\n",
    ")\n",
    "fh = ForecastingHorizon(y_test.index, is_relative=False)\n",
    "forecaster.fit(y_train)\n",
    "y_pred = forecaster.predict(fh)\n",
    "mse = ((y_test - y_pred) ** 2).mean()\n",
    "\n",
    "print('The Root Mean Squared Error of our forecasts is {}'.format(round(np.sqrt(mse), 2)))"
   ]
  },
  {
   "cell_type": "code",
   "execution_count": 107,
   "id": "suspended-merchant",
   "metadata": {},
   "outputs": [
    {
     "data": {
      "text/plain": [
       "ForecastingHorizon(['2020-11-16', '2020-11-17', '2020-11-18', '2020-11-19',\n",
       "             '2020-11-20', '2020-11-21', '2020-11-23', '2020-11-24',\n",
       "             '2020-11-25', '2020-11-26', '2020-11-27', '2020-11-28',\n",
       "             '2020-11-30', '2020-12-01'],\n",
       "            dtype='period[D]', name='date', freq='D', is_relative=False)"
      ]
     },
     "execution_count": 107,
     "metadata": {},
     "output_type": "execute_result"
    }
   ],
   "source": []
  },
  {
   "cell_type": "code",
   "execution_count": 108,
   "id": "computational-criterion",
   "metadata": {},
   "outputs": [
    {
     "ename": "ValueError",
     "evalue": "The forecasting horizon `fh` must be passed to `fit`, but none was found. This is because fitting of the `DirectRegressionForecaster` depends on `fh`. ",
     "output_type": "error",
     "traceback": [
      "\u001b[1;31m---------------------------------------------------------------------------\u001b[0m",
      "\u001b[1;31mValueError\u001b[0m                                Traceback (most recent call last)",
      "\u001b[1;32m<ipython-input-108-d87b1622316c>\u001b[0m in \u001b[0;36m<module>\u001b[1;34m\u001b[0m\n\u001b[0;32m      6\u001b[0m )\n\u001b[0;32m      7\u001b[0m \u001b[0mfh\u001b[0m \u001b[1;33m=\u001b[0m \u001b[0mForecastingHorizon\u001b[0m\u001b[1;33m(\u001b[0m\u001b[0my_test\u001b[0m\u001b[1;33m.\u001b[0m\u001b[0mindex\u001b[0m\u001b[1;33m,\u001b[0m \u001b[0mis_relative\u001b[0m\u001b[1;33m=\u001b[0m\u001b[1;32mFalse\u001b[0m\u001b[1;33m)\u001b[0m\u001b[1;33m\u001b[0m\u001b[1;33m\u001b[0m\u001b[0m\n\u001b[1;32m----> 8\u001b[1;33m \u001b[0mforecaster\u001b[0m\u001b[1;33m.\u001b[0m\u001b[0mfit\u001b[0m\u001b[1;33m(\u001b[0m\u001b[0my_train\u001b[0m\u001b[1;33m)\u001b[0m\u001b[1;33m\u001b[0m\u001b[1;33m\u001b[0m\u001b[0m\n\u001b[0m\u001b[0;32m      9\u001b[0m \u001b[0my_pred\u001b[0m \u001b[1;33m=\u001b[0m \u001b[0mforecaster\u001b[0m\u001b[1;33m.\u001b[0m\u001b[0mpredict\u001b[0m\u001b[1;33m(\u001b[0m\u001b[0mfh\u001b[0m\u001b[1;33m)\u001b[0m\u001b[1;33m\u001b[0m\u001b[1;33m\u001b[0m\u001b[0m\n\u001b[0;32m     10\u001b[0m \u001b[0mmse\u001b[0m \u001b[1;33m=\u001b[0m \u001b[1;33m(\u001b[0m\u001b[1;33m(\u001b[0m\u001b[0my_test\u001b[0m \u001b[1;33m-\u001b[0m \u001b[0my_pred\u001b[0m\u001b[1;33m)\u001b[0m \u001b[1;33m**\u001b[0m \u001b[1;36m2\u001b[0m\u001b[1;33m)\u001b[0m\u001b[1;33m.\u001b[0m\u001b[0mmean\u001b[0m\u001b[1;33m(\u001b[0m\u001b[1;33m)\u001b[0m\u001b[1;33m\u001b[0m\u001b[1;33m\u001b[0m\u001b[0m\n",
      "\u001b[1;32m~\\anaconda3\\envs\\TSA\\lib\\site-packages\\sktime\\forecasting\\compose\\_reduce.py\u001b[0m in \u001b[0;36mfit\u001b[1;34m(self, y, X, fh)\u001b[0m\n\u001b[0;32m    210\u001b[0m         \u001b[1;32mif\u001b[0m \u001b[0mX\u001b[0m \u001b[1;32mis\u001b[0m \u001b[1;32mnot\u001b[0m \u001b[1;32mNone\u001b[0m\u001b[1;33m:\u001b[0m\u001b[1;33m\u001b[0m\u001b[1;33m\u001b[0m\u001b[0m\n\u001b[0;32m    211\u001b[0m             \u001b[1;32mraise\u001b[0m \u001b[0mNotImplementedError\u001b[0m\u001b[1;33m(\u001b[0m\u001b[1;33m)\u001b[0m\u001b[1;33m\u001b[0m\u001b[1;33m\u001b[0m\u001b[0m\n\u001b[1;32m--> 212\u001b[1;33m         \u001b[0mself\u001b[0m\u001b[1;33m.\u001b[0m\u001b[0m_set_fh\u001b[0m\u001b[1;33m(\u001b[0m\u001b[0mfh\u001b[0m\u001b[1;33m)\u001b[0m\u001b[1;33m\u001b[0m\u001b[1;33m\u001b[0m\u001b[0m\n\u001b[0m\u001b[0;32m    213\u001b[0m         \u001b[1;32mif\u001b[0m \u001b[0mlen\u001b[0m\u001b[1;33m(\u001b[0m\u001b[0mself\u001b[0m\u001b[1;33m.\u001b[0m\u001b[0mfh\u001b[0m\u001b[1;33m.\u001b[0m\u001b[0mto_in_sample\u001b[0m\u001b[1;33m(\u001b[0m\u001b[0mself\u001b[0m\u001b[1;33m.\u001b[0m\u001b[0mcutoff\u001b[0m\u001b[1;33m)\u001b[0m\u001b[1;33m)\u001b[0m \u001b[1;33m>\u001b[0m \u001b[1;36m0\u001b[0m\u001b[1;33m:\u001b[0m\u001b[1;33m\u001b[0m\u001b[1;33m\u001b[0m\u001b[0m\n\u001b[0;32m    214\u001b[0m             \u001b[1;32mraise\u001b[0m \u001b[0mNotImplementedError\u001b[0m\u001b[1;33m(\u001b[0m\u001b[1;34m\"In-sample predictions are not implemented\"\u001b[0m\u001b[1;33m)\u001b[0m\u001b[1;33m\u001b[0m\u001b[1;33m\u001b[0m\u001b[0m\n",
      "\u001b[1;32m~\\anaconda3\\envs\\TSA\\lib\\site-packages\\sktime\\forecasting\\base\\_sktime.py\u001b[0m in \u001b[0;36m_set_fh\u001b[1;34m(self, fh)\u001b[0m\n\u001b[0;32m    548\u001b[0m                     \u001b[1;34m\"The forecasting horizon `fh` must be passed to \"\u001b[0m\u001b[1;33m\u001b[0m\u001b[1;33m\u001b[0m\u001b[0m\n\u001b[0;32m    549\u001b[0m                     \u001b[1;34m\"`fit`, \"\u001b[0m\u001b[1;33m\u001b[0m\u001b[1;33m\u001b[0m\u001b[0m\n\u001b[1;32m--> 550\u001b[1;33m                     \u001b[1;34m\"but none was found. \"\u001b[0m \u001b[1;33m+\u001b[0m \u001b[0mmsg\u001b[0m\u001b[1;33m\u001b[0m\u001b[1;33m\u001b[0m\u001b[0m\n\u001b[0m\u001b[0;32m    551\u001b[0m                 )\n\u001b[0;32m    552\u001b[0m         \u001b[1;32melse\u001b[0m\u001b[1;33m:\u001b[0m\u001b[1;33m\u001b[0m\u001b[1;33m\u001b[0m\u001b[0m\n",
      "\u001b[1;31mValueError\u001b[0m: The forecasting horizon `fh` must be passed to `fit`, but none was found. This is because fitting of the `DirectRegressionForecaster` depends on `fh`. "
     ]
    }
   ],
   "source": [
    "from sktime.forecasting.compose import DirectRegressionForecaster\n",
    "\n",
    "regressor = KNeighborsRegressor()\n",
    "forecaster = DirectRegressionForecaster(\n",
    "    regressor=regressor, window_length=5\n",
    ")\n",
    "fh = ForecastingHorizon(y_test.index, is_relative=False)\n",
    "forecaster.fit(y_train)\n",
    "y_pred = forecaster.predict(fh)\n",
    "mse = ((y_test - y_pred) ** 2).mean()\n",
    "\n",
    "print('The Root Mean Squared Error of our forecasts is {}'.format(round(np.sqrt(mse), 2)))"
   ]
  },
  {
   "cell_type": "code",
   "execution_count": 68,
   "id": "expanded-mechanism",
   "metadata": {},
   "outputs": [
    {
     "name": "stdout",
     "output_type": "stream",
     "text": [
      "[LightGBM] [Warning] feature_fraction is set=0.5, colsample_bytree=1.0 will be ignored. Current value: feature_fraction=0.5\n",
      "[LightGBM] [Warning] min_data_in_leaf is set=4095, min_child_samples=20 will be ignored. Current value: min_data_in_leaf=4095\n"
     ]
    }
   ],
   "source": [
    "#-------------------Fitting an Auto Regressive Light-GBM------------\n",
    "#Setting Quantile Regression Hyper-parameter.\n",
    "# params = {\n",
    "#     'objective':'quantile'\n",
    "# }\n",
    "\n",
    "#Iterate for each quantile.\n",
    "\n",
    "forecaster = get_transformed_target_forecaster()\n",
    "\n",
    "#Initialize ForecastingHorizon class to specify the horizon of forecast\n",
    "fh = ForecastingHorizon(y_test.index, is_relative=False)\n",
    "\n",
    "#Fit on Training data.\n",
    "forecaster.fit(y_train)\n",
    "\n",
    "#Forecast the values.\n",
    "y_pred = forecaster.predict(fh)"
   ]
  },
  {
   "cell_type": "code",
   "execution_count": 69,
   "id": "sharing-highlight",
   "metadata": {},
   "outputs": [
    {
     "name": "stdout",
     "output_type": "stream",
     "text": [
      "The Root Mean Squared Error of our forecasts is 34.34\n"
     ]
    }
   ],
   "source": [
    "mse = ((y_test - y_pred) ** 2).mean()\n",
    "\n",
    "print('The Root Mean Squared Error of our forecasts is {}'.format(round(np.sqrt(mse), 2)))"
   ]
  },
  {
   "cell_type": "code",
   "execution_count": 52,
   "id": "incorporate-clark",
   "metadata": {},
   "outputs": [
    {
     "name": "stdout",
     "output_type": "stream",
     "text": [
      "The Root Mean Squared Error of our forecasts is 36.29\n"
     ]
    }
   ],
   "source": [
    "mse = ((y_test - y_pred) ** 2).mean()\n",
    "\n",
    "print('The Root Mean Squared Error of our forecasts is {}'.format(round(np.sqrt(mse), 2)))"
   ]
  },
  {
   "cell_type": "code",
   "execution_count": 51,
   "id": "female-pathology",
   "metadata": {},
   "outputs": [
    {
     "data": {
      "text/plain": [
       "date\n",
       "2020-11-16     80.7\n",
       "2020-11-17    116.6\n",
       "2020-11-18    103.3\n",
       "2020-11-19     93.6\n",
       "2020-11-20    100.5\n",
       "2020-11-21    113.7\n",
       "2020-11-23    137.7\n",
       "2020-11-24    140.7\n",
       "2020-11-25    169.4\n",
       "2020-11-26    134.9\n",
       "2020-11-27    111.8\n",
       "2020-11-28    166.7\n",
       "2020-11-30    122.4\n",
       "2020-12-01    200.5\n",
       "Freq: D, Name: ave, dtype: float64"
      ]
     },
     "execution_count": 51,
     "metadata": {},
     "output_type": "execute_result"
    }
   ],
   "source": [
    "y_test"
   ]
  },
  {
   "cell_type": "code",
   "execution_count": 49,
   "id": "becoming-ground",
   "metadata": {},
   "outputs": [
    {
     "data": {
      "text/plain": [
       "2020-11-16     96.085985\n",
       "2020-11-17    100.421574\n",
       "2020-11-18    102.885921\n",
       "2020-11-19    101.348329\n",
       "2020-11-20    104.221539\n",
       "2020-11-21    107.136200\n",
       "2020-11-23    109.174803\n",
       "2020-11-24    109.174803\n",
       "2020-11-25    109.382608\n",
       "2020-11-26    109.382608\n",
       "2020-11-27    109.382608\n",
       "2020-11-28    109.382608\n",
       "2020-11-30    109.382608\n",
       "2020-12-01    109.382608\n",
       "Freq: D, dtype: float64"
      ]
     },
     "execution_count": 49,
     "metadata": {},
     "output_type": "execute_result"
    }
   ],
   "source": [
    "y_pred"
   ]
  },
  {
   "cell_type": "code",
   "execution_count": 34,
   "id": "amended-salmon",
   "metadata": {},
   "outputs": [],
   "source": [
    "#-------------------Fitting an Auto Regressive Light-GBM------------\n",
    "#Setting Quantile Regression Hyper-parameter.\n",
    "params = {\n",
    "    'objective':'quantile'\n",
    "}\n",
    "#A 10 percent and 90 percent prediction interval(0.1,0.9 respectively).\n",
    "quantiles = [.1, .5, .9] #Hyper-parameter \"alpha\" in Light GBM\n",
    "#Capture forecasts for 10th/median/90th quantile, respectively.\n",
    "forecasts = []\n",
    "#Iterate for each quantile.\n",
    "for alpha in quantiles:\n",
    "    \n",
    "    forecaster = get_transformed_target_forecaster(alpha,params)\n",
    "    \n",
    "    #Initialize ForecastingHorizon class to specify the horizon of forecast\n",
    "    fh = ForecastingHorizon(y_test.index, is_relative=False)\n",
    "    \n",
    "    #Fit on Training data.\n",
    "    forecaster.fit(y_train)\n",
    "    \n",
    "    #Forecast the values.\n",
    "    y_pred = forecaster.predict(fh)\n",
    "    \n",
    "    #List of forecasts made for each quantile.\n",
    "    y_pred.index.name=\"date\"\n",
    "    y_pred.name=f\"predicted_sales_q_{alpha}\"\n",
    "    forecasts.append(y_pred)\n",
    "    \n",
    "#Append the actual data for plotting.\n",
    "store1_agg_monthly.index.name = \"date\"\n",
    "store1_agg_monthly.name = \"original\"\n",
    "forecasts.append(store1_agg_monthly)"
   ]
  },
  {
   "cell_type": "code",
   "execution_count": 36,
   "id": "civic-catholic",
   "metadata": {},
   "outputs": [],
   "source": [
    "plot_data = pd.melt(pd.concat(forecasts,axis=1).reset_index(), id_vars=['date'],\\\n",
    "        value_vars=['predicted_sales_q_0.1', 'predicted_sales_q_0.5',\n",
    "                   'predicted_sales_q_0.9','original'])\n",
    "plot_data['date'] = pd.to_datetime(plot_data['date'].astype(str).to_numpy())\n",
    "plot_data['if_original'] = plot_data['variable'].apply(\n",
    "    lambda r:'original' if r=='original' else 'predicted' \n",
    ")"
   ]
  },
  {
   "cell_type": "code",
   "execution_count": 21,
   "id": "pressed-ownership",
   "metadata": {},
   "outputs": [
    {
     "data": {
      "image/png": "[encoded data removed]",
      "text/plain": [
       "<Figure size 1296x576 with 1 Axes>"
      ]
     },
     "metadata": {
      "needs_background": "light"
     },
     "output_type": "display_data"
    }
   ],
   "source": [
    "#-------------------Final Plotting of Forecasts------------------\n",
    "\n",
    "plot_data = pd.melt(pd.concat(forecasts,axis=1).reset_index(), id_vars=['date'],\\\n",
    "        value_vars=['predicted_sales_q_0.1', 'predicted_sales_q_0.5',\n",
    "                   'predicted_sales_q_0.9','original'])\n",
    "plot_data['date'] = pd.to_datetime(plot_data['date'].astype(str).to_numpy())\n",
    "plot_data['if_original'] = plot_data['variable'].apply(\n",
    "    lambda r:'original' if r=='original' else 'predicted' \n",
    ")\n",
    "sns.lineplot(data = plot_data,\n",
    "        x='date',\n",
    "        y='value',\n",
    "        hue='if_original',\n",
    "             style=\"if_original\",\n",
    "        markers=['o','o'],\n",
    ")\n",
    "plt.title(\"Final Forecast\")\n",
    "plt.show()"
   ]
  }
 ],
 "metadata": {
  "kernelspec": {
   "display_name": "Python 3",
   "language": "python",
   "name": "python3"
  },
  "language_info": {
   "codemirror_mode": {
    "name": "ipython",
    "version": 3
   },
   "file_extension": ".py",
   "mimetype": "text/x-python",
   "name": "python",
   "nbconvert_exporter": "python",
   "pygments_lexer": "ipython3",
   "version": "3.8.8"
  }
 },
 "nbformat": 4,
 "nbformat_minor": 5
}
