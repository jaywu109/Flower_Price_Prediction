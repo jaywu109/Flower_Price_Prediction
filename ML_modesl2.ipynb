{
 "cells": [
  {
   "cell_type": "code",
   "execution_count": 1,
   "metadata": {},
   "outputs": [
    {
     "name": "stderr",
     "output_type": "stream",
     "text": [
      "Importing plotly failed. Interactive plots will not work.\n"
     ]
    },
    {
     "name": "stdout",
     "output_type": "stream",
     "text": [
      "2.4.0\n"
     ]
    }
   ],
   "source": [
    "import matplotlib.pyplot as plt\n",
    "import matplotlib as mpl\n",
    "import pandas as pd #Basic library for all of our dataset operations\n",
    "import numpy as np\n",
    "import requests\n",
    "import io\n",
    "import statsmodels.tsa.api as smt\n",
    "import statsmodels as sm\n",
    "import tensorflow as tf\n",
    "import pmdarima as pm\n",
    "import warnings\n",
    "import xgboost as xgb\n",
    "\n",
    "import lightgbm as lgb\n",
    "import gluonts\n",
    "from math import sqrt\n",
    "import warnings\n",
    "warnings.filterwarnings('ignore')\n",
    "# # import shap\n",
    "# # warnings.filterwarnings(\"ignore\") #We will use deprecated models of statmodels which throw a lot of warnings to use more modern ones\n",
    "\n",
    "from utils.metrics import evaluate\n",
    "from utils.plots import bar_metrics\n",
    "\n",
    "from statsmodels.tsa.ar_model import AR\n",
    "from random import random\n",
    "from datetime import datetime\n",
    "from fbprophet import Prophet\n",
    "from statsmodels.tsa.seasonal import seasonal_decompose\n",
    "from statsmodels.graphics.tsaplots import plot_acf,plot_pacf\n",
    "from statsmodels.tsa.stattools import adfuller\n",
    "from statsmodels.tsa.holtwinters import SimpleExpSmoothing, ExponentialSmoothing\n",
    "from sklearn import linear_model, svm\n",
    "from sklearn.linear_model import LinearRegression\n",
    "from sklearn.ensemble import RandomForestRegressor\n",
    "from sklearn.neighbors import KNeighborsRegressor\n",
    "from sklearn.preprocessing import MinMaxScaler, StandardScaler\n",
    "from sklearn.metrics import mean_squared_error, mean_absolute_error, make_scorer\n",
    "from sklearn.model_selection import cross_val_score, GridSearchCV\n",
    "from math import sqrt\n",
    "from xgboost import plot_importance, plot_tree\n",
    "from statsmodels.tsa.arima_model import ARIMA\n",
    "from gluonts.model.deepar import DeepAREstimator\n",
    "from gluonts.trainer import Trainer\n",
    "from gluonts.dataset.common import ListDataset\n",
    "from gluonts.evaluation.backtest import make_evaluation_predictions\n",
    "from itertools import islice\n",
    "from pylab import rcParams\n",
    "# progress bar\n",
    "from tqdm import tqdm, tqdm_notebook\n",
    "# from bayes_opt import BayesianOptimization\n",
    "\n",
    "\n",
    "#Extra settings\n",
    "seed = 42\n",
    "tf.random.set_seed(seed)\n",
    "np.random.seed(seed)\n",
    "plt.style.use('bmh')\n",
    "mpl.rcParams['axes.labelsize'] = 14\n",
    "mpl.rcParams['xtick.labelsize'] = 12\n",
    "mpl.rcParams['ytick.labelsize'] = 12\n",
    "mpl.rcParams['text.color'] = 'k'\n",
    "print(tf.__version__)"
   ]
  },
  {
   "cell_type": "code",
   "execution_count": 7,
   "metadata": {},
   "outputs": [
    {
     "data": {
      "text/html": [
       "<div>\n",
       "<style scoped>\n",
       "    .dataframe tbody tr th:only-of-type {\n",
       "        vertical-align: middle;\n",
       "    }\n",
       "\n",
       "    .dataframe tbody tr th {\n",
       "        vertical-align: top;\n",
       "    }\n",
       "\n",
       "    .dataframe thead th {\n",
       "        text-align: right;\n",
       "    }\n",
       "</style>\n",
       "<table border=\"1\" class=\"dataframe\">\n",
       "  <thead>\n",
       "    <tr style=\"text-align: right;\">\n",
       "      <th></th>\n",
       "      <th>highest</th>\n",
       "      <th>high</th>\n",
       "      <th>mid</th>\n",
       "      <th>low</th>\n",
       "      <th>ave</th>\n",
       "      <th>volume</th>\n",
       "    </tr>\n",
       "    <tr>\n",
       "      <th>date</th>\n",
       "      <th></th>\n",
       "      <th></th>\n",
       "      <th></th>\n",
       "      <th></th>\n",
       "      <th></th>\n",
       "      <th></th>\n",
       "    </tr>\n",
       "  </thead>\n",
       "  <tbody>\n",
       "    <tr>\n",
       "      <th>1998-12-01</th>\n",
       "      <td>195</td>\n",
       "      <td>131</td>\n",
       "      <td>77</td>\n",
       "      <td>59</td>\n",
       "      <td>84.0</td>\n",
       "      <td>327</td>\n",
       "    </tr>\n",
       "    <tr>\n",
       "      <th>1998-12-02</th>\n",
       "      <td>165</td>\n",
       "      <td>144</td>\n",
       "      <td>111</td>\n",
       "      <td>93</td>\n",
       "      <td>113.0</td>\n",
       "      <td>456</td>\n",
       "    </tr>\n",
       "    <tr>\n",
       "      <th>1998-12-03</th>\n",
       "      <td>204</td>\n",
       "      <td>160</td>\n",
       "      <td>82</td>\n",
       "      <td>65</td>\n",
       "      <td>94.0</td>\n",
       "      <td>432</td>\n",
       "    </tr>\n",
       "    <tr>\n",
       "      <th>1998-12-04</th>\n",
       "      <td>189</td>\n",
       "      <td>161</td>\n",
       "      <td>114</td>\n",
       "      <td>80</td>\n",
       "      <td>116.0</td>\n",
       "      <td>583</td>\n",
       "    </tr>\n",
       "    <tr>\n",
       "      <th>1998-12-06</th>\n",
       "      <td>181</td>\n",
       "      <td>157</td>\n",
       "      <td>90</td>\n",
       "      <td>55</td>\n",
       "      <td>96.0</td>\n",
       "      <td>1052</td>\n",
       "    </tr>\n",
       "    <tr>\n",
       "      <th>...</th>\n",
       "      <td>...</td>\n",
       "      <td>...</td>\n",
       "      <td>...</td>\n",
       "      <td>...</td>\n",
       "      <td>...</td>\n",
       "      <td>...</td>\n",
       "    </tr>\n",
       "    <tr>\n",
       "      <th>2020-11-26</th>\n",
       "      <td>201</td>\n",
       "      <td>201</td>\n",
       "      <td>137</td>\n",
       "      <td>67</td>\n",
       "      <td>134.9</td>\n",
       "      <td>97</td>\n",
       "    </tr>\n",
       "    <tr>\n",
       "      <th>2020-11-27</th>\n",
       "      <td>170</td>\n",
       "      <td>170</td>\n",
       "      <td>112</td>\n",
       "      <td>52</td>\n",
       "      <td>111.8</td>\n",
       "      <td>176</td>\n",
       "    </tr>\n",
       "    <tr>\n",
       "      <th>2020-11-28</th>\n",
       "      <td>171</td>\n",
       "      <td>171</td>\n",
       "      <td>170</td>\n",
       "      <td>152</td>\n",
       "      <td>166.7</td>\n",
       "      <td>81</td>\n",
       "    </tr>\n",
       "    <tr>\n",
       "      <th>2020-11-30</th>\n",
       "      <td>172</td>\n",
       "      <td>171</td>\n",
       "      <td>119</td>\n",
       "      <td>82</td>\n",
       "      <td>122.4</td>\n",
       "      <td>88</td>\n",
       "    </tr>\n",
       "    <tr>\n",
       "      <th>2020-12-01</th>\n",
       "      <td>212</td>\n",
       "      <td>212</td>\n",
       "      <td>199</td>\n",
       "      <td>190</td>\n",
       "      <td>200.5</td>\n",
       "      <td>23</td>\n",
       "    </tr>\n",
       "  </tbody>\n",
       "</table>\n",
       "<p>6644 rows × 6 columns</p>\n",
       "</div>"
      ],
      "text/plain": [
       "            highest  high  mid  low    ave  volume\n",
       "date                                              \n",
       "1998-12-01      195   131   77   59   84.0     327\n",
       "1998-12-02      165   144  111   93  113.0     456\n",
       "1998-12-03      204   160   82   65   94.0     432\n",
       "1998-12-04      189   161  114   80  116.0     583\n",
       "1998-12-06      181   157   90   55   96.0    1052\n",
       "...             ...   ...  ...  ...    ...     ...\n",
       "2020-11-26      201   201  137   67  134.9      97\n",
       "2020-11-27      170   170  112   52  111.8     176\n",
       "2020-11-28      171   171  170  152  166.7      81\n",
       "2020-11-30      172   171  119   82  122.4      88\n",
       "2020-12-01      212   212  199  190  200.5      23\n",
       "\n",
       "[6644 rows x 6 columns]"
      ]
     },
     "execution_count": 7,
     "metadata": {},
     "output_type": "execute_result"
    }
   ],
   "source": [
    "raw_col = ['date', 'highest', 'high', 'mid', 'low', 'ave', 'ave_dif', 'volume', 'vol_dif', 'resid']\n",
    "raw = pd.read_csv('FS443.csv',names=raw_col).drop(['ave_dif', 'vol_dif', 'resid'], axis=1)\n",
    "for i in range(raw.shape[0]):\n",
    "    raw.volume[i] = int(raw.volume[i].split(' ')[0].replace(',', ''))\n",
    "raw.volume = raw.volume.values.astype('int')\n",
    "\n",
    "ts_date = raw.copy().date\n",
    "for itr in range(raw.shape[0]):\n",
    "    date = raw.date[itr].split('/')\n",
    "    date[0] = str(int(date[0]) + 1911)\n",
    "    result = '/'.join(date)\n",
    "    ts_date[itr] =  np.datetime64(datetime.strptime(result, \"%Y/%m/%d\").date())\n",
    "    \n",
    "\n",
    "\n",
    "ts = raw.copy()\n",
    "ts.date = ts_date\n",
    "ts['date'] = pd.to_datetime(ts['date'], errors='coerce')\n",
    "ts = ts.set_index('date')\n",
    "ts.index = pd.to_datetime(ts.index)\n",
    "ts"
   ]
  },
  {
   "cell_type": "code",
   "execution_count": 38,
   "metadata": {},
   "outputs": [],
   "source": [
    "df = ts.copy()\n",
    "df['date'] = ts.index\n",
    "df['hour'] = df['date'].dt.hour.astype(int)\n",
    "df['dayofweek'] = df['date'].dt.dayofweek.astype(int)\n",
    "df['quarter'] = df['date'].dt.quarter.astype(int)\n",
    "df['month'] = df['date'].dt.month.astype(int)\n",
    "df['year'] = df['date'].dt.year.astype(int)\n",
    "df['dayofyear'] = df['date'].dt.dayofyear.astype(int)\n",
    "df['dayofmonth'] = df['date'].dt.day.astype(int)\n",
    "df['weekofyear'] = df['date'].dt.weekofyear.astype(int)\n",
    "df = df.drop(['hour','date'], axis=1)"
   ]
  },
  {
   "cell_type": "code",
   "execution_count": 4,
   "metadata": {},
   "outputs": [],
   "source": [
    "import tensorflow as tf"
   ]
  },
  {
   "cell_type": "code",
   "execution_count": 50,
   "metadata": {},
   "outputs": [
    {
     "data": {
      "text/html": [
       "<div>\n",
       "<style scoped>\n",
       "    .dataframe tbody tr th:only-of-type {\n",
       "        vertical-align: middle;\n",
       "    }\n",
       "\n",
       "    .dataframe tbody tr th {\n",
       "        vertical-align: top;\n",
       "    }\n",
       "\n",
       "    .dataframe thead th {\n",
       "        text-align: right;\n",
       "    }\n",
       "</style>\n",
       "<table border=\"1\" class=\"dataframe\">\n",
       "  <thead>\n",
       "    <tr style=\"text-align: right;\">\n",
       "      <th></th>\n",
       "      <th>highest</th>\n",
       "      <th>high</th>\n",
       "      <th>mid</th>\n",
       "      <th>low</th>\n",
       "      <th>ave</th>\n",
       "      <th>volume</th>\n",
       "      <th>dayofweek</th>\n",
       "      <th>quarter</th>\n",
       "      <th>month</th>\n",
       "      <th>year</th>\n",
       "      <th>dayofyear</th>\n",
       "      <th>dayofmonth</th>\n",
       "      <th>weekofyear</th>\n",
       "    </tr>\n",
       "    <tr>\n",
       "      <th>date</th>\n",
       "      <th></th>\n",
       "      <th></th>\n",
       "      <th></th>\n",
       "      <th></th>\n",
       "      <th></th>\n",
       "      <th></th>\n",
       "      <th></th>\n",
       "      <th></th>\n",
       "      <th></th>\n",
       "      <th></th>\n",
       "      <th></th>\n",
       "      <th></th>\n",
       "      <th></th>\n",
       "    </tr>\n",
       "  </thead>\n",
       "  <tbody>\n",
       "    <tr>\n",
       "      <th>1998-12-01</th>\n",
       "      <td>195</td>\n",
       "      <td>131</td>\n",
       "      <td>77</td>\n",
       "      <td>59</td>\n",
       "      <td>84.0</td>\n",
       "      <td>327</td>\n",
       "      <td>1</td>\n",
       "      <td>4</td>\n",
       "      <td>12</td>\n",
       "      <td>1998</td>\n",
       "      <td>335</td>\n",
       "      <td>1</td>\n",
       "      <td>49</td>\n",
       "    </tr>\n",
       "    <tr>\n",
       "      <th>1998-12-02</th>\n",
       "      <td>165</td>\n",
       "      <td>144</td>\n",
       "      <td>111</td>\n",
       "      <td>93</td>\n",
       "      <td>113.0</td>\n",
       "      <td>456</td>\n",
       "      <td>2</td>\n",
       "      <td>4</td>\n",
       "      <td>12</td>\n",
       "      <td>1998</td>\n",
       "      <td>336</td>\n",
       "      <td>2</td>\n",
       "      <td>49</td>\n",
       "    </tr>\n",
       "    <tr>\n",
       "      <th>1998-12-03</th>\n",
       "      <td>204</td>\n",
       "      <td>160</td>\n",
       "      <td>82</td>\n",
       "      <td>65</td>\n",
       "      <td>94.0</td>\n",
       "      <td>432</td>\n",
       "      <td>3</td>\n",
       "      <td>4</td>\n",
       "      <td>12</td>\n",
       "      <td>1998</td>\n",
       "      <td>337</td>\n",
       "      <td>3</td>\n",
       "      <td>49</td>\n",
       "    </tr>\n",
       "    <tr>\n",
       "      <th>1998-12-04</th>\n",
       "      <td>189</td>\n",
       "      <td>161</td>\n",
       "      <td>114</td>\n",
       "      <td>80</td>\n",
       "      <td>116.0</td>\n",
       "      <td>583</td>\n",
       "      <td>4</td>\n",
       "      <td>4</td>\n",
       "      <td>12</td>\n",
       "      <td>1998</td>\n",
       "      <td>338</td>\n",
       "      <td>4</td>\n",
       "      <td>49</td>\n",
       "    </tr>\n",
       "    <tr>\n",
       "      <th>1998-12-06</th>\n",
       "      <td>181</td>\n",
       "      <td>157</td>\n",
       "      <td>90</td>\n",
       "      <td>55</td>\n",
       "      <td>96.0</td>\n",
       "      <td>1052</td>\n",
       "      <td>6</td>\n",
       "      <td>4</td>\n",
       "      <td>12</td>\n",
       "      <td>1998</td>\n",
       "      <td>340</td>\n",
       "      <td>6</td>\n",
       "      <td>49</td>\n",
       "    </tr>\n",
       "    <tr>\n",
       "      <th>1998-12-07</th>\n",
       "      <td>184</td>\n",
       "      <td>175</td>\n",
       "      <td>108</td>\n",
       "      <td>67</td>\n",
       "      <td>113.0</td>\n",
       "      <td>566</td>\n",
       "      <td>0</td>\n",
       "      <td>4</td>\n",
       "      <td>12</td>\n",
       "      <td>1998</td>\n",
       "      <td>341</td>\n",
       "      <td>7</td>\n",
       "      <td>50</td>\n",
       "    </tr>\n",
       "    <tr>\n",
       "      <th>1998-12-08</th>\n",
       "      <td>195</td>\n",
       "      <td>190</td>\n",
       "      <td>162</td>\n",
       "      <td>121</td>\n",
       "      <td>159.0</td>\n",
       "      <td>538</td>\n",
       "      <td>1</td>\n",
       "      <td>4</td>\n",
       "      <td>12</td>\n",
       "      <td>1998</td>\n",
       "      <td>342</td>\n",
       "      <td>8</td>\n",
       "      <td>50</td>\n",
       "    </tr>\n",
       "    <tr>\n",
       "      <th>1998-12-09</th>\n",
       "      <td>195</td>\n",
       "      <td>191</td>\n",
       "      <td>143</td>\n",
       "      <td>82</td>\n",
       "      <td>140.0</td>\n",
       "      <td>615</td>\n",
       "      <td>2</td>\n",
       "      <td>4</td>\n",
       "      <td>12</td>\n",
       "      <td>1998</td>\n",
       "      <td>343</td>\n",
       "      <td>9</td>\n",
       "      <td>50</td>\n",
       "    </tr>\n",
       "    <tr>\n",
       "      <th>1998-12-10</th>\n",
       "      <td>191</td>\n",
       "      <td>190</td>\n",
       "      <td>171</td>\n",
       "      <td>133</td>\n",
       "      <td>166.0</td>\n",
       "      <td>307</td>\n",
       "      <td>3</td>\n",
       "      <td>4</td>\n",
       "      <td>12</td>\n",
       "      <td>1998</td>\n",
       "      <td>344</td>\n",
       "      <td>10</td>\n",
       "      <td>50</td>\n",
       "    </tr>\n",
       "    <tr>\n",
       "      <th>1998-12-11</th>\n",
       "      <td>195</td>\n",
       "      <td>191</td>\n",
       "      <td>155</td>\n",
       "      <td>76</td>\n",
       "      <td>146.0</td>\n",
       "      <td>471</td>\n",
       "      <td>4</td>\n",
       "      <td>4</td>\n",
       "      <td>12</td>\n",
       "      <td>1998</td>\n",
       "      <td>345</td>\n",
       "      <td>11</td>\n",
       "      <td>50</td>\n",
       "    </tr>\n",
       "  </tbody>\n",
       "</table>\n",
       "</div>"
      ],
      "text/plain": [
       "            highest  high  mid  low    ave  volume  dayofweek  quarter  month  \\\n",
       "date                                                                            \n",
       "1998-12-01      195   131   77   59   84.0     327          1        4     12   \n",
       "1998-12-02      165   144  111   93  113.0     456          2        4     12   \n",
       "1998-12-03      204   160   82   65   94.0     432          3        4     12   \n",
       "1998-12-04      189   161  114   80  116.0     583          4        4     12   \n",
       "1998-12-06      181   157   90   55   96.0    1052          6        4     12   \n",
       "1998-12-07      184   175  108   67  113.0     566          0        4     12   \n",
       "1998-12-08      195   190  162  121  159.0     538          1        4     12   \n",
       "1998-12-09      195   191  143   82  140.0     615          2        4     12   \n",
       "1998-12-10      191   190  171  133  166.0     307          3        4     12   \n",
       "1998-12-11      195   191  155   76  146.0     471          4        4     12   \n",
       "\n",
       "            year  dayofyear  dayofmonth  weekofyear  \n",
       "date                                                 \n",
       "1998-12-01  1998        335           1          49  \n",
       "1998-12-02  1998        336           2          49  \n",
       "1998-12-03  1998        337           3          49  \n",
       "1998-12-04  1998        338           4          49  \n",
       "1998-12-06  1998        340           6          49  \n",
       "1998-12-07  1998        341           7          50  \n",
       "1998-12-08  1998        342           8          50  \n",
       "1998-12-09  1998        343           9          50  \n",
       "1998-12-10  1998        344          10          50  \n",
       "1998-12-11  1998        345          11          50  "
      ]
     },
     "execution_count": 50,
     "metadata": {},
     "output_type": "execute_result"
    }
   ],
   "source": [
    "df.head(10)"
   ]
  },
  {
   "cell_type": "code",
   "execution_count": 80,
   "metadata": {},
   "outputs": [],
   "source": [
    "def window_dataset(ts,df,window_size):\n",
    "    w = window_size\n",
    "    \n",
    "    \n",
    "    dataset = tf.data.Dataset.from_tensor_slices(df.values)\n",
    "    dataset = dataset.window(w, shift=1, drop_remainder=True)\n",
    "    dataset = dataset.flat_map(lambda window: window.batch(w))\n",
    "    dataset = dataset.map(lambda window: (window[:-1], window[-1:]))\n",
    "    target = []\n",
    "    x_date = []\n",
    "    for x,y in dataset:\n",
    "\n",
    "        x_date.append(y.numpy()[0,[6,7,8,9,10,11,12]])\n",
    "        target.append(y.numpy()[0,4])\n",
    "\n",
    "\n",
    "    dataset = tf.data.Dataset.from_tensor_slices(ts.values)\n",
    "    dataset = dataset.window(w, shift=1, drop_remainder=True)\n",
    "    dataset = dataset.flat_map(lambda window: window.batch(w))\n",
    "    dataset = dataset.map(lambda window: (window[:-1], window[-1:]))\n",
    "    x_ser = []\n",
    "    for x,y in dataset:\n",
    "        x_ser.append(x.numpy().ravel())\n",
    "        \n",
    "    x = []\n",
    "    for i in range(len(x_ser)):\n",
    "        x.append(np.concatenate((x_ser[i], x_date[i]), axis=0))\n",
    "\n",
    "    return np.array(x), np.array(target)"
   ]
  },
  {
   "cell_type": "code",
   "execution_count": 101,
   "metadata": {},
   "outputs": [],
   "source": [
    "def window_dataset_nodate(ts,df,window_size):\n",
    "    w = window_size\n",
    "    \n",
    "    \n",
    "    dataset = tf.data.Dataset.from_tensor_slices(df.values)\n",
    "    dataset = dataset.window(w, shift=1, drop_remainder=True)\n",
    "    dataset = dataset.flat_map(lambda window: window.batch(w))\n",
    "    dataset = dataset.map(lambda window: (window[:-1], window[-1:]))\n",
    "    target = []\n",
    "    x_date = []\n",
    "    for x,y in dataset:\n",
    "\n",
    "\n",
    "        target.append(y.numpy()[0,4])\n",
    "\n",
    "\n",
    "    dataset = tf.data.Dataset.from_tensor_slices(ts.values)\n",
    "    dataset = dataset.window(w, shift=1, drop_remainder=True)\n",
    "    dataset = dataset.flat_map(lambda window: window.batch(w))\n",
    "    dataset = dataset.map(lambda window: (window[:-1], window[-1:]))\n",
    "    x_ser = []\n",
    "    for x,y in dataset:\n",
    "        x_ser.append(x.numpy().ravel())\n",
    "        \n",
    "\n",
    "    return np.array(x_ser), np.array(target)"
   ]
  },
  {
   "cell_type": "code",
   "execution_count": null,
   "metadata": {},
   "outputs": [],
   "source": []
  },
  {
   "cell_type": "code",
   "execution_count": null,
   "metadata": {},
   "outputs": [],
   "source": []
  },
  {
   "cell_type": "markdown",
   "metadata": {},
   "source": [
    "### Univariate_machine learning window size = 5"
   ]
  },
  {
   "cell_type": "code",
   "execution_count": 74,
   "metadata": {},
   "outputs": [],
   "source": [
    "dataset = tf.data.Dataset.from_tensor_slices(train.ave.values)\n",
    "dataset = dataset.window(5, shift=1, drop_remainder=True)\n",
    "dataset = dataset.flat_map(lambda window: window.batch(5))\n",
    "dataset = dataset.map(lambda window: (window[:-1], window[-1:]))\n",
    "dataset = dataset.shuffle(buffer_size=10)\n",
    "train_x = []\n",
    "train_y = []\n",
    "for x,y in dataset:\n",
    "    train_x.append(x.numpy())\n",
    "    train_y.append(y.numpy())\n"
   ]
  },
  {
   "cell_type": "code",
   "execution_count": 75,
   "metadata": {},
   "outputs": [],
   "source": [
    "dataset = tf.data.Dataset.from_tensor_slices(ts[-18:].ave) #20 = 14 + (5-1) -> windows size -1\n",
    "dataset = dataset.window(5, shift=1, drop_remainder=True)\n",
    "dataset = dataset.flat_map(lambda window: window.batch(5))\n",
    "dataset = dataset.map(lambda window: (window[:-1], window[-1:]))\n",
    "dataset = dataset.shuffle(buffer_size=10)\n",
    "test_x = []\n",
    "test_y = []\n",
    "for x,y in dataset:\n",
    "    test_x.append(x.numpy())\n",
    "    test_y.append(y.numpy())\n"
   ]
  },
  {
   "cell_type": "code",
   "execution_count": 76,
   "metadata": {},
   "outputs": [
    {
     "name": "stdout",
     "output_type": "stream",
     "text": [
      "The Root Mean Squared Error of our forecasts is 38.75\n"
     ]
    }
   ],
   "source": [
    "\n",
    "reg = RandomForestRegressor( random_state=0)\n",
    "reg.fit(train_x, train_y)\n",
    "yhat = reg.predict(test_x)\n",
    "\n",
    "mse = ((np.array(test_y) - np.array(yhat)) ** 2).mean()\n",
    "\n",
    "print('The Root Mean Squared Error of our forecasts is {}'.format(round(np.sqrt(mse), 2)))"
   ]
  },
  {
   "cell_type": "code",
   "execution_count": 77,
   "metadata": {},
   "outputs": [
    {
     "name": "stdout",
     "output_type": "stream",
     "text": [
      "The Root Mean Squared Error of our forecasts is 39.12\n"
     ]
    }
   ],
   "source": [
    "reg = linear_model.BayesianRidge()\n",
    "reg.fit(train_x, train_y)\n",
    "yhat = reg.predict(test_x)\n",
    "\n",
    "mse = ((np.array(test_y) - np.array(yhat)) ** 2).mean()\n",
    "\n",
    "print('The Root Mean Squared Error of our forecasts is {}'.format(round(np.sqrt(mse), 2)))"
   ]
  },
  {
   "cell_type": "code",
   "execution_count": 78,
   "metadata": {},
   "outputs": [
    {
     "name": "stdout",
     "output_type": "stream",
     "text": [
      "The Root Mean Squared Error of our forecasts is 39.12\n"
     ]
    }
   ],
   "source": [
    "reg = linear_model.Lasso(alpha=0.1)\n",
    "reg.fit(train_x, train_y)\n",
    "yhat = reg.predict(test_x)\n",
    "\n",
    "mse = ((np.array(test_y) - np.array(yhat)) ** 2).mean()\n",
    "\n",
    "print('The Root Mean Squared Error of our forecasts is {}'.format(round(np.sqrt(mse), 2)))"
   ]
  },
  {
   "cell_type": "code",
   "execution_count": 80,
   "metadata": {},
   "outputs": [
    {
     "name": "stdout",
     "output_type": "stream",
     "text": [
      "The Root Mean Squared Error of our forecasts is 39.99\n"
     ]
    }
   ],
   "source": [
    "reg = xgb.XGBRegressor(objective ='reg:squarederror',n_estimators=1000)\n",
    "reg.fit(np.array(train_x), np.array(train_y),\n",
    "       verbose=False)\n",
    "yhat = reg.predict(np.array(test_x))\n",
    "mse = ((np.array(test_y) - np.array(yhat)) ** 2).mean()\n",
    "\n",
    "print('The Root Mean Squared Error of our forecasts is {}'.format(round(np.sqrt(mse), 2)))"
   ]
  },
  {
   "cell_type": "code",
   "execution_count": 81,
   "metadata": {},
   "outputs": [
    {
     "name": "stdout",
     "output_type": "stream",
     "text": [
      "The Root Mean Squared Error of our forecasts is 40.53\n"
     ]
    }
   ],
   "source": [
    "\n",
    "lightGBM = lgb.LGBMRegressor()\n",
    "lightGBM.fit(np.array(train_x), np.array(train_y))\n",
    "yhat = lightGBM.predict(np.array(test_x))\n",
    "\n",
    "mse = ((np.array(test_y) - np.array(yhat)) ** 2).mean()\n",
    "\n",
    "print('The Root Mean Squared Error of our forecasts is {}'.format(round(np.sqrt(mse), 2)))"
   ]
  },
  {
   "cell_type": "code",
   "execution_count": 82,
   "metadata": {},
   "outputs": [
    {
     "name": "stdout",
     "output_type": "stream",
     "text": [
      "The Root Mean Squared Error of our forecasts is 34.22\n"
     ]
    }
   ],
   "source": [
    "reg = svm.SVR(kernel='rbf', C=100, gamma=0.1, epsilon=.1)\n",
    "reg.fit(train_x, train_y)\n",
    "yhat = reg.predict(test_x)\n",
    "\n",
    "mse = ((np.array(test_y) - np.array(yhat)) ** 2).mean()\n",
    "\n",
    "print('The Root Mean Squared Error of our forecasts is {}'.format(round(np.sqrt(mse), 2)))"
   ]
  },
  {
   "cell_type": "code",
   "execution_count": 83,
   "metadata": {},
   "outputs": [
    {
     "name": "stdout",
     "output_type": "stream",
     "text": [
      "The Root Mean Squared Error of our forecasts is 28.69\n"
     ]
    }
   ],
   "source": [
    "reg = KNeighborsRegressor(n_neighbors=2)\n",
    "reg.fit(train_x, train_y)\n",
    "yhat = reg.predict(test_x)\n",
    "\n",
    "mse = ((np.array(test_y) - np.array(yhat)) ** 2).mean()\n",
    "\n",
    "print('The Root Mean Squared Error of our forecasts is {}'.format(round(np.sqrt(mse), 2)))"
   ]
  },
  {
   "cell_type": "code",
   "execution_count": null,
   "metadata": {},
   "outputs": [],
   "source": []
  },
  {
   "cell_type": "markdown",
   "metadata": {},
   "source": [
    "### Uni window size =10"
   ]
  },
  {
   "cell_type": "code",
   "execution_count": 99,
   "metadata": {},
   "outputs": [],
   "source": [
    "dataset = tf.data.Dataset.from_tensor_slices(train.ave.values)\n",
    "dataset = dataset.window(10, shift=1, drop_remainder=True)\n",
    "dataset = dataset.flat_map(lambda window: window.batch(10))\n",
    "dataset = dataset.map(lambda window: (window[:-1], window[-1:]))\n",
    "dataset = dataset.shuffle(buffer_size=10)\n",
    "train_x = []\n",
    "train_y = []\n",
    "for x,y in dataset:\n",
    "    train_x.append(x.numpy())\n",
    "    train_y.append(y.numpy())\n"
   ]
  },
  {
   "cell_type": "code",
   "execution_count": 100,
   "metadata": {},
   "outputs": [],
   "source": [
    "dataset = tf.data.Dataset.from_tensor_slices(ts[-23:].ave) #20 = 14 + (5-1) -> windows size -1\n",
    "dataset = dataset.window(10, shift=1, drop_remainder=True)\n",
    "dataset = dataset.flat_map(lambda window: window.batch(10))\n",
    "dataset = dataset.map(lambda window: (window[:-1], window[-1:]))\n",
    "dataset = dataset.shuffle(buffer_size=10)\n",
    "test_x = []\n",
    "test_y = []\n",
    "for x,y in dataset:\n",
    "    test_x.append(x.numpy())\n",
    "    test_y.append(y.numpy())\n"
   ]
  },
  {
   "cell_type": "code",
   "execution_count": 104,
   "metadata": {},
   "outputs": [
    {
     "name": "stdout",
     "output_type": "stream",
     "text": [
      "The Root Mean Squared Error of our forecasts is 38.81\n"
     ]
    }
   ],
   "source": [
    "reg = RandomForestRegressor( random_state=0)\n",
    "reg.fit(train_x, train_y)\n",
    "yhat = reg.predict(test_x)\n",
    "\n",
    "mse = ((np.array(test_y) - np.array(yhat)) ** 2).mean()\n",
    "\n",
    "print('The Root Mean Squared Error of our forecasts is {}'.format(round(np.sqrt(mse), 2)))\n"
   ]
  },
  {
   "cell_type": "code",
   "execution_count": 105,
   "metadata": {},
   "outputs": [
    {
     "name": "stdout",
     "output_type": "stream",
     "text": [
      "The Root Mean Squared Error of our forecasts is 38.91\n"
     ]
    }
   ],
   "source": [
    "reg = linear_model.BayesianRidge()\n",
    "reg.fit(train_x, train_y)\n",
    "yhat = reg.predict(test_x)\n",
    "\n",
    "mse = ((np.array(test_y) - np.array(yhat)) ** 2).mean()\n",
    "\n",
    "print('The Root Mean Squared Error of our forecasts is {}'.format(round(np.sqrt(mse), 2)))"
   ]
  },
  {
   "cell_type": "code",
   "execution_count": 106,
   "metadata": {},
   "outputs": [
    {
     "name": "stdout",
     "output_type": "stream",
     "text": [
      "The Root Mean Squared Error of our forecasts is 38.92\n"
     ]
    }
   ],
   "source": [
    "reg = linear_model.Lasso(alpha=0.1)\n",
    "reg.fit(train_x, train_y)\n",
    "yhat = reg.predict(test_x)\n",
    "\n",
    "mse = ((np.array(test_y) - np.array(yhat)) ** 2).mean()\n",
    "\n",
    "print('The Root Mean Squared Error of our forecasts is {}'.format(round(np.sqrt(mse), 2)))\n"
   ]
  },
  {
   "cell_type": "code",
   "execution_count": 107,
   "metadata": {},
   "outputs": [
    {
     "name": "stdout",
     "output_type": "stream",
     "text": [
      "The Root Mean Squared Error of our forecasts is 41.16\n"
     ]
    }
   ],
   "source": [
    "reg = xgb.XGBRegressor(objective ='reg:squarederror',n_estimators=1000)\n",
    "reg.fit(np.array(train_x), np.array(train_y),\n",
    "       verbose=False)\n",
    "yhat = reg.predict(np.array(test_x))\n",
    "mse = ((np.array(test_y) - np.array(yhat)) ** 2).mean()\n",
    "\n",
    "print('The Root Mean Squared Error of our forecasts is {}'.format(round(np.sqrt(mse), 2)))"
   ]
  },
  {
   "cell_type": "code",
   "execution_count": 108,
   "metadata": {},
   "outputs": [
    {
     "name": "stdout",
     "output_type": "stream",
     "text": [
      "The Root Mean Squared Error of our forecasts is 39.66\n"
     ]
    }
   ],
   "source": [
    "lightGBM = lgb.LGBMRegressor()\n",
    "lightGBM.fit(np.array(train_x), np.array(train_y))\n",
    "yhat = lightGBM.predict(np.array(test_x))\n",
    "\n",
    "mse = ((np.array(test_y) - np.array(yhat)) ** 2).mean()\n",
    "\n",
    "print('The Root Mean Squared Error of our forecasts is {}'.format(round(np.sqrt(mse), 2)))"
   ]
  },
  {
   "cell_type": "code",
   "execution_count": 109,
   "metadata": {},
   "outputs": [
    {
     "name": "stdout",
     "output_type": "stream",
     "text": [
      "The Root Mean Squared Error of our forecasts is 33.99\n"
     ]
    }
   ],
   "source": [
    "reg = svm.SVR(kernel='rbf', C=100, gamma=0.1, epsilon=.1)\n",
    "reg.fit(train_x, train_y)\n",
    "yhat = reg.predict(test_x)\n",
    "\n",
    "mse = ((np.array(test_y) - np.array(yhat)) ** 2).mean()\n",
    "\n",
    "print('The Root Mean Squared Error of our forecasts is {}'.format(round(np.sqrt(mse), 2)))"
   ]
  },
  {
   "cell_type": "code",
   "execution_count": 110,
   "metadata": {},
   "outputs": [
    {
     "name": "stdout",
     "output_type": "stream",
     "text": [
      "The Root Mean Squared Error of our forecasts is 28.46\n"
     ]
    }
   ],
   "source": [
    "reg = KNeighborsRegressor(n_neighbors=2)\n",
    "reg.fit(train_x, train_y)\n",
    "yhat = reg.predict(test_x)\n",
    "\n",
    "mse = ((np.array(test_y) - np.array(yhat)) ** 2).mean()\n",
    "\n",
    "print('The Root Mean Squared Error of our forecasts is {}'.format(round(np.sqrt(mse), 2)))"
   ]
  },
  {
   "cell_type": "code",
   "execution_count": null,
   "metadata": {},
   "outputs": [],
   "source": [
    "\n",
    "reg = RandomForestRegressor( random_state=0)\n",
    "reg.fit(train_x, train_y)\n",
    "yhat = reg.predict(test_x)\n",
    "\n",
    "mse = ((np.array(test_y) - np.array(yhat)) ** 2).mean()\n",
    "\n",
    "print('The Root Mean Squared Error of our forecasts is {}'.format(round(np.sqrt(mse), 2)))\n",
    "\n",
    "reg = linear_model.BayesianRidge()\n",
    "reg.fit(train_x, train_y)\n",
    "yhat = reg.predict(test_x)\n",
    "\n",
    "mse = ((np.array(test_y) - np.array(yhat)) ** 2).mean()\n",
    "\n",
    "print('The Root Mean Squared Error of our forecasts is {}'.format(round(np.sqrt(mse), 2)))\n",
    "\n",
    "reg = linear_model.Lasso(alpha=0.1)\n",
    "reg.fit(train_x, train_y)\n",
    "yhat = reg.predict(test_x)\n",
    "\n",
    "mse = ((np.array(test_y) - np.array(yhat)) ** 2).mean()\n",
    "\n",
    "print('The Root Mean Squared Error of our forecasts is {}'.format(round(np.sqrt(mse), 2)))\n",
    "\n",
    "reg = xgb.XGBRegressor(objective ='reg:squarederror',n_estimators=1000)\n",
    "reg.fit(np.array(train_x), np.array(train_y),\n",
    "       verbose=False)\n",
    "yhat = reg.predict(np.array(test_x))\n",
    "mse = ((np.array(test_y) - np.array(yhat)) ** 2).mean()\n",
    "\n",
    "print('The Root Mean Squared Error of our forecasts is {}'.format(round(np.sqrt(mse), 2)))\n",
    "\n",
    "\n",
    "lightGBM = lgb.LGBMRegressor()\n",
    "lightGBM.fit(np.array(train_x), np.array(train_y))\n",
    "yhat = lightGBM.predict(np.array(test_x))\n",
    "\n",
    "mse = ((np.array(test_y) - np.array(yhat)) ** 2).mean()\n",
    "\n",
    "print('The Root Mean Squared Error of our forecasts is {}'.format(round(np.sqrt(mse), 2)))\n",
    "\n",
    "reg = svm.SVR(kernel='rbf', C=100, gamma=0.1, epsilon=.1)\n",
    "reg.fit(train_x, train_y)\n",
    "yhat = reg.predict(test_x)\n",
    "\n",
    "mse = ((np.array(test_y) - np.array(yhat)) ** 2).mean()\n",
    "\n",
    "print('The Root Mean Squared Error of our forecasts is {}'.format(round(np.sqrt(mse), 2)))\n",
    "\n",
    "reg = KNeighborsRegressor(n_neighbors=2)\n",
    "reg.fit(train_x, train_y)\n",
    "yhat = reg.predict(test_x)\n",
    "\n",
    "mse = ((np.array(test_y) - np.array(yhat)) ** 2).mean()\n",
    "\n",
    "print('The Root Mean Squared Error of our forecasts is {}'.format(round(np.sqrt(mse), 2)))"
   ]
  },
  {
   "cell_type": "markdown",
   "metadata": {},
   "source": [
    "### Multivariate(only series)"
   ]
  },
  {
   "cell_type": "code",
   "execution_count": 119,
   "metadata": {},
   "outputs": [],
   "source": [
    "dataset = tf.data.Dataset.from_tensor_slices(train.values)\n",
    "dataset = dataset.window(5, shift=1, drop_remainder=True)\n",
    "dataset = dataset.flat_map(lambda window: window.batch(5))\n",
    "dataset = dataset.map(lambda window: (window[:-1], window[-1:]))\n",
    "dataset = dataset.shuffle(buffer_size=10)\n",
    "train_x = []\n",
    "train_y = []\n",
    "for x,y in dataset:\n",
    "    train_x.append(x.numpy().ravel())\n",
    "    train_y.append(y.numpy()[0,4])\n"
   ]
  },
  {
   "cell_type": "code",
   "execution_count": 120,
   "metadata": {},
   "outputs": [],
   "source": [
    "dataset = tf.data.Dataset.from_tensor_slices(ts[-18:].values)\n",
    "dataset = dataset.window(5, shift=1, drop_remainder=True)\n",
    "dataset = dataset.flat_map(lambda window: window.batch(5))\n",
    "dataset = dataset.map(lambda window: (window[:-1], window[-1:]))\n",
    "dataset = dataset.shuffle(buffer_size=10)\n",
    "test_x = []\n",
    "test_y = []\n",
    "for x,y in dataset:\n",
    "    test_x.append(x.numpy().ravel())\n",
    "    test_y.append(y.numpy()[0,4])\n"
   ]
  },
  {
   "cell_type": "code",
   "execution_count": 103,
   "metadata": {},
   "outputs": [
    {
     "name": "stdout",
     "output_type": "stream",
     "text": [
      "RF RMSE 23.0\n",
      "BayesianRidge RMSE 23.15\n",
      "Lasso RMSE 23.15\n",
      "XGB RMSE 24.8\n",
      "LGBM RMSE 23.45\n",
      "SVR RMSE 49.81\n",
      "KNN RMSE 32.2\n"
     ]
    }
   ],
   "source": [
    "\n",
    "\n",
    "x_df, y_df = window_dataset_nodate(ts,df,5)\n",
    "from sklearn.model_selection import cross_val_score\n",
    "\n",
    "clf = RandomForestRegressor(random_state=0)\n",
    "mse = -(cross_val_score(clf, x_df, y_df, cv=10, scoring='neg_mean_squared_error').mean())\n",
    "\n",
    "print('RF RMSE {}'.format(round(np.sqrt(mse), 2)))\n",
    "\n",
    "clf = linear_model.BayesianRidge()\n",
    "mse = -(cross_val_score(clf, x_df, y_df, cv=10, scoring='neg_mean_squared_error').mean())\n",
    "\n",
    "print('BayesianRidge RMSE {}'.format(round(np.sqrt(mse), 2)))\n",
    "\n",
    "clf = linear_model.Lasso(alpha=0.1)\n",
    "mse = -(cross_val_score(clf, x_df, y_df, cv=10, scoring='neg_mean_squared_error').mean())\n",
    "\n",
    "print('Lasso RMSE {}'.format(round(np.sqrt(mse), 2)))\n",
    "\n",
    "clf = xgb.XGBRegressor(objective ='reg:squarederror',n_estimators=1000, random_state =42)\n",
    "mse = -(cross_val_score(clf, x_df, y_df, cv=5, scoring='neg_mean_squared_error').mean())\n",
    "\n",
    "print('XGB RMSE {}'.format(round(np.sqrt(mse), 2)))\n",
    "\n",
    "clf = lgb.LGBMRegressor(random_state=42)\n",
    "mse = -(cross_val_score(clf, x_df, y_df, cv=5, scoring='neg_mean_squared_error').mean())\n",
    "\n",
    "print('LGBM RMSE {}'.format(round(np.sqrt(mse), 2)))\n",
    "\n",
    "clf = svm.SVR(kernel='rbf', C=100, gamma=0.1, epsilon=.1)\n",
    "mse = -(cross_val_score(clf, x_df, y_df, cv=5, scoring='neg_mean_squared_error').mean())\n",
    "\n",
    "print('SVR RMSE {}'.format(round(np.sqrt(mse), 2)))\n",
    "\n",
    "clf = KNeighborsRegressor(n_neighbors=2)\n",
    "mse = -(cross_val_score(clf, x_df, y_df, cv=5, scoring='neg_mean_squared_error').mean())\n",
    "\n",
    "print('KNN RMSE {}'.format(round(np.sqrt(mse), 2)))"
   ]
  },
  {
   "cell_type": "code",
   "execution_count": 81,
   "metadata": {},
   "outputs": [],
   "source": [
    "x_df, y_df = window_dataset(ts,df,5)\n",
    "from sklearn.model_selection import cross_val_score"
   ]
  },
  {
   "cell_type": "code",
   "execution_count": 92,
   "metadata": {
    "scrolled": true
   },
   "outputs": [
    {
     "name": "stdout",
     "output_type": "stream",
     "text": [
      "The Root Mean Squared Error of our forecasts is 23.0\n"
     ]
    }
   ],
   "source": [
    "clf = RandomForestRegressor(random_state=0)\n",
    "mse = -(cross_val_score(clf, x_df, y_df, cv=10, scoring='neg_mean_squared_error').mean())\n",
    "\n",
    "print('The Root Mean Squared Error of our forecasts is {}'.format(round(np.sqrt(mse), 2)))"
   ]
  },
  {
   "cell_type": "code",
   "execution_count": 93,
   "metadata": {},
   "outputs": [
    {
     "name": "stdout",
     "output_type": "stream",
     "text": [
      "The Root Mean Squared Error of our forecasts is 23.13\n"
     ]
    }
   ],
   "source": [
    "clf = linear_model.BayesianRidge()\n",
    "mse = -(cross_val_score(clf, x_df, y_df, cv=10, scoring='neg_mean_squared_error').mean())\n",
    "\n",
    "print('The Root Mean Squared Error of our forecasts is {}'.format(round(np.sqrt(mse), 2)))"
   ]
  },
  {
   "cell_type": "code",
   "execution_count": 94,
   "metadata": {},
   "outputs": [
    {
     "name": "stdout",
     "output_type": "stream",
     "text": [
      "The Root Mean Squared Error of our forecasts is 23.12\n"
     ]
    }
   ],
   "source": [
    "clf = linear_model.Lasso(alpha=0.1)\n",
    "mse = -(cross_val_score(clf, x_df, y_df, cv=10, scoring='neg_mean_squared_error').mean())\n",
    "\n",
    "print('The Root Mean Squared Error of our forecasts is {}'.format(round(np.sqrt(mse), 2)))"
   ]
  },
  {
   "cell_type": "code",
   "execution_count": 96,
   "metadata": {},
   "outputs": [
    {
     "name": "stdout",
     "output_type": "stream",
     "text": [
      "The Root Mean Squared Error of our forecasts is 24.67\n"
     ]
    }
   ],
   "source": [
    "clf = xgb.XGBRegressor(objective ='reg:squarederror',n_estimators=1000, random_state =42)\n",
    "mse = -(cross_val_score(clf, x_df, y_df, cv=5, scoring='neg_mean_squared_error').mean())\n",
    "\n",
    "print('The Root Mean Squared Error of our forecasts is {}'.format(round(np.sqrt(mse), 2)))"
   ]
  },
  {
   "cell_type": "code",
   "execution_count": 97,
   "metadata": {},
   "outputs": [
    {
     "name": "stdout",
     "output_type": "stream",
     "text": [
      "The Root Mean Squared Error of our forecasts is 23.34\n"
     ]
    }
   ],
   "source": [
    "clf = lgb.LGBMRegressor(random_state=42)\n",
    "mse = -(cross_val_score(clf, x_df, y_df, cv=5, scoring='neg_mean_squared_error').mean())\n",
    "\n",
    "print('The Root Mean Squared Error of our forecasts is {}'.format(round(np.sqrt(mse), 2)))"
   ]
  },
  {
   "cell_type": "code",
   "execution_count": 98,
   "metadata": {},
   "outputs": [
    {
     "name": "stdout",
     "output_type": "stream",
     "text": [
      "The Root Mean Squared Error of our forecasts is 49.81\n"
     ]
    }
   ],
   "source": [
    "clf = svm.SVR(kernel='rbf', C=100, gamma=0.1, epsilon=.1)\n",
    "mse = -(cross_val_score(clf, x_df, y_df, cv=5, scoring='neg_mean_squared_error').mean())\n",
    "\n",
    "print('The Root Mean Squared Error of our forecasts is {}'.format(round(np.sqrt(mse), 2)))"
   ]
  },
  {
   "cell_type": "code",
   "execution_count": 99,
   "metadata": {},
   "outputs": [
    {
     "name": "stdout",
     "output_type": "stream",
     "text": [
      "The Root Mean Squared Error of our forecasts is 32.88\n"
     ]
    }
   ],
   "source": [
    "clf = KNeighborsRegressor(n_neighbors=2)\n",
    "mse = -(cross_val_score(clf, x_df, y_df, cv=5, scoring='neg_mean_squared_error').mean())\n",
    "\n",
    "print('The Root Mean Squared Error of our forecasts is {}'.format(round(np.sqrt(mse), 2)))"
   ]
  },
  {
   "cell_type": "code",
   "execution_count": null,
   "metadata": {},
   "outputs": [],
   "source": []
  },
  {
   "cell_type": "markdown",
   "metadata": {},
   "source": [
    "### Multi window size =10"
   ]
  },
  {
   "cell_type": "code",
   "execution_count": 129,
   "metadata": {},
   "outputs": [],
   "source": [
    "dataset = tf.data.Dataset.from_tensor_slices(train.values)\n",
    "dataset = dataset.window(10, shift=1, drop_remainder=True)\n",
    "dataset = dataset.flat_map(lambda window: window.batch(10))\n",
    "dataset = dataset.map(lambda window: (window[:-1], window[-1:]))\n",
    "dataset = dataset.shuffle(buffer_size=10)\n",
    "train_x = []\n",
    "train_y = []\n",
    "for x,y in dataset:\n",
    "    train_x.append(x.numpy().ravel())\n",
    "    train_y.append(y.numpy()[0,4])\n"
   ]
  },
  {
   "cell_type": "code",
   "execution_count": 130,
   "metadata": {},
   "outputs": [],
   "source": [
    "dataset = tf.data.Dataset.from_tensor_slices(ts[-23:].values)\n",
    "dataset = dataset.window(10, shift=1, drop_remainder=True)\n",
    "dataset = dataset.flat_map(lambda window: window.batch(10))\n",
    "dataset = dataset.map(lambda window: (window[:-1], window[-1:]))\n",
    "dataset = dataset.shuffle(buffer_size=10)\n",
    "test_x = []\n",
    "test_y = []\n",
    "for x,y in dataset:\n",
    "    test_x.append(x.numpy().ravel())\n",
    "    test_y.append(y.numpy()[0,4])\n"
   ]
  },
  {
   "cell_type": "markdown",
   "metadata": {},
   "source": [
    "### no date"
   ]
  },
  {
   "cell_type": "code",
   "execution_count": 102,
   "metadata": {},
   "outputs": [
    {
     "name": "stdout",
     "output_type": "stream",
     "text": [
      "RF RMSE 23.13\n",
      "BayesianRidge RMSE 23.17\n",
      "Lasso RMSE 23.19\n",
      "XGB RMSE 24.61\n",
      "LGBM RMSE 23.46\n",
      "SVR RMSE 49.82\n",
      "KNN RMSE 37.67\n"
     ]
    }
   ],
   "source": [
    "\n",
    "\n",
    "x_df, y_df = window_dataset_nodate(ts,df,10)\n",
    "from sklearn.model_selection import cross_val_score\n",
    "\n",
    "clf = RandomForestRegressor(random_state=0)\n",
    "mse = -(cross_val_score(clf, x_df, y_df, cv=10, scoring='neg_mean_squared_error').mean())\n",
    "\n",
    "print('RF RMSE {}'.format(round(np.sqrt(mse), 2)))\n",
    "\n",
    "clf = linear_model.BayesianRidge()\n",
    "mse = -(cross_val_score(clf, x_df, y_df, cv=10, scoring='neg_mean_squared_error').mean())\n",
    "\n",
    "print('BayesianRidge RMSE {}'.format(round(np.sqrt(mse), 2)))\n",
    "\n",
    "clf = linear_model.Lasso(alpha=0.1)\n",
    "mse = -(cross_val_score(clf, x_df, y_df, cv=10, scoring='neg_mean_squared_error').mean())\n",
    "\n",
    "print('Lasso RMSE {}'.format(round(np.sqrt(mse), 2)))\n",
    "\n",
    "clf = xgb.XGBRegressor(objective ='reg:squarederror',n_estimators=1000, random_state =42)\n",
    "mse = -(cross_val_score(clf, x_df, y_df, cv=5, scoring='neg_mean_squared_error').mean())\n",
    "\n",
    "print('XGB RMSE {}'.format(round(np.sqrt(mse), 2)))\n",
    "\n",
    "clf = lgb.LGBMRegressor(random_state=42)\n",
    "mse = -(cross_val_score(clf, x_df, y_df, cv=5, scoring='neg_mean_squared_error').mean())\n",
    "\n",
    "print('LGBM RMSE {}'.format(round(np.sqrt(mse), 2)))\n",
    "\n",
    "clf = svm.SVR(kernel='rbf', C=100, gamma=0.1, epsilon=.1)\n",
    "mse = -(cross_val_score(clf, x_df, y_df, cv=5, scoring='neg_mean_squared_error').mean())\n",
    "\n",
    "print('SVR RMSE {}'.format(round(np.sqrt(mse), 2)))\n",
    "\n",
    "clf = KNeighborsRegressor(n_neighbors=2)\n",
    "mse = -(cross_val_score(clf, x_df, y_df, cv=5, scoring='neg_mean_squared_error').mean())\n",
    "\n",
    "print('KNN RMSE {}'.format(round(np.sqrt(mse), 2)))"
   ]
  },
  {
   "cell_type": "markdown",
   "metadata": {},
   "source": [
    "### with date"
   ]
  },
  {
   "cell_type": "code",
   "execution_count": 100,
   "metadata": {},
   "outputs": [
    {
     "name": "stdout",
     "output_type": "stream",
     "text": [
      "RF RMSE 23.09\n",
      "BayesianRidge RMSE 23.16\n",
      "Lasso RMSE 23.16\n",
      "XGB RMSE 24.66\n",
      "LGBM RMSE 23.27\n",
      "SVR RMSE 49.82\n",
      "KNN RMSE 37.86\n"
     ]
    }
   ],
   "source": [
    "x_df, y_df = window_dataset(ts,df,10)\n",
    "from sklearn.model_selection import cross_val_score\n",
    "\n",
    "clf = RandomForestRegressor(random_state=0)\n",
    "mse = -(cross_val_score(clf, x_df, y_df, cv=10, scoring='neg_mean_squared_error').mean())\n",
    "\n",
    "print('RF RMSE {}'.format(round(np.sqrt(mse), 2)))\n",
    "\n",
    "clf = linear_model.BayesianRidge()\n",
    "mse = -(cross_val_score(clf, x_df, y_df, cv=10, scoring='neg_mean_squared_error').mean())\n",
    "\n",
    "print('BayesianRidge RMSE {}'.format(round(np.sqrt(mse), 2)))\n",
    "\n",
    "clf = linear_model.Lasso(alpha=0.1)\n",
    "mse = -(cross_val_score(clf, x_df, y_df, cv=10, scoring='neg_mean_squared_error').mean())\n",
    "\n",
    "print('Lasso RMSE {}'.format(round(np.sqrt(mse), 2)))\n",
    "\n",
    "clf = xgb.XGBRegressor(objective ='reg:squarederror',n_estimators=1000, random_state =42)\n",
    "mse = -(cross_val_score(clf, x_df, y_df, cv=5, scoring='neg_mean_squared_error').mean())\n",
    "\n",
    "print('XGB RMSE {}'.format(round(np.sqrt(mse), 2)))\n",
    "\n",
    "clf = lgb.LGBMRegressor(random_state=42)\n",
    "mse = -(cross_val_score(clf, x_df, y_df, cv=5, scoring='neg_mean_squared_error').mean())\n",
    "\n",
    "print('LGBM RMSE {}'.format(round(np.sqrt(mse), 2)))\n",
    "\n",
    "clf = svm.SVR(kernel='rbf', C=100, gamma=0.1, epsilon=.1)\n",
    "mse = -(cross_val_score(clf, x_df, y_df, cv=5, scoring='neg_mean_squared_error').mean())\n",
    "\n",
    "print('SVR RMSE {}'.format(round(np.sqrt(mse), 2)))\n",
    "\n",
    "clf = KNeighborsRegressor(n_neighbors=2)\n",
    "mse = -(cross_val_score(clf, x_df, y_df, cv=5, scoring='neg_mean_squared_error').mean())\n",
    "\n",
    "print('KNN RMSE {}'.format(round(np.sqrt(mse), 2)))"
   ]
  },
  {
   "cell_type": "code",
   "execution_count": null,
   "metadata": {},
   "outputs": [],
   "source": []
  },
  {
   "cell_type": "code",
   "execution_count": null,
   "metadata": {},
   "outputs": [],
   "source": []
  },
  {
   "cell_type": "code",
   "execution_count": 134,
   "metadata": {},
   "outputs": [
    {
     "name": "stdout",
     "output_type": "stream",
     "text": [
      "The Root Mean Squared Error of our forecasts is 30.68\n"
     ]
    }
   ],
   "source": [
    "reg = RandomForestRegressor( random_state=0)\n",
    "reg.fit(train_x, train_y)\n",
    "yhat = reg.predict(test_x)\n",
    "\n",
    "mse = ((np.array(test_y) - np.array(yhat)) ** 2).mean()\n",
    "\n",
    "print('The Root Mean Squared Error of our forecasts is {}'.format(round(np.sqrt(mse), 2)))"
   ]
  },
  {
   "cell_type": "code",
   "execution_count": 135,
   "metadata": {},
   "outputs": [
    {
     "name": "stdout",
     "output_type": "stream",
     "text": [
      "The Root Mean Squared Error of our forecasts is 29.47\n"
     ]
    }
   ],
   "source": [
    "reg = linear_model.BayesianRidge()\n",
    "reg.fit(train_x, train_y)\n",
    "yhat = reg.predict(test_x)\n",
    "\n",
    "mse = ((np.array(test_y) - np.array(yhat)) ** 2).mean()\n",
    "\n",
    "print('The Root Mean Squared Error of our forecasts is {}'.format(round(np.sqrt(mse), 2)))"
   ]
  },
  {
   "cell_type": "code",
   "execution_count": 136,
   "metadata": {},
   "outputs": [
    {
     "name": "stdout",
     "output_type": "stream",
     "text": [
      "The Root Mean Squared Error of our forecasts is 29.41\n"
     ]
    }
   ],
   "source": [
    "reg = linear_model.Lasso(alpha=0.1)\n",
    "reg.fit(train_x, train_y)\n",
    "yhat = reg.predict(test_x)\n",
    "\n",
    "mse = ((np.array(test_y) - np.array(yhat)) ** 2).mean()\n",
    "\n",
    "print('The Root Mean Squared Error of our forecasts is {}'.format(round(np.sqrt(mse), 2)))"
   ]
  },
  {
   "cell_type": "code",
   "execution_count": 137,
   "metadata": {},
   "outputs": [
    {
     "name": "stdout",
     "output_type": "stream",
     "text": [
      "The Root Mean Squared Error of our forecasts is 36.74\n"
     ]
    }
   ],
   "source": [
    "reg = xgb.XGBRegressor(objective ='reg:squarederror',n_estimators=1000)\n",
    "reg.fit(np.array(train_x), np.array(train_y),\n",
    "       verbose=False)\n",
    "yhat = reg.predict(np.array(test_x))\n",
    "mse = ((np.array(test_y) - np.array(yhat)) ** 2).mean()\n",
    "\n",
    "print('The Root Mean Squared Error of our forecasts is {}'.format(round(np.sqrt(mse), 2)))"
   ]
  },
  {
   "cell_type": "code",
   "execution_count": 138,
   "metadata": {},
   "outputs": [
    {
     "name": "stdout",
     "output_type": "stream",
     "text": [
      "The Root Mean Squared Error of our forecasts is 30.43\n"
     ]
    }
   ],
   "source": [
    "lightGBM = lgb.LGBMRegressor()\n",
    "lightGBM.fit(np.array(train_x), np.array(train_y))\n",
    "yhat = lightGBM.predict(np.array(test_x))\n",
    "\n",
    "mse = ((np.array(test_y) - np.array(yhat)) ** 2).mean()\n",
    "\n",
    "print('The Root Mean Squared Error of our forecasts is {}'.format(round(np.sqrt(mse), 2)))"
   ]
  },
  {
   "cell_type": "code",
   "execution_count": 139,
   "metadata": {},
   "outputs": [
    {
     "name": "stdout",
     "output_type": "stream",
     "text": [
      "The Root Mean Squared Error of our forecasts is 33.99\n"
     ]
    }
   ],
   "source": [
    "reg = svm.SVR(kernel='rbf', C=100, gamma=0.1, epsilon=.1)\n",
    "reg.fit(train_x, train_y)\n",
    "yhat = reg.predict(test_x)\n",
    "\n",
    "mse = ((np.array(test_y) - np.array(yhat)) ** 2).mean()\n",
    "print('The Root Mean Squared Error of our forecasts is {}'.format(round(np.sqrt(mse), 2)))"
   ]
  },
  {
   "cell_type": "code",
   "execution_count": 140,
   "metadata": {},
   "outputs": [
    {
     "name": "stdout",
     "output_type": "stream",
     "text": [
      "The Root Mean Squared Error of our forecasts is 27.82\n"
     ]
    }
   ],
   "source": [
    "reg = KNeighborsRegressor(n_neighbors=2)\n",
    "reg.fit(train_x, train_y)\n",
    "yhat = reg.predict(test_x)\n",
    "\n",
    "mse = ((np.array(test_y) - np.array(yhat)) ** 2).mean()\n",
    "\n",
    "print('The Root Mean Squared Error of our forecasts is {}'.format(round(np.sqrt(mse), 2)))"
   ]
  },
  {
   "cell_type": "code",
   "execution_count": 142,
   "metadata": {},
   "outputs": [
    {
     "data": {
      "text/plain": [
       "14"
      ]
     },
     "execution_count": 142,
     "metadata": {},
     "output_type": "execute_result"
    }
   ],
   "source": []
  },
  {
   "cell_type": "markdown",
   "metadata": {},
   "source": [
    "### Multi window size to 14"
   ]
  },
  {
   "cell_type": "code",
   "execution_count": 143,
   "metadata": {},
   "outputs": [],
   "source": [
    "dataset = tf.data.Dataset.from_tensor_slices(train.values)\n",
    "dataset = dataset.window(14, shift=1, drop_remainder=True)\n",
    "dataset = dataset.flat_map(lambda window: window.batch(14))\n",
    "dataset = dataset.map(lambda window: (window[:-1], window[-1:]))\n",
    "dataset = dataset.shuffle(buffer_size=10)\n",
    "train_x = []\n",
    "train_y = []\n",
    "for x,y in dataset:\n",
    "    train_x.append(x.numpy().ravel())\n",
    "    train_y.append(y.numpy()[0,4])\n"
   ]
  },
  {
   "cell_type": "code",
   "execution_count": 144,
   "metadata": {},
   "outputs": [],
   "source": [
    "dataset = tf.data.Dataset.from_tensor_slices(ts[-27:].values)\n",
    "dataset = dataset.window(14, shift=1, drop_remainder=True)\n",
    "dataset = dataset.flat_map(lambda window: window.batch(14))\n",
    "dataset = dataset.map(lambda window: (window[:-1], window[-1:]))\n",
    "dataset = dataset.shuffle(buffer_size=10)\n",
    "test_x = []\n",
    "test_y = []\n",
    "for x,y in dataset:\n",
    "    test_x.append(x.numpy().ravel())\n",
    "    test_y.append(y.numpy()[0,4])\n"
   ]
  },
  {
   "cell_type": "markdown",
   "metadata": {},
   "source": [
    "### no date"
   ]
  },
  {
   "cell_type": "code",
   "execution_count": 104,
   "metadata": {},
   "outputs": [
    {
     "name": "stdout",
     "output_type": "stream",
     "text": [
      "RF RMSE 23.15\n",
      "BayesianRidge RMSE 23.2\n",
      "Lasso RMSE 23.24\n",
      "XGB RMSE 25.11\n",
      "LGBM RMSE 23.3\n",
      "SVR RMSE 49.83\n",
      "KNN RMSE 39.13\n"
     ]
    }
   ],
   "source": [
    "\n",
    "\n",
    "x_df, y_df = window_dataset_nodate(ts,df,14)\n",
    "from sklearn.model_selection import cross_val_score\n",
    "\n",
    "clf = RandomForestRegressor(random_state=0)\n",
    "mse = -(cross_val_score(clf, x_df, y_df, cv=10, scoring='neg_mean_squared_error').mean())\n",
    "\n",
    "print('RF RMSE {}'.format(round(np.sqrt(mse), 2)))\n",
    "\n",
    "clf = linear_model.BayesianRidge()\n",
    "mse = -(cross_val_score(clf, x_df, y_df, cv=10, scoring='neg_mean_squared_error').mean())\n",
    "\n",
    "print('BayesianRidge RMSE {}'.format(round(np.sqrt(mse), 2)))\n",
    "\n",
    "clf = linear_model.Lasso(alpha=0.1)\n",
    "mse = -(cross_val_score(clf, x_df, y_df, cv=10, scoring='neg_mean_squared_error').mean())\n",
    "\n",
    "print('Lasso RMSE {}'.format(round(np.sqrt(mse), 2)))\n",
    "\n",
    "clf = xgb.XGBRegressor(objective ='reg:squarederror',n_estimators=1000, random_state =42)\n",
    "mse = -(cross_val_score(clf, x_df, y_df, cv=5, scoring='neg_mean_squared_error').mean())\n",
    "\n",
    "print('XGB RMSE {}'.format(round(np.sqrt(mse), 2)))\n",
    "\n",
    "clf = lgb.LGBMRegressor(random_state=42)\n",
    "mse = -(cross_val_score(clf, x_df, y_df, cv=5, scoring='neg_mean_squared_error').mean())\n",
    "\n",
    "print('LGBM RMSE {}'.format(round(np.sqrt(mse), 2)))\n",
    "\n",
    "clf = svm.SVR(kernel='rbf', C=100, gamma=0.1, epsilon=.1)\n",
    "mse = -(cross_val_score(clf, x_df, y_df, cv=5, scoring='neg_mean_squared_error').mean())\n",
    "\n",
    "print('SVR RMSE {}'.format(round(np.sqrt(mse), 2)))\n",
    "\n",
    "clf = KNeighborsRegressor(n_neighbors=2)\n",
    "mse = -(cross_val_score(clf, x_df, y_df, cv=5, scoring='neg_mean_squared_error').mean())\n",
    "\n",
    "print('KNN RMSE {}'.format(round(np.sqrt(mse), 2)))"
   ]
  },
  {
   "cell_type": "markdown",
   "metadata": {},
   "source": [
    "### with date"
   ]
  },
  {
   "cell_type": "code",
   "execution_count": 105,
   "metadata": {},
   "outputs": [
    {
     "name": "stdout",
     "output_type": "stream",
     "text": [
      "RF RMSE 23.14\n",
      "BayesianRidge RMSE 23.2\n",
      "Lasso RMSE 23.22\n",
      "XGB RMSE 24.63\n",
      "LGBM RMSE 23.25\n",
      "SVR RMSE 49.83\n",
      "KNN RMSE 39.53\n"
     ]
    }
   ],
   "source": [
    "x_df, y_df = window_dataset(ts,df,14)\n",
    "from sklearn.model_selection import cross_val_score\n",
    "\n",
    "clf = RandomForestRegressor(random_state=0)\n",
    "mse = -(cross_val_score(clf, x_df, y_df, cv=10, scoring='neg_mean_squared_error').mean())\n",
    "\n",
    "print('RF RMSE {}'.format(round(np.sqrt(mse), 2)))\n",
    "\n",
    "clf = linear_model.BayesianRidge()\n",
    "mse = -(cross_val_score(clf, x_df, y_df, cv=10, scoring='neg_mean_squared_error').mean())\n",
    "\n",
    "print('BayesianRidge RMSE {}'.format(round(np.sqrt(mse), 2)))\n",
    "\n",
    "clf = linear_model.Lasso(alpha=0.1)\n",
    "mse = -(cross_val_score(clf, x_df, y_df, cv=10, scoring='neg_mean_squared_error').mean())\n",
    "\n",
    "print('Lasso RMSE {}'.format(round(np.sqrt(mse), 2)))\n",
    "\n",
    "clf = xgb.XGBRegressor(objective ='reg:squarederror',n_estimators=1000, random_state =42)\n",
    "mse = -(cross_val_score(clf, x_df, y_df, cv=5, scoring='neg_mean_squared_error').mean())\n",
    "\n",
    "print('XGB RMSE {}'.format(round(np.sqrt(mse), 2)))\n",
    "\n",
    "clf = lgb.LGBMRegressor(random_state=42)\n",
    "mse = -(cross_val_score(clf, x_df, y_df, cv=5, scoring='neg_mean_squared_error').mean())\n",
    "\n",
    "print('LGBM RMSE {}'.format(round(np.sqrt(mse), 2)))\n",
    "\n",
    "clf = svm.SVR(kernel='rbf', C=100, gamma=0.1, epsilon=.1)\n",
    "mse = -(cross_val_score(clf, x_df, y_df, cv=5, scoring='neg_mean_squared_error').mean())\n",
    "\n",
    "print('SVR RMSE {}'.format(round(np.sqrt(mse), 2)))\n",
    "\n",
    "clf = KNeighborsRegressor(n_neighbors=2)\n",
    "mse = -(cross_val_score(clf, x_df, y_df, cv=5, scoring='neg_mean_squared_error').mean())\n",
    "\n",
    "print('KNN RMSE {}'.format(round(np.sqrt(mse), 2)))"
   ]
  },
  {
   "cell_type": "code",
   "execution_count": 147,
   "metadata": {},
   "outputs": [
    {
     "name": "stdout",
     "output_type": "stream",
     "text": [
      "The Root Mean Squared Error of our forecasts is 30.79\n"
     ]
    }
   ],
   "source": [
    "reg = RandomForestRegressor( random_state=0)\n",
    "reg.fit(train_x, train_y)\n",
    "yhat = reg.predict(test_x)\n",
    "\n",
    "mse = ((np.array(test_y) - np.array(yhat)) ** 2).mean()\n",
    "\n",
    "print('The Root Mean Squared Error of our forecasts is {}'.format(round(np.sqrt(mse), 2)))"
   ]
  },
  {
   "cell_type": "code",
   "execution_count": 148,
   "metadata": {},
   "outputs": [
    {
     "name": "stdout",
     "output_type": "stream",
     "text": [
      "The Root Mean Squared Error of our forecasts is 29.52\n"
     ]
    }
   ],
   "source": [
    "reg = linear_model.BayesianRidge()\n",
    "reg.fit(train_x, train_y)\n",
    "yhat = reg.predict(test_x)\n",
    "\n",
    "mse = ((np.array(test_y) - np.array(yhat)) ** 2).mean()\n",
    "\n",
    "print('The Root Mean Squared Error of our forecasts is {}'.format(round(np.sqrt(mse), 2)))"
   ]
  },
  {
   "cell_type": "code",
   "execution_count": 149,
   "metadata": {},
   "outputs": [
    {
     "name": "stdout",
     "output_type": "stream",
     "text": [
      "The Root Mean Squared Error of our forecasts is 29.29\n"
     ]
    }
   ],
   "source": [
    "reg = linear_model.Lasso(alpha=0.1)\n",
    "reg.fit(train_x, train_y)\n",
    "yhat = reg.predict(test_x)\n",
    "\n",
    "mse = ((np.array(test_y) - np.array(yhat)) ** 2).mean()\n",
    "\n",
    "print('The Root Mean Squared Error of our forecasts is {}'.format(round(np.sqrt(mse), 2)))"
   ]
  },
  {
   "cell_type": "code",
   "execution_count": 150,
   "metadata": {},
   "outputs": [
    {
     "name": "stdout",
     "output_type": "stream",
     "text": [
      "The Root Mean Squared Error of our forecasts is 31.82\n"
     ]
    }
   ],
   "source": [
    "reg = xgb.XGBRegressor(objective ='reg:squarederror',n_estimators=1000)\n",
    "reg.fit(np.array(train_x), np.array(train_y),\n",
    "       verbose=False)\n",
    "yhat = reg.predict(np.array(test_x))\n",
    "mse = ((np.array(test_y) - np.array(yhat)) ** 2).mean()\n",
    "\n",
    "print('The Root Mean Squared Error of our forecasts is {}'.format(round(np.sqrt(mse), 2)))"
   ]
  },
  {
   "cell_type": "code",
   "execution_count": 151,
   "metadata": {},
   "outputs": [
    {
     "name": "stdout",
     "output_type": "stream",
     "text": [
      "The Root Mean Squared Error of our forecasts is 30.98\n"
     ]
    }
   ],
   "source": [
    "lightGBM = lgb.LGBMRegressor()\n",
    "lightGBM.fit(np.array(train_x), np.array(train_y))\n",
    "yhat = lightGBM.predict(np.array(test_x))\n",
    "\n",
    "mse = ((np.array(test_y) - np.array(yhat)) ** 2).mean()\n",
    "\n",
    "print('The Root Mean Squared Error of our forecasts is {}'.format(round(np.sqrt(mse), 2)))"
   ]
  },
  {
   "cell_type": "code",
   "execution_count": 152,
   "metadata": {},
   "outputs": [
    {
     "name": "stdout",
     "output_type": "stream",
     "text": [
      "The Root Mean Squared Error of our forecasts is 33.99\n"
     ]
    }
   ],
   "source": [
    "reg = svm.SVR(kernel='rbf', C=100, gamma=0.1, epsilon=.1)\n",
    "reg.fit(train_x, train_y)\n",
    "yhat = reg.predict(test_x)\n",
    "\n",
    "mse = ((np.array(test_y) - np.array(yhat)) ** 2).mean()\n",
    "\n",
    "print('The Root Mean Squared Error of our forecasts is {}'.format(round(np.sqrt(mse), 2)))"
   ]
  },
  {
   "cell_type": "code",
   "execution_count": 153,
   "metadata": {},
   "outputs": [
    {
     "name": "stdout",
     "output_type": "stream",
     "text": [
      "The Root Mean Squared Error of our forecasts is 23.04\n"
     ]
    }
   ],
   "source": [
    "reg = KNeighborsRegressor(n_neighbors=2)\n",
    "reg.fit(train_x, train_y)\n",
    "yhat = reg.predict(test_x)\n",
    "\n",
    "mse = ((np.array(test_y) - np.array(yhat)) ** 2).mean()\n",
    "\n",
    "print('The Root Mean Squared Error of our forecasts is {}'.format(round(np.sqrt(mse), 2)))"
   ]
  },
  {
   "cell_type": "markdown",
   "metadata": {},
   "source": [
    "### Multi window size = 14 scaler"
   ]
  },
  {
   "cell_type": "code",
   "execution_count": 199,
   "metadata": {},
   "outputs": [],
   "source": [
    "dataset = tf.data.Dataset.from_tensor_slices(train.values)\n",
    "dataset = dataset.window(14, shift=1, drop_remainder=True)\n",
    "dataset = dataset.flat_map(lambda window: window.batch(14))\n",
    "dataset = dataset.map(lambda window: (window[:-1], window[-1:]))\n",
    "dataset = dataset.shuffle(buffer_size=10)\n",
    "train_x = []\n",
    "train_y = []\n",
    "for x,y in dataset:\n",
    "    train_x.append(x.numpy().ravel())\n",
    "    train_y.append(y.numpy()[0,4])\n"
   ]
  },
  {
   "cell_type": "code",
   "execution_count": 200,
   "metadata": {},
   "outputs": [],
   "source": [
    "dataset = tf.data.Dataset.from_tensor_slices(ts[-27:].values)\n",
    "dataset = dataset.window(14, shift=1, drop_remainder=True)\n",
    "dataset = dataset.flat_map(lambda window: window.batch(14))\n",
    "dataset = dataset.map(lambda window: (window[:-1], window[-1:]))\n",
    "dataset = dataset.shuffle(buffer_size=10)\n",
    "test_x = []\n",
    "test_y = []\n",
    "for x,y in dataset:\n",
    "    test_x.append(x.numpy().ravel())\n",
    "    test_y.append(y.numpy()[0,4])\n"
   ]
  },
  {
   "cell_type": "code",
   "execution_count": 201,
   "metadata": {},
   "outputs": [],
   "source": [
    "train_y = np.array(train_y).reshape(-1,1)\n",
    "test_y = np.array(test_y).reshape(-1,1)\n",
    "\n",
    "x_scaler = StandardScaler() \n",
    "x_scaler.fit(train_x) #No cheating, never scale on the training+test!\n",
    "train_x = x_scaler.transform(train_x)  \n",
    "test_x = x_scaler.transform(test_x)\n",
    "\n",
    "# y_scaler = StandardScaler() \n",
    "# y_scaler.fit(train_y) #No cheating, never scale on the training+test!\n",
    "# train_y = y_scaler.transform(train_y)  \n",
    "# test_y = y_scaler.transform(test_y)"
   ]
  },
  {
   "cell_type": "code",
   "execution_count": 202,
   "metadata": {},
   "outputs": [
    {
     "name": "stdout",
     "output_type": "stream",
     "text": [
      "The Root Mean Squared Error of our forecasts is 38.88\n"
     ]
    }
   ],
   "source": [
    "reg = RandomForestRegressor( random_state=0)\n",
    "reg.fit(train_x, train_y)\n",
    "yhat = reg.predict(test_x)\n",
    "# yhat = y_scaler.inverse_transform(yhat)\n",
    "mse = ((np.array(test_y) - np.array(yhat)) ** 2).mean()\n",
    "\n",
    "print('The Root Mean Squared Error of our forecasts is {}'.format(round(np.sqrt(mse), 2)))"
   ]
  },
  {
   "cell_type": "code",
   "execution_count": 203,
   "metadata": {},
   "outputs": [
    {
     "name": "stdout",
     "output_type": "stream",
     "text": [
      "The Root Mean Squared Error of our forecasts is 37.89\n"
     ]
    }
   ],
   "source": [
    "reg = linear_model.BayesianRidge()\n",
    "reg.fit(train_x, train_y)\n",
    "yhat = reg.predict(test_x)\n",
    "# yhat = y_scaler.inverse_transform(yhat)\n",
    "mse = ((np.array(test_y) - np.array(yhat)) ** 2).mean()\n",
    "\n",
    "print('The Root Mean Squared Error of our forecasts is {}'.format(round(np.sqrt(mse), 2)))"
   ]
  },
  {
   "cell_type": "code",
   "execution_count": 204,
   "metadata": {},
   "outputs": [
    {
     "name": "stdout",
     "output_type": "stream",
     "text": [
      "The Root Mean Squared Error of our forecasts is 37.98\n"
     ]
    }
   ],
   "source": [
    "reg = linear_model.Lasso(alpha=0.1)\n",
    "reg.fit(train_x, train_y)\n",
    "yhat = reg.predict(test_x)\n",
    "# yhat = y_scaler.inverse_transform(yhat)\n",
    "mse = ((np.array(test_y) - np.array(yhat)) ** 2).mean()\n",
    "\n",
    "print('The Root Mean Squared Error of our forecasts is {}'.format(round(np.sqrt(mse), 2)))\n"
   ]
  },
  {
   "cell_type": "code",
   "execution_count": 205,
   "metadata": {},
   "outputs": [
    {
     "name": "stdout",
     "output_type": "stream",
     "text": [
      "The Root Mean Squared Error of our forecasts is 41.91\n"
     ]
    }
   ],
   "source": [
    "reg = xgb.XGBRegressor(objective ='reg:squarederror',n_estimators=1000)\n",
    "reg.fit(np.array(train_x), np.array(train_y),\n",
    "       verbose=False)\n",
    "yhat = reg.predict(np.array(test_x))\n",
    "# yhat = y_scaler.inverse_transform(yhat)\n",
    "mse = ((np.array(test_y) - np.array(yhat)) ** 2).mean()\n",
    "\n",
    "print('The Root Mean Squared Error of our forecasts is {}'.format(round(np.sqrt(mse), 2)))"
   ]
  },
  {
   "cell_type": "code",
   "execution_count": 206,
   "metadata": {},
   "outputs": [
    {
     "name": "stdout",
     "output_type": "stream",
     "text": [
      "The Root Mean Squared Error of our forecasts is 39.92\n"
     ]
    }
   ],
   "source": [
    "lightGBM = lgb.LGBMRegressor()\n",
    "lightGBM.fit(np.array(train_x), np.array(train_y))\n",
    "yhat = lightGBM.predict(np.array(test_x))\n",
    "# yhat = y_scaler.inverse_transform(yhat)\n",
    "mse = ((np.array(test_y) - np.array(yhat)) ** 2).mean()\n",
    "\n",
    "print('The Root Mean Squared Error of our forecasts is {}'.format(round(np.sqrt(mse), 2)))"
   ]
  },
  {
   "cell_type": "code",
   "execution_count": 207,
   "metadata": {},
   "outputs": [
    {
     "name": "stdout",
     "output_type": "stream",
     "text": [
      "The Root Mean Squared Error of our forecasts is 33.75\n"
     ]
    }
   ],
   "source": [
    "reg = svm.SVR(kernel='rbf', C=100, gamma=0.1, epsilon=.1)\n",
    "reg.fit(train_x, train_y)\n",
    "yhat = reg.predict(test_x)\n",
    "# yhat = y_scaler.inverse_transform(yhat)\n",
    "mse = ((np.array(test_y) - np.array(yhat)) ** 2).mean()\n",
    "\n",
    "print('The Root Mean Squared Error of our forecasts is {}'.format(round(np.sqrt(mse), 2)))"
   ]
  },
  {
   "cell_type": "code",
   "execution_count": 208,
   "metadata": {},
   "outputs": [
    {
     "name": "stdout",
     "output_type": "stream",
     "text": [
      "The Root Mean Squared Error of our forecasts is 30.32\n"
     ]
    }
   ],
   "source": [
    "reg = KNeighborsRegressor(n_neighbors=2)\n",
    "reg.fit(train_x, train_y)\n",
    "yhat = reg.predict(test_x)\n",
    "# yhat = y_scaler.inverse_transform(yhat)\n",
    "mse = ((np.array(test_y) - np.array(yhat)) ** 2).mean()\n",
    "\n",
    "print('The Root Mean Squared Error of our forecasts is {}'.format(round(np.sqrt(mse), 2)))"
   ]
  },
  {
   "cell_type": "code",
   "execution_count": null,
   "metadata": {},
   "outputs": [],
   "source": []
  },
  {
   "cell_type": "code",
   "execution_count": null,
   "metadata": {},
   "outputs": [],
   "source": [
    "\n",
    "reg = RandomForestRegressor( random_state=0)\n",
    "reg.fit(train_x, train_y)\n",
    "yhat = reg.predict(test_x)\n",
    "\n",
    "mse = ((np.array(test_y) - np.array(yhat)) ** 2).mean()\n",
    "\n",
    "print('The Root Mean Squared Error of our forecasts is {}'.format(round(np.sqrt(mse), 2)))\n",
    "\n",
    "reg = linear_model.BayesianRidge()\n",
    "reg.fit(train_x, train_y)\n",
    "yhat = reg.predict(test_x)\n",
    "\n",
    "mse = ((np.array(test_y) - np.array(yhat)) ** 2).mean()\n",
    "\n",
    "print('The Root Mean Squared Error of our forecasts is {}'.format(round(np.sqrt(mse), 2)))\n",
    "\n",
    "reg = linear_model.Lasso(alpha=0.1)\n",
    "reg.fit(train_x, train_y)\n",
    "yhat = reg.predict(test_x)\n",
    "\n",
    "mse = ((np.array(test_y) - np.array(yhat)) ** 2).mean()\n",
    "\n",
    "print('The Root Mean Squared Error of our forecasts is {}'.format(round(np.sqrt(mse), 2)))\n",
    "\n",
    "reg = xgb.XGBRegressor(objective ='reg:squarederror',n_estimators=1000)\n",
    "reg.fit(np.array(train_x), np.array(train_y),\n",
    "       verbose=False)\n",
    "yhat = reg.predict(np.array(test_x))\n",
    "mse = ((np.array(test_y) - np.array(yhat)) ** 2).mean()\n",
    "\n",
    "print('The Root Mean Squared Error of our forecasts is {}'.format(round(np.sqrt(mse), 2)))\n",
    "\n",
    "\n",
    "lightGBM = lgb.LGBMRegressor()\n",
    "lightGBM.fit(np.array(train_x), np.array(train_y))\n",
    "yhat = lightGBM.predict(np.array(test_x))\n",
    "\n",
    "mse = ((np.array(test_y) - np.array(yhat)) ** 2).mean()\n",
    "\n",
    "print('The Root Mean Squared Error of our forecasts is {}'.format(round(np.sqrt(mse), 2)))\n",
    "\n",
    "reg = svm.SVR(kernel='rbf', C=100, gamma=0.1, epsilon=.1)\n",
    "reg.fit(train_x, train_y)\n",
    "yhat = reg.predict(test_x)\n",
    "\n",
    "mse = ((np.array(test_y) - np.array(yhat)) ** 2).mean()\n",
    "\n",
    "print('The Root Mean Squared Error of our forecasts is {}'.format(round(np.sqrt(mse), 2)))\n",
    "\n",
    "reg = KNeighborsRegressor(n_neighbors=2)\n",
    "reg.fit(train_x, train_y)\n",
    "yhat = reg.predict(test_x)\n",
    "\n",
    "mse = ((np.array(test_y) - np.array(yhat)) ** 2).mean()\n",
    "\n",
    "print('The Root Mean Squared Error of our forecasts is {}'.format(round(np.sqrt(mse), 2)))"
   ]
  },
  {
   "cell_type": "markdown",
   "metadata": {},
   "source": [
    "### Multi window size = 30"
   ]
  },
  {
   "cell_type": "code",
   "execution_count": 154,
   "metadata": {},
   "outputs": [],
   "source": [
    "dataset = tf.data.Dataset.from_tensor_slices(train.values)\n",
    "dataset = dataset.window(30, shift=1, drop_remainder=True)\n",
    "dataset = dataset.flat_map(lambda window: window.batch(30))\n",
    "dataset = dataset.map(lambda window: (window[:-1], window[-1:]))\n",
    "dataset = dataset.shuffle(buffer_size=10)\n",
    "train_x = []\n",
    "train_y = []\n",
    "for x,y in dataset:\n",
    "    train_x.append(x.numpy().ravel())\n",
    "    train_y.append(y.numpy()[0,4])\n"
   ]
  },
  {
   "cell_type": "code",
   "execution_count": 155,
   "metadata": {},
   "outputs": [],
   "source": [
    "dataset = tf.data.Dataset.from_tensor_slices(ts[-43:].values)\n",
    "dataset = dataset.window(30, shift=1, drop_remainder=True)\n",
    "dataset = dataset.flat_map(lambda window: window.batch(30))\n",
    "dataset = dataset.map(lambda window: (window[:-1], window[-1:]))\n",
    "dataset = dataset.shuffle(buffer_size=10)\n",
    "test_x = []\n",
    "test_y = []\n",
    "for x,y in dataset:\n",
    "    test_x.append(x.numpy().ravel())\n",
    "    test_y.append(y.numpy()[0,4])\n"
   ]
  },
  {
   "cell_type": "code",
   "execution_count": 157,
   "metadata": {},
   "outputs": [
    {
     "name": "stdout",
     "output_type": "stream",
     "text": [
      "The Root Mean Squared Error of our forecasts is 32.09\n"
     ]
    }
   ],
   "source": [
    "reg = RandomForestRegressor( random_state=0)\n",
    "reg.fit(train_x, train_y)\n",
    "yhat = reg.predict(test_x)\n",
    "\n",
    "mse = ((np.array(test_y) - np.array(yhat)) ** 2).mean()\n",
    "\n",
    "print('The Root Mean Squared Error of our forecasts is {}'.format(round(np.sqrt(mse), 2)))"
   ]
  },
  {
   "cell_type": "code",
   "execution_count": 158,
   "metadata": {},
   "outputs": [
    {
     "name": "stdout",
     "output_type": "stream",
     "text": [
      "The Root Mean Squared Error of our forecasts is 29.04\n"
     ]
    }
   ],
   "source": [
    "reg = linear_model.BayesianRidge()\n",
    "reg.fit(train_x, train_y)\n",
    "yhat = reg.predict(test_x)\n",
    "\n",
    "mse = ((np.array(test_y) - np.array(yhat)) ** 2).mean()\n",
    "\n",
    "print('The Root Mean Squared Error of our forecasts is {}'.format(round(np.sqrt(mse), 2)))\n"
   ]
  },
  {
   "cell_type": "code",
   "execution_count": 159,
   "metadata": {},
   "outputs": [
    {
     "name": "stdout",
     "output_type": "stream",
     "text": [
      "The Root Mean Squared Error of our forecasts is 28.29\n"
     ]
    }
   ],
   "source": [
    "reg = linear_model.Lasso(alpha=0.1)\n",
    "reg.fit(train_x, train_y)\n",
    "yhat = reg.predict(test_x)\n",
    "\n",
    "mse = ((np.array(test_y) - np.array(yhat)) ** 2).mean()\n",
    "\n",
    "print('The Root Mean Squared Error of our forecasts is {}'.format(round(np.sqrt(mse), 2)))"
   ]
  },
  {
   "cell_type": "code",
   "execution_count": 160,
   "metadata": {},
   "outputs": [
    {
     "name": "stdout",
     "output_type": "stream",
     "text": [
      "The Root Mean Squared Error of our forecasts is 32.02\n"
     ]
    }
   ],
   "source": [
    "reg = xgb.XGBRegressor(objective ='reg:squarederror',n_estimators=1000)\n",
    "reg.fit(np.array(train_x), np.array(train_y),\n",
    "       verbose=False)\n",
    "yhat = reg.predict(np.array(test_x))\n",
    "mse = ((np.array(test_y) - np.array(yhat)) ** 2).mean()\n",
    "\n",
    "print('The Root Mean Squared Error of our forecasts is {}'.format(round(np.sqrt(mse), 2)))"
   ]
  },
  {
   "cell_type": "code",
   "execution_count": 161,
   "metadata": {},
   "outputs": [
    {
     "name": "stdout",
     "output_type": "stream",
     "text": [
      "The Root Mean Squared Error of our forecasts is 30.37\n"
     ]
    }
   ],
   "source": [
    "lightGBM = lgb.LGBMRegressor()\n",
    "lightGBM.fit(np.array(train_x), np.array(train_y))\n",
    "yhat = lightGBM.predict(np.array(test_x))\n",
    "\n",
    "mse = ((np.array(test_y) - np.array(yhat)) ** 2).mean()\n",
    "\n",
    "print('The Root Mean Squared Error of our forecasts is {}'.format(round(np.sqrt(mse), 2)))"
   ]
  },
  {
   "cell_type": "code",
   "execution_count": 162,
   "metadata": {},
   "outputs": [
    {
     "name": "stdout",
     "output_type": "stream",
     "text": [
      "The Root Mean Squared Error of our forecasts is 33.96\n"
     ]
    }
   ],
   "source": [
    "reg = svm.SVR(kernel='rbf', C=100, gamma=0.1, epsilon=.1)\n",
    "reg.fit(train_x, train_y)\n",
    "yhat = reg.predict(test_x)\n",
    "\n",
    "mse = ((np.array(test_y) - np.array(yhat)) ** 2).mean()\n",
    "\n",
    "print('The Root Mean Squared Error of our forecasts is {}'.format(round(np.sqrt(mse), 2)))"
   ]
  },
  {
   "cell_type": "code",
   "execution_count": 163,
   "metadata": {},
   "outputs": [
    {
     "name": "stdout",
     "output_type": "stream",
     "text": [
      "The Root Mean Squared Error of our forecasts is 33.51\n"
     ]
    }
   ],
   "source": [
    "reg = KNeighborsRegressor(n_neighbors=2)\n",
    "reg.fit(train_x, train_y)\n",
    "yhat = reg.predict(test_x)\n",
    "\n",
    "mse = ((np.array(test_y) - np.array(yhat)) ** 2).mean()\n",
    "\n",
    "print('The Root Mean Squared Error of our forecasts is {}'.format(round(np.sqrt(mse), 2)))"
   ]
  },
  {
   "cell_type": "code",
   "execution_count": null,
   "metadata": {},
   "outputs": [],
   "source": [
    "\n",
    "reg = RandomForestRegressor( random_state=0)\n",
    "reg.fit(train_x, train_y)\n",
    "yhat = reg.predict(test_x)\n",
    "\n",
    "mse = ((np.array(test_y) - np.array(yhat)) ** 2).mean()\n",
    "\n",
    "print('The Root Mean Squared Error of our forecasts is {}'.format(round(np.sqrt(mse), 2)))\n",
    "\n",
    "reg = linear_model.BayesianRidge()\n",
    "reg.fit(train_x, train_y)\n",
    "yhat = reg.predict(test_x)\n",
    "\n",
    "mse = ((np.array(test_y) - np.array(yhat)) ** 2).mean()\n",
    "\n",
    "print('The Root Mean Squared Error of our forecasts is {}'.format(round(np.sqrt(mse), 2)))\n",
    "\n",
    "reg = linear_model.Lasso(alpha=0.1)\n",
    "reg.fit(train_x, train_y)\n",
    "yhat = reg.predict(test_x)\n",
    "\n",
    "mse = ((np.array(test_y) - np.array(yhat)) ** 2).mean()\n",
    "\n",
    "print('The Root Mean Squared Error of our forecasts is {}'.format(round(np.sqrt(mse), 2)))\n",
    "\n",
    "reg = xgb.XGBRegressor(objective ='reg:squarederror',n_estimators=1000)\n",
    "reg.fit(np.array(train_x), np.array(train_y),\n",
    "       verbose=False)\n",
    "yhat = reg.predict(np.array(test_x))\n",
    "mse = ((np.array(test_y) - np.array(yhat)) ** 2).mean()\n",
    "\n",
    "print('The Root Mean Squared Error of our forecasts is {}'.format(round(np.sqrt(mse), 2)))\n",
    "\n",
    "\n",
    "lightGBM = lgb.LGBMRegressor()\n",
    "lightGBM.fit(np.array(train_x), np.array(train_y))\n",
    "yhat = lightGBM.predict(np.array(test_x))\n",
    "\n",
    "mse = ((np.array(test_y) - np.array(yhat)) ** 2).mean()\n",
    "\n",
    "print('The Root Mean Squared Error of our forecasts is {}'.format(round(np.sqrt(mse), 2)))\n",
    "\n",
    "reg = svm.SVR(kernel='rbf', C=100, gamma=0.1, epsilon=.1)\n",
    "reg.fit(train_x, train_y)\n",
    "yhat = reg.predict(test_x)\n",
    "\n",
    "mse = ((np.array(test_y) - np.array(yhat)) ** 2).mean()\n",
    "\n",
    "print('The Root Mean Squared Error of our forecasts is {}'.format(round(np.sqrt(mse), 2)))\n",
    "\n",
    "reg = KNeighborsRegressor(n_neighbors=2)\n",
    "reg.fit(train_x, train_y)\n",
    "yhat = reg.predict(test_x)\n",
    "\n",
    "mse = ((np.array(test_y) - np.array(yhat)) ** 2).mean()\n",
    "\n",
    "print('The Root Mean Squared Error of our forecasts is {}'.format(round(np.sqrt(mse), 2)))"
   ]
  },
  {
   "cell_type": "markdown",
   "metadata": {},
   "source": [
    "### Simple Exponential Smoothing (SES)"
   ]
  },
  {
   "cell_type": "code",
   "execution_count": 14,
   "metadata": {},
   "outputs": [
    {
     "name": "stderr",
     "output_type": "stream",
     "text": [
      "100%|██████████████████████████████████████████████████████████████████████████████████| 14/14 [00:00<00:00, 24.85it/s]\n"
     ]
    }
   ],
   "source": [
    "# Walk throught the test data, training and predicting 1 day ahead for all the test data\n",
    "index = len(train)\n",
    "yhat = []\n",
    "for t in tqdm(range(len(test.ave))):\n",
    "    temp_train = ts[:len(train)+t]\n",
    "    model = SimpleExpSmoothing(temp_train.ave)\n",
    "    model_fit = model.fit()\n",
    "    predictions = model_fit.predict(start=len(temp_train), end=len(temp_train))\n",
    "    yhat.append(predictions)\n",
    "    "
   ]
  },
  {
   "cell_type": "code",
   "execution_count": 11,
   "metadata": {},
   "outputs": [
    {
     "name": "stdout",
     "output_type": "stream",
     "text": [
      "The Root Mean Squared Error of our forecasts is 40.31\n"
     ]
    }
   ],
   "source": [
    "\n",
    "mse = ((test.ave.values - np.array(yhat)) ** 2).mean()\n",
    "\n",
    "print('The Root Mean Squared Error of our forecasts is {}'.format(round(np.sqrt(mse), 2)))"
   ]
  },
  {
   "cell_type": "markdown",
   "metadata": {},
   "source": [
    "### Holt Winter’s Exponential Smoothing (HWES)"
   ]
  },
  {
   "cell_type": "code",
   "execution_count": 16,
   "metadata": {},
   "outputs": [
    {
     "name": "stderr",
     "output_type": "stream",
     "text": [
      "100%|██████████████████████████████████████████████████████████████████████████████████| 14/14 [00:00<00:00, 25.54it/s]\n"
     ]
    }
   ],
   "source": [
    "# Walk throught the test data, training and predicting 1 day ahead for all the test data\n",
    "index = len(train)\n",
    "yhat = []\n",
    "for t in tqdm(range(len(test.ave))):\n",
    "    temp_train = ts[:len(train)+t]\n",
    "    model = ExponentialSmoothing(temp_train.ave)\n",
    "    model_fit = model.fit()\n",
    "    predictions = model_fit.predict(start=len(temp_train), end=len(temp_train))\n",
    "    yhat.append(predictions)\n",
    "    "
   ]
  },
  {
   "cell_type": "code",
   "execution_count": 13,
   "metadata": {},
   "outputs": [
    {
     "name": "stdout",
     "output_type": "stream",
     "text": [
      "The Root Mean Squared Error of our forecasts is 40.31\n"
     ]
    }
   ],
   "source": [
    "mse = ((test.ave.values - np.array(yhat)) ** 2).mean()\n",
    "\n",
    "print('The Root Mean Squared Error of our forecasts is {}'.format(round(np.sqrt(mse), 2)))"
   ]
  },
  {
   "cell_type": "code",
   "execution_count": null,
   "metadata": {},
   "outputs": [],
   "source": []
  },
  {
   "cell_type": "code",
   "execution_count": 18,
   "metadata": {},
   "outputs": [
    {
     "name": "stdout",
     "output_type": "stream",
     "text": [
      "Performing stepwise search to minimize aic\n",
      " ARIMA(2,1,2)(0,0,0)[0] intercept   : AIC=inf, Time=10.98 sec\n",
      " ARIMA(0,1,0)(0,0,0)[0] intercept   : AIC=61256.334, Time=0.18 sec\n",
      " ARIMA(1,1,0)(0,0,0)[0] intercept   : AIC=61057.262, Time=0.24 sec\n",
      " ARIMA(0,1,1)(0,0,0)[0] intercept   : AIC=61012.204, Time=0.58 sec\n",
      " ARIMA(0,1,0)(0,0,0)[0]             : AIC=61254.334, Time=0.10 sec\n",
      " ARIMA(1,1,1)(0,0,0)[0] intercept   : AIC=60814.122, Time=2.46 sec\n",
      " ARIMA(2,1,1)(0,0,0)[0] intercept   : AIC=inf, Time=9.41 sec\n",
      " ARIMA(1,1,2)(0,0,0)[0] intercept   : AIC=inf, Time=11.07 sec\n",
      " ARIMA(0,1,2)(0,0,0)[0] intercept   : AIC=60943.932, Time=1.64 sec\n",
      " ARIMA(2,1,0)(0,0,0)[0] intercept   : AIC=61010.812, Time=0.78 sec\n",
      " ARIMA(1,1,1)(0,0,0)[0]             : AIC=60812.123, Time=1.20 sec\n",
      " ARIMA(0,1,1)(0,0,0)[0]             : AIC=61010.204, Time=0.35 sec\n",
      " ARIMA(1,1,0)(0,0,0)[0]             : AIC=61055.262, Time=0.12 sec\n",
      " ARIMA(2,1,1)(0,0,0)[0]             : AIC=inf, Time=3.17 sec\n",
      " ARIMA(1,1,2)(0,0,0)[0]             : AIC=inf, Time=2.58 sec\n",
      " ARIMA(0,1,2)(0,0,0)[0]             : AIC=60941.934, Time=0.40 sec\n",
      " ARIMA(2,1,0)(0,0,0)[0]             : AIC=61008.812, Time=0.26 sec\n",
      " ARIMA(2,1,2)(0,0,0)[0]             : AIC=inf, Time=6.01 sec\n",
      "\n",
      "Best model:  ARIMA(1,1,1)(0,0,0)[0]          \n",
      "Total fit time: 51.719 seconds\n"
     ]
    },
    {
     "data": {
      "text/plain": [
       "ARIMA(order=(1, 1, 1), scoring_args={}, suppress_warnings=True,\n",
       "      with_intercept=False)"
      ]
     },
     "execution_count": 18,
     "metadata": {},
     "output_type": "execute_result"
    }
   ],
   "source": [
    "autoModel = pm.auto_arima(train.ave, trace=True, error_action='ignore', suppress_warnings=True,seasonal=False)\n",
    "autoModel.fit(train.ave)"
   ]
  },
  {
   "cell_type": "code",
   "execution_count": 24,
   "metadata": {},
   "outputs": [
    {
     "name": "stderr",
     "output_type": "stream",
     "text": [
      "100%|██████████████████████████████████████████████████████████████████████████████████| 14/14 [00:31<00:00,  2.26s/it]\n"
     ]
    }
   ],
   "source": [
    "order = autoModel.order\n",
    "yhat = list()\n",
    "for t in tqdm(range(len(test.ave))):\n",
    "    temp_train = ts[:len(train)+t]\n",
    "    model = ARIMA(temp_train.ave, order=order)\n",
    "    model_fit = model.fit(disp=False)\n",
    "    predictions = model_fit.predict(start=len(temp_train), end=len(temp_train), dynamic=False)\n",
    "    yhat = yhat + [predictions]\n",
    "    \n"
   ]
  },
  {
   "cell_type": "code",
   "execution_count": 27,
   "metadata": {},
   "outputs": [
    {
     "name": "stdout",
     "output_type": "stream",
     "text": [
      "Performing stepwise search to minimize aic\n",
      " ARIMA(2,1,2)(0,0,0)[0] intercept   : AIC=inf, Time=11.61 sec\n",
      " ARIMA(0,1,0)(0,0,0)[0] intercept   : AIC=61256.334, Time=0.23 sec\n",
      " ARIMA(1,1,0)(0,0,0)[0] intercept   : AIC=61057.262, Time=0.29 sec\n",
      " ARIMA(0,1,1)(0,0,0)[0] intercept   : AIC=61012.204, Time=0.60 sec\n",
      " ARIMA(0,1,0)(0,0,0)[0]             : AIC=61254.334, Time=0.12 sec\n",
      " ARIMA(1,1,1)(0,0,0)[0] intercept   : AIC=60814.122, Time=2.35 sec\n",
      " ARIMA(2,1,1)(0,0,0)[0] intercept   : AIC=inf, Time=7.37 sec\n",
      " ARIMA(1,1,2)(0,0,0)[0] intercept   : AIC=inf, Time=9.69 sec\n",
      " ARIMA(0,1,2)(0,0,0)[0] intercept   : AIC=60943.932, Time=1.56 sec\n",
      " ARIMA(2,1,0)(0,0,0)[0] intercept   : AIC=61010.812, Time=0.58 sec\n",
      " ARIMA(1,1,1)(0,0,0)[0]             : AIC=60812.123, Time=1.03 sec\n",
      " ARIMA(0,1,1)(0,0,0)[0]             : AIC=61010.204, Time=0.32 sec\n",
      " ARIMA(1,1,0)(0,0,0)[0]             : AIC=61055.262, Time=0.12 sec\n",
      " ARIMA(2,1,1)(0,0,0)[0]             : AIC=inf, Time=3.31 sec\n",
      " ARIMA(1,1,2)(0,0,0)[0]             : AIC=inf, Time=2.57 sec\n",
      " ARIMA(0,1,2)(0,0,0)[0]             : AIC=60941.934, Time=0.47 sec\n",
      " ARIMA(2,1,0)(0,0,0)[0]             : AIC=61008.812, Time=0.24 sec\n",
      " ARIMA(2,1,2)(0,0,0)[0]             : AIC=inf, Time=5.50 sec\n",
      "\n",
      "Best model:  ARIMA(1,1,1)(0,0,0)[0]          \n",
      "Total fit time: 47.963 seconds\n",
      "The Root Mean Squared Error of our forecasts is 45.38\n"
     ]
    }
   ],
   "source": [
    "autoModel = pm.auto_arima(train.ave, trace=True, error_action='ignore', suppress_warnings=True,seasonal=False)\n",
    "fitted_model = autoModel.fit(train.ave)\n",
    "\n",
    "\n",
    "# Forecasting the values.\n",
    "forecast_values = fitted_model.predict(len(test.ave), alpha=0.05) \n",
    "fcv_series = pd.Series(forecast_values[0], index=test.ave.index)\n",
    "\n",
    "mse = ((test.ave.values - fcv_series.values) ** 2).mean()\n",
    "\n",
    "print('The Root Mean Squared Error of our forecasts is {}'.format(round(np.sqrt(mse), 2)))"
   ]
  },
  {
   "cell_type": "code",
   "execution_count": null,
   "metadata": {},
   "outputs": [],
   "source": []
  },
  {
   "cell_type": "code",
   "execution_count": 49,
   "metadata": {},
   "outputs": [
    {
     "data": {
      "text/plain": [
       "<Figure size 4000x1600 with 0 Axes>"
      ]
     },
     "metadata": {},
     "output_type": "display_data"
    },
    {
     "data": {
      "image/png": "[encoded data removed]",
      "text/plain": [
       "<Figure size 1296x576 with 4 Axes>"
      ]
     },
     "metadata": {
      "needs_background": "light"
     },
     "output_type": "display_data"
    }
   ],
   "source": [
    "\n",
    "p_ts1 = ts[-365:].ave+ 0.01\n",
    "rcParams['figure.figsize'] = 18, 8\n",
    "plt.figure(num=None, figsize=(50, 20), dpi=80, facecolor='w', edgecolor='k')\n",
    "\n",
    "result = seasonal_decompose(p_ts1, model='multiplicative', period=7)\n",
    "result.plot()\n",
    "pass"
   ]
  },
  {
   "cell_type": "code",
   "execution_count": 50,
   "metadata": {},
   "outputs": [
    {
     "data": {
      "text/plain": [
       "<Figure size 4000x1600 with 0 Axes>"
      ]
     },
     "metadata": {},
     "output_type": "display_data"
    },
    {
     "data": {
      "image/png": "[encoded data removed]",
      "text/plain": [
       "<Figure size 1296x576 with 4 Axes>"
      ]
     },
     "metadata": {
      "needs_background": "light"
     },
     "output_type": "display_data"
    }
   ],
   "source": [
    "\n",
    "p_ts2 = ts[-730:-365].ave+ 0.01\n",
    "rcParams['figure.figsize'] = 18, 8\n",
    "plt.figure(num=None, figsize=(50, 20), dpi=80, facecolor='w', edgecolor='k')\n",
    "\n",
    "result = seasonal_decompose(p_ts2, model='multiplicative', period=7)\n",
    "result.plot()\n",
    "pass"
   ]
  },
  {
   "cell_type": "code",
   "execution_count": 51,
   "metadata": {},
   "outputs": [
    {
     "name": "stdout",
     "output_type": "stream",
     "text": [
      "Performing stepwise search to minimize aic\n",
      " ARIMA(2,1,2)(1,0,1)[7] intercept   : AIC=60747.333, Time=30.56 sec\n",
      " ARIMA(0,1,0)(0,0,0)[7] intercept   : AIC=61256.334, Time=0.17 sec\n",
      " ARIMA(1,1,0)(1,0,0)[7] intercept   : AIC=61053.073, Time=1.17 sec\n",
      " ARIMA(0,1,1)(0,0,1)[7] intercept   : AIC=61006.390, Time=1.24 sec\n",
      " ARIMA(0,1,0)(0,0,0)[7]             : AIC=61254.334, Time=0.10 sec\n",
      " ARIMA(2,1,2)(0,0,1)[7] intercept   : AIC=inf, Time=15.67 sec\n",
      " ARIMA(2,1,2)(1,0,0)[7] intercept   : AIC=60746.206, Time=14.97 sec\n",
      " ARIMA(2,1,2)(0,0,0)[7] intercept   : AIC=inf, Time=9.41 sec\n",
      " ARIMA(2,1,2)(2,0,0)[7] intercept   : AIC=60747.286, Time=34.24 sec\n",
      " ARIMA(2,1,2)(2,0,1)[7] intercept   : AIC=inf, Time=36.89 sec\n",
      " ARIMA(1,1,2)(1,0,0)[7] intercept   : AIC=inf, Time=11.72 sec\n",
      " ARIMA(2,1,1)(1,0,0)[7] intercept   : AIC=inf, Time=13.11 sec\n",
      " ARIMA(3,1,2)(1,0,0)[7] intercept   : AIC=inf, Time=18.75 sec\n",
      " ARIMA(2,1,3)(1,0,0)[7] intercept   : AIC=inf, Time=15.62 sec\n",
      " ARIMA(1,1,1)(1,0,0)[7] intercept   : AIC=60815.963, Time=4.95 sec\n",
      " ARIMA(1,1,3)(1,0,0)[7] intercept   : AIC=inf, Time=16.54 sec\n",
      " ARIMA(3,1,1)(1,0,0)[7] intercept   : AIC=inf, Time=17.20 sec\n",
      " ARIMA(3,1,3)(1,0,0)[7] intercept   : AIC=60798.028, Time=26.74 sec\n",
      " ARIMA(2,1,2)(1,0,0)[7]             : AIC=inf, Time=9.08 sec\n",
      "\n",
      "Best model:  ARIMA(2,1,2)(1,0,0)[7] intercept\n",
      "Total fit time: 278.201 seconds\n",
      "The Root Mean Squared Error of our forecasts is 43.05\n"
     ]
    }
   ],
   "source": [
    "#building the model\n",
    "autoModel = pm.auto_arima(train.ave, trace=True, error_action='ignore', suppress_warnings=True, seasonal=True, m=7, stepwise=True)\n",
    "fitted_model = autoModel.fit(train.ave)\n",
    "\n",
    "\n",
    "# Forecasting the values.\n",
    "forecast_values = fitted_model.predict(len(test.ave), alpha=0.05) \n",
    "fcv_series = pd.Series(forecast_values[0], index=test.ave.index)\n",
    "\n",
    "mse = ((test.ave.values - fcv_series.values) ** 2).mean()\n",
    "\n",
    "print('The Root Mean Squared Error of our forecasts is {}'.format(round(np.sqrt(mse), 2)))"
   ]
  },
  {
   "cell_type": "code",
   "execution_count": 53,
   "metadata": {},
   "outputs": [
    {
     "name": "stdout",
     "output_type": "stream",
     "text": [
      "Performing stepwise search to minimize aic\n",
      " ARIMA(2,1,2)(1,0,1)[6] intercept   : AIC=60736.052, Time=17.04 sec\n",
      " ARIMA(0,1,0)(0,0,0)[6] intercept   : AIC=61256.334, Time=0.21 sec\n",
      " ARIMA(1,1,0)(1,0,0)[6] intercept   : AIC=61057.333, Time=0.83 sec\n",
      " ARIMA(0,1,1)(0,0,1)[6] intercept   : AIC=61013.375, Time=1.08 sec\n",
      " ARIMA(0,1,0)(0,0,0)[6]             : AIC=61254.334, Time=0.11 sec\n",
      " ARIMA(2,1,2)(0,0,1)[6] intercept   : AIC=inf, Time=18.64 sec\n",
      " ARIMA(2,1,2)(1,0,0)[6] intercept   : AIC=inf, Time=15.63 sec\n",
      " ARIMA(2,1,2)(2,0,1)[6] intercept   : AIC=inf, Time=30.11 sec\n",
      " ARIMA(2,1,2)(1,0,2)[6] intercept   : AIC=inf, Time=32.02 sec\n",
      " ARIMA(2,1,2)(0,0,0)[6] intercept   : AIC=inf, Time=9.86 sec\n",
      " ARIMA(2,1,2)(0,0,2)[6] intercept   : AIC=inf, Time=26.39 sec\n",
      " ARIMA(2,1,2)(2,0,0)[6] intercept   : AIC=inf, Time=23.61 sec\n",
      " ARIMA(2,1,2)(2,0,2)[6] intercept   : AIC=60760.412, Time=29.95 sec\n",
      " ARIMA(1,1,2)(1,0,1)[6] intercept   : AIC=inf, Time=21.40 sec\n",
      " ARIMA(2,1,1)(1,0,1)[6] intercept   : AIC=inf, Time=15.23 sec\n",
      " ARIMA(3,1,2)(1,0,1)[6] intercept   : AIC=inf, Time=20.06 sec\n",
      " ARIMA(2,1,3)(1,0,1)[6] intercept   : AIC=inf, Time=25.40 sec\n",
      " ARIMA(1,1,1)(1,0,1)[6] intercept   : AIC=60800.161, Time=7.42 sec\n",
      " ARIMA(1,1,3)(1,0,1)[6] intercept   : AIC=inf, Time=18.00 sec\n",
      " ARIMA(3,1,1)(1,0,1)[6] intercept   : AIC=inf, Time=16.90 sec\n",
      " ARIMA(3,1,3)(1,0,1)[6] intercept   : AIC=60785.186, Time=26.59 sec\n",
      " ARIMA(2,1,2)(1,0,1)[6]             : AIC=inf, Time=9.21 sec\n",
      "\n",
      "Best model:  ARIMA(2,1,2)(1,0,1)[6] intercept\n",
      "Total fit time: 365.713 seconds\n",
      "The Root Mean Squared Error of our forecasts is 42.99\n"
     ]
    }
   ],
   "source": [
    "#building the model\n",
    "autoModel = pm.auto_arima(train.ave, trace=True, error_action='ignore', suppress_warnings=True, seasonal=True, m=6, stepwise=True)\n",
    "fitted_model = autoModel.fit(train.ave)\n",
    "\n",
    "\n",
    "# Forecasting the values.\n",
    "forecast_values = fitted_model.predict(len(test.ave), alpha=0.05) \n",
    "fcv_series = pd.Series(forecast_values[0], index=test.ave.index)\n",
    "\n",
    "mse = ((test.ave.values - fcv_series.values) ** 2).mean()\n",
    "\n",
    "print('The Root Mean Squared Error of our forecasts is {}'.format(round(np.sqrt(mse), 2)))"
   ]
  },
  {
   "cell_type": "code",
   "execution_count": null,
   "metadata": {},
   "outputs": [
    {
     "name": "stdout",
     "output_type": "stream",
     "text": [
      "Performing stepwise search to minimize aic\n",
      " ARIMA(2,1,2)(1,0,1)[30] intercept   : AIC=60749.891, Time=87.45 sec\n",
      " ARIMA(0,1,0)(0,0,0)[30] intercept   : AIC=61256.334, Time=0.32 sec\n",
      " ARIMA(1,1,0)(1,0,0)[30] intercept   : AIC=61058.433, Time=4.20 sec\n",
      " ARIMA(0,1,1)(0,0,1)[30] intercept   : AIC=61013.442, Time=6.37 sec\n",
      " ARIMA(0,1,0)(0,0,0)[30]             : AIC=61254.334, Time=0.15 sec\n",
      " ARIMA(2,1,2)(0,0,1)[30] intercept   : AIC=60747.983, Time=75.80 sec\n",
      " ARIMA(2,1,2)(0,0,0)[30] intercept   : AIC=inf, Time=10.42 sec\n",
      " ARIMA(2,1,2)(0,0,2)[30] intercept   : AIC=60757.683, Time=428.51 sec\n"
     ]
    }
   ],
   "source": [
    "#building the model\n",
    "autoModel = pm.auto_arima(train.ave, trace=True, error_action='ignore', suppress_warnings=True, seasonal=True, m=30, stepwise=True)\n",
    "fitted_model = autoModel.fit(train.ave)\n",
    "\n",
    "\n",
    "# Forecasting the values.\n",
    "forecast_values = fitted_model.predict(len(test.ave), alpha=0.05) \n",
    "fcv_series = pd.Series(forecast_values[0], index=test.ave.index)\n",
    "\n",
    "mse = ((test.ave.values - fcv_series.values) ** 2).mean()\n",
    "\n",
    "print('The Root Mean Squared Error of our forecasts is {}'.format(round(np.sqrt(mse), 2)))"
   ]
  },
  {
   "cell_type": "code",
   "execution_count": null,
   "metadata": {},
   "outputs": [],
   "source": [
    "#building the model\n",
    "autoModel = pm.auto_arima(train.ave, trace=True, error_action='ignore', suppress_warnings=True, seasonal=True, m=360, stepwise=True)\n",
    "fitted_model = autoModel.fit(train.ave)\n",
    "\n",
    "\n",
    "# Forecasting the values.\n",
    "forecast_values = fitted_model.predict(len(test.ave), alpha=0.05) \n",
    "fcv_series = pd.Series(forecast_values[0], index=test.ave.index)\n",
    "\n",
    "mse = ((test.ave.values - fcv_series.values) ** 2).mean()\n",
    "\n",
    "print('The Root Mean Squared Error of our forecasts is {}'.format(round(np.sqrt(mse), 2)))"
   ]
  },
  {
   "cell_type": "code",
   "execution_count": 52,
   "metadata": {},
   "outputs": [
    {
     "name": "stdout",
     "output_type": "stream",
     "text": [
      "The Root Mean Squared Error of our forecasts is 29.29\n"
     ]
    }
   ],
   "source": [
    "mod = ARIMA(train.ave, order=(3, 1, 3))\n",
    "results = mod.fit()\n",
    "fc, _ ,  _ = results.forecast(14, alpha=0.05)  # 95% conf\n",
    "\n",
    "# Make as pandas series\n",
    "fc_series = pd.Series(fc, index=test.index)\n",
    "\n",
    "mse = ((test.ave.values - fc_series) ** 2).mean()\n",
    "\n",
    "print('The Root Mean Squared Error of our forecasts is {}'.format(round(np.sqrt(mse), 2)))"
   ]
  },
  {
   "cell_type": "code",
   "execution_count": null,
   "metadata": {},
   "outputs": [],
   "source": []
  },
  {
   "cell_type": "code",
   "execution_count": 64,
   "metadata": {},
   "outputs": [],
   "source": [
    "#Prophet needs some specifics data stuff, coment it here\n",
    "prophet_training = train.rename(columns={'ave': 'y'})  # old method  \n",
    "prophet_training['ds'] = prophet_training.index\n",
    "prophet_training.index = pd.RangeIndex(len(prophet_training.index))\n",
    "\n",
    "prophet_test = test.rename(columns={'ave': 'y'})  # old method  \n",
    "prophet_test['ds'] = prophet_test.index\n",
    "prophet_test.index = pd.RangeIndex(len(prophet_test.index))"
   ]
  },
  {
   "cell_type": "code",
   "execution_count": 65,
   "metadata": {},
   "outputs": [],
   "source": [
    "prophet = Prophet(\n",
    "    growth='linear', \n",
    "    seasonality_mode='multiplicative',\n",
    "    holidays_prior_scale=20, \n",
    "    daily_seasonality=False, \n",
    "    weekly_seasonality=False, \n",
    "    yearly_seasonality=False\n",
    "    ).add_seasonality(\n",
    "        name='monthly',\n",
    "        period=30.5,\n",
    "        fourier_order=55\n",
    "    ).add_seasonality(\n",
    "        name='daily',\n",
    "        period=1,\n",
    "        fourier_order=15\n",
    "    ).add_seasonality(\n",
    "        name='weekly',\n",
    "        period=7,\n",
    "        fourier_order=25\n",
    "    ).add_seasonality(\n",
    "        name='yearly',\n",
    "        period=365.25,\n",
    "        fourier_order=20\n",
    "    ).add_seasonality(\n",
    "        name='quarterly',\n",
    "        period=365.25/4,\n",
    "        fourier_order=55\n",
    "    )\n",
    "\n",
    "prophet.fit(prophet_training)"
   ]
  },
  {
   "cell_type": "code",
   "execution_count": 73,
   "metadata": {},
   "outputs": [
    {
     "name": "stdout",
     "output_type": "stream",
     "text": [
      "The Root Mean Squared Error of our forecasts is 42.49\n"
     ]
    }
   ],
   "source": [
    "future = prophet.make_future_dataframe(periods=14) #forecasting for 1 year from now.\n",
    "# 進行預測\n",
    "forecast = prophet.predict(future)\n",
    "\n",
    "yhat =  forecast.tail(14).yhat.to_numpy()\n",
    "\n",
    "mse = ((prophet_test.y.values - np.array(yhat)) ** 2).mean()\n",
    "\n",
    "print('The Root Mean Squared Error of our forecasts is {}'.format(round(np.sqrt(mse), 2)))"
   ]
  },
  {
   "cell_type": "code",
   "execution_count": null,
   "metadata": {},
   "outputs": [],
   "source": []
  },
  {
   "cell_type": "code",
   "execution_count": null,
   "metadata": {},
   "outputs": [],
   "source": []
  },
  {
   "cell_type": "code",
   "execution_count": null,
   "metadata": {},
   "outputs": [],
   "source": []
  },
  {
   "cell_type": "code",
   "execution_count": 2,
   "metadata": {},
   "outputs": [
    {
     "data": {
      "text/html": [
       "<div>\n",
       "<style scoped>\n",
       "    .dataframe tbody tr th:only-of-type {\n",
       "        vertical-align: middle;\n",
       "    }\n",
       "\n",
       "    .dataframe tbody tr th {\n",
       "        vertical-align: top;\n",
       "    }\n",
       "\n",
       "    .dataframe thead th {\n",
       "        text-align: right;\n",
       "    }\n",
       "</style>\n",
       "<table border=\"1\" class=\"dataframe\">\n",
       "  <thead>\n",
       "    <tr style=\"text-align: right;\">\n",
       "      <th></th>\n",
       "      <th>pollution_today</th>\n",
       "      <th>dew</th>\n",
       "      <th>temp</th>\n",
       "      <th>press</th>\n",
       "      <th>wnd_spd</th>\n",
       "      <th>snow</th>\n",
       "      <th>rain</th>\n",
       "      <th>pollution_yesterday</th>\n",
       "    </tr>\n",
       "    <tr>\n",
       "      <th>date</th>\n",
       "      <th></th>\n",
       "      <th></th>\n",
       "      <th></th>\n",
       "      <th></th>\n",
       "      <th></th>\n",
       "      <th></th>\n",
       "      <th></th>\n",
       "      <th></th>\n",
       "    </tr>\n",
       "  </thead>\n",
       "  <tbody>\n",
       "    <tr>\n",
       "      <th>2010-01-02</th>\n",
       "      <td>145.958333</td>\n",
       "      <td>-8.500000</td>\n",
       "      <td>-5.125000</td>\n",
       "      <td>1024.750000</td>\n",
       "      <td>24.860000</td>\n",
       "      <td>0.708333</td>\n",
       "      <td>0.0</td>\n",
       "      <td>10.041667</td>\n",
       "    </tr>\n",
       "    <tr>\n",
       "      <th>2010-01-03</th>\n",
       "      <td>78.833333</td>\n",
       "      <td>-10.125000</td>\n",
       "      <td>-8.541667</td>\n",
       "      <td>1022.791667</td>\n",
       "      <td>70.937917</td>\n",
       "      <td>14.166667</td>\n",
       "      <td>0.0</td>\n",
       "      <td>145.958333</td>\n",
       "    </tr>\n",
       "    <tr>\n",
       "      <th>2010-01-04</th>\n",
       "      <td>31.333333</td>\n",
       "      <td>-20.875000</td>\n",
       "      <td>-11.500000</td>\n",
       "      <td>1029.291667</td>\n",
       "      <td>111.160833</td>\n",
       "      <td>0.000000</td>\n",
       "      <td>0.0</td>\n",
       "      <td>78.833333</td>\n",
       "    </tr>\n",
       "    <tr>\n",
       "      <th>2010-01-05</th>\n",
       "      <td>42.458333</td>\n",
       "      <td>-24.583333</td>\n",
       "      <td>-14.458333</td>\n",
       "      <td>1033.625000</td>\n",
       "      <td>56.920000</td>\n",
       "      <td>0.000000</td>\n",
       "      <td>0.0</td>\n",
       "      <td>31.333333</td>\n",
       "    </tr>\n",
       "    <tr>\n",
       "      <th>2010-01-06</th>\n",
       "      <td>56.416667</td>\n",
       "      <td>-23.708333</td>\n",
       "      <td>-12.541667</td>\n",
       "      <td>1033.750000</td>\n",
       "      <td>18.511667</td>\n",
       "      <td>0.000000</td>\n",
       "      <td>0.0</td>\n",
       "      <td>42.458333</td>\n",
       "    </tr>\n",
       "  </tbody>\n",
       "</table>\n",
       "</div>"
      ],
      "text/plain": [
       "            pollution_today        dew       temp        press     wnd_spd  \\\n",
       "date                                                                         \n",
       "2010-01-02       145.958333  -8.500000  -5.125000  1024.750000   24.860000   \n",
       "2010-01-03        78.833333 -10.125000  -8.541667  1022.791667   70.937917   \n",
       "2010-01-04        31.333333 -20.875000 -11.500000  1029.291667  111.160833   \n",
       "2010-01-05        42.458333 -24.583333 -14.458333  1033.625000   56.920000   \n",
       "2010-01-06        56.416667 -23.708333 -12.541667  1033.750000   18.511667   \n",
       "\n",
       "                 snow  rain  pollution_yesterday  \n",
       "date                                              \n",
       "2010-01-02   0.708333   0.0            10.041667  \n",
       "2010-01-03  14.166667   0.0           145.958333  \n",
       "2010-01-04   0.000000   0.0            78.833333  \n",
       "2010-01-05   0.000000   0.0            31.333333  \n",
       "2010-01-06   0.000000   0.0            42.458333  "
      ]
     },
     "execution_count": 2,
     "metadata": {},
     "output_type": "execute_result"
    }
   ],
   "source": [
    "air_pollution = pd.read_csv('air_pollution.csv',parse_dates=['date'])\n",
    "air_pollution.set_index('date',inplace=True)\n",
    "air_pollution.head() #"
   ]
  },
  {
   "cell_type": "code",
   "execution_count": 3,
   "metadata": {},
   "outputs": [
    {
     "name": "stdout",
     "output_type": "stream",
     "text": [
      "1461 days of training data \n",
      " 364 days of testing data \n"
     ]
    }
   ],
   "source": [
    "\n",
    "#We split our dataset to be able to evaluate our models\n",
    "\n",
    "resultsDict={}\n",
    "predictionsDict={}\n",
    "\n",
    "split_date ='2014-01-01'\n",
    "df_training = air_pollution.loc[air_pollution.index <= split_date]\n",
    "df_test = air_pollution.loc[air_pollution.index > split_date]\n",
    "print(f\"{len(df_training)} days of training data \\n {len(df_test)} days of testing data \")"
   ]
  },
  {
   "cell_type": "code",
   "execution_count": 4,
   "metadata": {},
   "outputs": [
    {
     "data": {
      "text/html": [
       "<div>\n",
       "<style scoped>\n",
       "    .dataframe tbody tr th:only-of-type {\n",
       "        vertical-align: middle;\n",
       "    }\n",
       "\n",
       "    .dataframe tbody tr th {\n",
       "        vertical-align: top;\n",
       "    }\n",
       "\n",
       "    .dataframe thead th {\n",
       "        text-align: right;\n",
       "    }\n",
       "</style>\n",
       "<table border=\"1\" class=\"dataframe\">\n",
       "  <thead>\n",
       "    <tr style=\"text-align: right;\">\n",
       "      <th></th>\n",
       "      <th>pollution_today</th>\n",
       "      <th>dew</th>\n",
       "      <th>temp</th>\n",
       "      <th>press</th>\n",
       "      <th>wnd_spd</th>\n",
       "      <th>snow</th>\n",
       "      <th>rain</th>\n",
       "      <th>pollution_yesterday</th>\n",
       "    </tr>\n",
       "    <tr>\n",
       "      <th>date</th>\n",
       "      <th></th>\n",
       "      <th></th>\n",
       "      <th></th>\n",
       "      <th></th>\n",
       "      <th></th>\n",
       "      <th></th>\n",
       "      <th></th>\n",
       "      <th></th>\n",
       "    </tr>\n",
       "  </thead>\n",
       "  <tbody>\n",
       "    <tr>\n",
       "      <th>2010-01-02</th>\n",
       "      <td>145.958333</td>\n",
       "      <td>-8.500000</td>\n",
       "      <td>-5.125000</td>\n",
       "      <td>1024.750000</td>\n",
       "      <td>24.860000</td>\n",
       "      <td>0.708333</td>\n",
       "      <td>0.0</td>\n",
       "      <td>10.041667</td>\n",
       "    </tr>\n",
       "    <tr>\n",
       "      <th>2010-01-03</th>\n",
       "      <td>78.833333</td>\n",
       "      <td>-10.125000</td>\n",
       "      <td>-8.541667</td>\n",
       "      <td>1022.791667</td>\n",
       "      <td>70.937917</td>\n",
       "      <td>14.166667</td>\n",
       "      <td>0.0</td>\n",
       "      <td>145.958333</td>\n",
       "    </tr>\n",
       "    <tr>\n",
       "      <th>2010-01-04</th>\n",
       "      <td>31.333333</td>\n",
       "      <td>-20.875000</td>\n",
       "      <td>-11.500000</td>\n",
       "      <td>1029.291667</td>\n",
       "      <td>111.160833</td>\n",
       "      <td>0.000000</td>\n",
       "      <td>0.0</td>\n",
       "      <td>78.833333</td>\n",
       "    </tr>\n",
       "    <tr>\n",
       "      <th>2010-01-05</th>\n",
       "      <td>42.458333</td>\n",
       "      <td>-24.583333</td>\n",
       "      <td>-14.458333</td>\n",
       "      <td>1033.625000</td>\n",
       "      <td>56.920000</td>\n",
       "      <td>0.000000</td>\n",
       "      <td>0.0</td>\n",
       "      <td>31.333333</td>\n",
       "    </tr>\n",
       "    <tr>\n",
       "      <th>2010-01-06</th>\n",
       "      <td>56.416667</td>\n",
       "      <td>-23.708333</td>\n",
       "      <td>-12.541667</td>\n",
       "      <td>1033.750000</td>\n",
       "      <td>18.511667</td>\n",
       "      <td>0.000000</td>\n",
       "      <td>0.0</td>\n",
       "      <td>42.458333</td>\n",
       "    </tr>\n",
       "    <tr>\n",
       "      <th>...</th>\n",
       "      <td>...</td>\n",
       "      <td>...</td>\n",
       "      <td>...</td>\n",
       "      <td>...</td>\n",
       "      <td>...</td>\n",
       "      <td>...</td>\n",
       "      <td>...</td>\n",
       "      <td>...</td>\n",
       "    </tr>\n",
       "    <tr>\n",
       "      <th>2013-12-28</th>\n",
       "      <td>21.125000</td>\n",
       "      <td>-22.958333</td>\n",
       "      <td>-1.250000</td>\n",
       "      <td>1026.208333</td>\n",
       "      <td>78.201667</td>\n",
       "      <td>0.000000</td>\n",
       "      <td>0.0</td>\n",
       "      <td>31.916667</td>\n",
       "    </tr>\n",
       "    <tr>\n",
       "      <th>2013-12-29</th>\n",
       "      <td>50.520833</td>\n",
       "      <td>-22.875000</td>\n",
       "      <td>1.041667</td>\n",
       "      <td>1019.208333</td>\n",
       "      <td>12.253750</td>\n",
       "      <td>0.000000</td>\n",
       "      <td>0.0</td>\n",
       "      <td>21.125000</td>\n",
       "    </tr>\n",
       "    <tr>\n",
       "      <th>2013-12-30</th>\n",
       "      <td>39.833333</td>\n",
       "      <td>-22.458333</td>\n",
       "      <td>4.166667</td>\n",
       "      <td>1015.708333</td>\n",
       "      <td>57.210833</td>\n",
       "      <td>0.000000</td>\n",
       "      <td>0.0</td>\n",
       "      <td>50.520833</td>\n",
       "    </tr>\n",
       "    <tr>\n",
       "      <th>2013-12-31</th>\n",
       "      <td>51.833333</td>\n",
       "      <td>-18.666667</td>\n",
       "      <td>4.666667</td>\n",
       "      <td>1012.333333</td>\n",
       "      <td>56.876667</td>\n",
       "      <td>0.000000</td>\n",
       "      <td>0.0</td>\n",
       "      <td>39.833333</td>\n",
       "    </tr>\n",
       "    <tr>\n",
       "      <th>2014-01-01</th>\n",
       "      <td>53.416667</td>\n",
       "      <td>-17.166667</td>\n",
       "      <td>6.625000</td>\n",
       "      <td>1014.458333</td>\n",
       "      <td>51.591667</td>\n",
       "      <td>0.000000</td>\n",
       "      <td>0.0</td>\n",
       "      <td>51.833333</td>\n",
       "    </tr>\n",
       "  </tbody>\n",
       "</table>\n",
       "<p>1461 rows × 8 columns</p>\n",
       "</div>"
      ],
      "text/plain": [
       "            pollution_today        dew       temp        press     wnd_spd  \\\n",
       "date                                                                         \n",
       "2010-01-02       145.958333  -8.500000  -5.125000  1024.750000   24.860000   \n",
       "2010-01-03        78.833333 -10.125000  -8.541667  1022.791667   70.937917   \n",
       "2010-01-04        31.333333 -20.875000 -11.500000  1029.291667  111.160833   \n",
       "2010-01-05        42.458333 -24.583333 -14.458333  1033.625000   56.920000   \n",
       "2010-01-06        56.416667 -23.708333 -12.541667  1033.750000   18.511667   \n",
       "...                     ...        ...        ...          ...         ...   \n",
       "2013-12-28        21.125000 -22.958333  -1.250000  1026.208333   78.201667   \n",
       "2013-12-29        50.520833 -22.875000   1.041667  1019.208333   12.253750   \n",
       "2013-12-30        39.833333 -22.458333   4.166667  1015.708333   57.210833   \n",
       "2013-12-31        51.833333 -18.666667   4.666667  1012.333333   56.876667   \n",
       "2014-01-01        53.416667 -17.166667   6.625000  1014.458333   51.591667   \n",
       "\n",
       "                 snow  rain  pollution_yesterday  \n",
       "date                                              \n",
       "2010-01-02   0.708333   0.0            10.041667  \n",
       "2010-01-03  14.166667   0.0           145.958333  \n",
       "2010-01-04   0.000000   0.0            78.833333  \n",
       "2010-01-05   0.000000   0.0            31.333333  \n",
       "2010-01-06   0.000000   0.0            42.458333  \n",
       "...               ...   ...                  ...  \n",
       "2013-12-28   0.000000   0.0            31.916667  \n",
       "2013-12-29   0.000000   0.0            21.125000  \n",
       "2013-12-30   0.000000   0.0            50.520833  \n",
       "2013-12-31   0.000000   0.0            39.833333  \n",
       "2014-01-01   0.000000   0.0            51.833333  \n",
       "\n",
       "[1461 rows x 8 columns]"
      ]
     },
     "execution_count": 4,
     "metadata": {},
     "output_type": "execute_result"
    }
   ],
   "source": [
    "df_training"
   ]
  },
  {
   "cell_type": "code",
   "execution_count": 5,
   "metadata": {},
   "outputs": [],
   "source": [
    "def create_time_features(df,target=None):\n",
    "    \"\"\"\n",
    "    Creates time series features from datetime index\n",
    "    \"\"\"\n",
    "    df['date'] = df.index\n",
    "    df['hour'] = df['date'].dt.hour\n",
    "    df['dayofweek'] = df['date'].dt.dayofweek\n",
    "    df['quarter'] = df['date'].dt.quarter\n",
    "    df['month'] = df['date'].dt.month\n",
    "    df['year'] = df['date'].dt.year\n",
    "    df['dayofyear'] = df['date'].dt.dayofyear\n",
    "    df['sin_day'] = np.sin(df['dayofyear'])\n",
    "    df['cos_day'] = np.cos(df['dayofyear'])\n",
    "    df['dayofmonth'] = df['date'].dt.day\n",
    "    df['weekofyear'] = df['date'].dt.weekofyear\n",
    "    X = df.drop(['date'],axis=1)\n",
    "    if target:\n",
    "        y = df[target]\n",
    "        X = X.drop([target],axis=1)\n",
    "        return X, y\n",
    "    \n",
    "    return X"
   ]
  },
  {
   "cell_type": "code",
   "execution_count": 7,
   "metadata": {
    "scrolled": true
   },
   "outputs": [
    {
     "data": {
      "text/html": [
       "<div>\n",
       "<style scoped>\n",
       "    .dataframe tbody tr th:only-of-type {\n",
       "        vertical-align: middle;\n",
       "    }\n",
       "\n",
       "    .dataframe tbody tr th {\n",
       "        vertical-align: top;\n",
       "    }\n",
       "\n",
       "    .dataframe thead th {\n",
       "        text-align: right;\n",
       "    }\n",
       "</style>\n",
       "<table border=\"1\" class=\"dataframe\">\n",
       "  <thead>\n",
       "    <tr style=\"text-align: right;\">\n",
       "      <th></th>\n",
       "      <th>dew</th>\n",
       "      <th>temp</th>\n",
       "      <th>press</th>\n",
       "      <th>wnd_spd</th>\n",
       "      <th>snow</th>\n",
       "      <th>rain</th>\n",
       "      <th>pollution_yesterday</th>\n",
       "      <th>hour</th>\n",
       "      <th>dayofweek</th>\n",
       "      <th>quarter</th>\n",
       "      <th>month</th>\n",
       "      <th>year</th>\n",
       "      <th>dayofyear</th>\n",
       "      <th>sin_day</th>\n",
       "      <th>cos_day</th>\n",
       "      <th>dayofmonth</th>\n",
       "      <th>weekofyear</th>\n",
       "    </tr>\n",
       "    <tr>\n",
       "      <th>date</th>\n",
       "      <th></th>\n",
       "      <th></th>\n",
       "      <th></th>\n",
       "      <th></th>\n",
       "      <th></th>\n",
       "      <th></th>\n",
       "      <th></th>\n",
       "      <th></th>\n",
       "      <th></th>\n",
       "      <th></th>\n",
       "      <th></th>\n",
       "      <th></th>\n",
       "      <th></th>\n",
       "      <th></th>\n",
       "      <th></th>\n",
       "      <th></th>\n",
       "      <th></th>\n",
       "    </tr>\n",
       "  </thead>\n",
       "  <tbody>\n",
       "    <tr>\n",
       "      <th>2010-01-02</th>\n",
       "      <td>-8.500000</td>\n",
       "      <td>-5.125000</td>\n",
       "      <td>1024.750000</td>\n",
       "      <td>24.860000</td>\n",
       "      <td>0.708333</td>\n",
       "      <td>0.0</td>\n",
       "      <td>10.041667</td>\n",
       "      <td>0</td>\n",
       "      <td>5</td>\n",
       "      <td>1</td>\n",
       "      <td>1</td>\n",
       "      <td>2010</td>\n",
       "      <td>2</td>\n",
       "      <td>0.909297</td>\n",
       "      <td>-0.416147</td>\n",
       "      <td>2</td>\n",
       "      <td>53</td>\n",
       "    </tr>\n",
       "    <tr>\n",
       "      <th>2010-01-03</th>\n",
       "      <td>-10.125000</td>\n",
       "      <td>-8.541667</td>\n",
       "      <td>1022.791667</td>\n",
       "      <td>70.937917</td>\n",
       "      <td>14.166667</td>\n",
       "      <td>0.0</td>\n",
       "      <td>145.958333</td>\n",
       "      <td>0</td>\n",
       "      <td>6</td>\n",
       "      <td>1</td>\n",
       "      <td>1</td>\n",
       "      <td>2010</td>\n",
       "      <td>3</td>\n",
       "      <td>0.141120</td>\n",
       "      <td>-0.989992</td>\n",
       "      <td>3</td>\n",
       "      <td>53</td>\n",
       "    </tr>\n",
       "    <tr>\n",
       "      <th>2010-01-04</th>\n",
       "      <td>-20.875000</td>\n",
       "      <td>-11.500000</td>\n",
       "      <td>1029.291667</td>\n",
       "      <td>111.160833</td>\n",
       "      <td>0.000000</td>\n",
       "      <td>0.0</td>\n",
       "      <td>78.833333</td>\n",
       "      <td>0</td>\n",
       "      <td>0</td>\n",
       "      <td>1</td>\n",
       "      <td>1</td>\n",
       "      <td>2010</td>\n",
       "      <td>4</td>\n",
       "      <td>-0.756802</td>\n",
       "      <td>-0.653644</td>\n",
       "      <td>4</td>\n",
       "      <td>1</td>\n",
       "    </tr>\n",
       "    <tr>\n",
       "      <th>2010-01-05</th>\n",
       "      <td>-24.583333</td>\n",
       "      <td>-14.458333</td>\n",
       "      <td>1033.625000</td>\n",
       "      <td>56.920000</td>\n",
       "      <td>0.000000</td>\n",
       "      <td>0.0</td>\n",
       "      <td>31.333333</td>\n",
       "      <td>0</td>\n",
       "      <td>1</td>\n",
       "      <td>1</td>\n",
       "      <td>1</td>\n",
       "      <td>2010</td>\n",
       "      <td>5</td>\n",
       "      <td>-0.958924</td>\n",
       "      <td>0.283662</td>\n",
       "      <td>5</td>\n",
       "      <td>1</td>\n",
       "    </tr>\n",
       "    <tr>\n",
       "      <th>2010-01-06</th>\n",
       "      <td>-23.708333</td>\n",
       "      <td>-12.541667</td>\n",
       "      <td>1033.750000</td>\n",
       "      <td>18.511667</td>\n",
       "      <td>0.000000</td>\n",
       "      <td>0.0</td>\n",
       "      <td>42.458333</td>\n",
       "      <td>0</td>\n",
       "      <td>2</td>\n",
       "      <td>1</td>\n",
       "      <td>1</td>\n",
       "      <td>2010</td>\n",
       "      <td>6</td>\n",
       "      <td>-0.279415</td>\n",
       "      <td>0.960170</td>\n",
       "      <td>6</td>\n",
       "      <td>1</td>\n",
       "    </tr>\n",
       "    <tr>\n",
       "      <th>...</th>\n",
       "      <td>...</td>\n",
       "      <td>...</td>\n",
       "      <td>...</td>\n",
       "      <td>...</td>\n",
       "      <td>...</td>\n",
       "      <td>...</td>\n",
       "      <td>...</td>\n",
       "      <td>...</td>\n",
       "      <td>...</td>\n",
       "      <td>...</td>\n",
       "      <td>...</td>\n",
       "      <td>...</td>\n",
       "      <td>...</td>\n",
       "      <td>...</td>\n",
       "      <td>...</td>\n",
       "      <td>...</td>\n",
       "      <td>...</td>\n",
       "    </tr>\n",
       "    <tr>\n",
       "      <th>2013-12-28</th>\n",
       "      <td>-22.958333</td>\n",
       "      <td>-1.250000</td>\n",
       "      <td>1026.208333</td>\n",
       "      <td>78.201667</td>\n",
       "      <td>0.000000</td>\n",
       "      <td>0.0</td>\n",
       "      <td>31.916667</td>\n",
       "      <td>0</td>\n",
       "      <td>5</td>\n",
       "      <td>4</td>\n",
       "      <td>12</td>\n",
       "      <td>2013</td>\n",
       "      <td>362</td>\n",
       "      <td>-0.657009</td>\n",
       "      <td>-0.753882</td>\n",
       "      <td>28</td>\n",
       "      <td>52</td>\n",
       "    </tr>\n",
       "    <tr>\n",
       "      <th>2013-12-29</th>\n",
       "      <td>-22.875000</td>\n",
       "      <td>1.041667</td>\n",
       "      <td>1019.208333</td>\n",
       "      <td>12.253750</td>\n",
       "      <td>0.000000</td>\n",
       "      <td>0.0</td>\n",
       "      <td>21.125000</td>\n",
       "      <td>0</td>\n",
       "      <td>6</td>\n",
       "      <td>4</td>\n",
       "      <td>12</td>\n",
       "      <td>2013</td>\n",
       "      <td>363</td>\n",
       "      <td>-0.989354</td>\n",
       "      <td>0.145530</td>\n",
       "      <td>29</td>\n",
       "      <td>52</td>\n",
       "    </tr>\n",
       "    <tr>\n",
       "      <th>2013-12-30</th>\n",
       "      <td>-22.458333</td>\n",
       "      <td>4.166667</td>\n",
       "      <td>1015.708333</td>\n",
       "      <td>57.210833</td>\n",
       "      <td>0.000000</td>\n",
       "      <td>0.0</td>\n",
       "      <td>50.520833</td>\n",
       "      <td>0</td>\n",
       "      <td>0</td>\n",
       "      <td>4</td>\n",
       "      <td>12</td>\n",
       "      <td>2013</td>\n",
       "      <td>364</td>\n",
       "      <td>-0.412091</td>\n",
       "      <td>0.911143</td>\n",
       "      <td>30</td>\n",
       "      <td>1</td>\n",
       "    </tr>\n",
       "    <tr>\n",
       "      <th>2013-12-31</th>\n",
       "      <td>-18.666667</td>\n",
       "      <td>4.666667</td>\n",
       "      <td>1012.333333</td>\n",
       "      <td>56.876667</td>\n",
       "      <td>0.000000</td>\n",
       "      <td>0.0</td>\n",
       "      <td>39.833333</td>\n",
       "      <td>0</td>\n",
       "      <td>1</td>\n",
       "      <td>4</td>\n",
       "      <td>12</td>\n",
       "      <td>2013</td>\n",
       "      <td>365</td>\n",
       "      <td>0.544046</td>\n",
       "      <td>0.839055</td>\n",
       "      <td>31</td>\n",
       "      <td>1</td>\n",
       "    </tr>\n",
       "    <tr>\n",
       "      <th>2014-01-01</th>\n",
       "      <td>-17.166667</td>\n",
       "      <td>6.625000</td>\n",
       "      <td>1014.458333</td>\n",
       "      <td>51.591667</td>\n",
       "      <td>0.000000</td>\n",
       "      <td>0.0</td>\n",
       "      <td>51.833333</td>\n",
       "      <td>0</td>\n",
       "      <td>2</td>\n",
       "      <td>1</td>\n",
       "      <td>1</td>\n",
       "      <td>2014</td>\n",
       "      <td>1</td>\n",
       "      <td>0.841471</td>\n",
       "      <td>0.540302</td>\n",
       "      <td>1</td>\n",
       "      <td>1</td>\n",
       "    </tr>\n",
       "  </tbody>\n",
       "</table>\n",
       "<p>1461 rows × 17 columns</p>\n",
       "</div>"
      ],
      "text/plain": [
       "                  dew       temp        press     wnd_spd       snow  rain  \\\n",
       "date                                                                         \n",
       "2010-01-02  -8.500000  -5.125000  1024.750000   24.860000   0.708333   0.0   \n",
       "2010-01-03 -10.125000  -8.541667  1022.791667   70.937917  14.166667   0.0   \n",
       "2010-01-04 -20.875000 -11.500000  1029.291667  111.160833   0.000000   0.0   \n",
       "2010-01-05 -24.583333 -14.458333  1033.625000   56.920000   0.000000   0.0   \n",
       "2010-01-06 -23.708333 -12.541667  1033.750000   18.511667   0.000000   0.0   \n",
       "...               ...        ...          ...         ...        ...   ...   \n",
       "2013-12-28 -22.958333  -1.250000  1026.208333   78.201667   0.000000   0.0   \n",
       "2013-12-29 -22.875000   1.041667  1019.208333   12.253750   0.000000   0.0   \n",
       "2013-12-30 -22.458333   4.166667  1015.708333   57.210833   0.000000   0.0   \n",
       "2013-12-31 -18.666667   4.666667  1012.333333   56.876667   0.000000   0.0   \n",
       "2014-01-01 -17.166667   6.625000  1014.458333   51.591667   0.000000   0.0   \n",
       "\n",
       "            pollution_yesterday  hour  dayofweek  quarter  month  year  \\\n",
       "date                                                                     \n",
       "2010-01-02            10.041667     0          5        1      1  2010   \n",
       "2010-01-03           145.958333     0          6        1      1  2010   \n",
       "2010-01-04            78.833333     0          0        1      1  2010   \n",
       "2010-01-05            31.333333     0          1        1      1  2010   \n",
       "2010-01-06            42.458333     0          2        1      1  2010   \n",
       "...                         ...   ...        ...      ...    ...   ...   \n",
       "2013-12-28            31.916667     0          5        4     12  2013   \n",
       "2013-12-29            21.125000     0          6        4     12  2013   \n",
       "2013-12-30            50.520833     0          0        4     12  2013   \n",
       "2013-12-31            39.833333     0          1        4     12  2013   \n",
       "2014-01-01            51.833333     0          2        1      1  2014   \n",
       "\n",
       "            dayofyear   sin_day   cos_day  dayofmonth  weekofyear  \n",
       "date                                                               \n",
       "2010-01-02          2  0.909297 -0.416147           2          53  \n",
       "2010-01-03          3  0.141120 -0.989992           3          53  \n",
       "2010-01-04          4 -0.756802 -0.653644           4           1  \n",
       "2010-01-05          5 -0.958924  0.283662           5           1  \n",
       "2010-01-06          6 -0.279415  0.960170           6           1  \n",
       "...               ...       ...       ...         ...         ...  \n",
       "2013-12-28        362 -0.657009 -0.753882          28          52  \n",
       "2013-12-29        363 -0.989354  0.145530          29          52  \n",
       "2013-12-30        364 -0.412091  0.911143          30           1  \n",
       "2013-12-31        365  0.544046  0.839055          31           1  \n",
       "2014-01-01          1  0.841471  0.540302           1           1  \n",
       "\n",
       "[1461 rows x 17 columns]"
      ]
     },
     "execution_count": 7,
     "metadata": {},
     "output_type": "execute_result"
    }
   ],
   "source": [
    "X_train_df"
   ]
  },
  {
   "cell_type": "code",
   "execution_count": 8,
   "metadata": {},
   "outputs": [
    {
     "data": {
      "text/plain": [
       "date\n",
       "2010-01-02    145.958333\n",
       "2010-01-03     78.833333\n",
       "2010-01-04     31.333333\n",
       "2010-01-05     42.458333\n",
       "2010-01-06     56.416667\n",
       "                 ...    \n",
       "2013-12-28     21.125000\n",
       "2013-12-29     50.520833\n",
       "2013-12-30     39.833333\n",
       "2013-12-31     51.833333\n",
       "2014-01-01     53.416667\n",
       "Name: pollution_today, Length: 1461, dtype: float64"
      ]
     },
     "execution_count": 8,
     "metadata": {},
     "output_type": "execute_result"
    }
   ],
   "source": [
    "y_train"
   ]
  },
  {
   "cell_type": "code",
   "execution_count": 6,
   "metadata": {},
   "outputs": [],
   "source": [
    "X_train_df, y_train = create_time_features(df_training, target='pollution_today')\n",
    "X_test_df, y_test = create_time_features(df_test, target='pollution_today')\n",
    "# scaler = StandardScaler() \n",
    "# scaler.fit(X_train_df) #No cheating, never scale on the training+test!\n",
    "# X_train = scaler.transform(X_train_df)  \n",
    "# X_test = scaler.transform(X_test_df)\n",
    "\n",
    "# X_train_df = pd.DataFrame(X_train,columns=X_train_df.columns)\n",
    "# X_test_df = pd.DataFrame(X_test,columns=X_test_df.columns)"
   ]
  },
  {
   "cell_type": "code",
   "execution_count": 218,
   "metadata": {},
   "outputs": [
    {
     "data": {
      "text/html": [
       "<div>\n",
       "<style scoped>\n",
       "    .dataframe tbody tr th:only-of-type {\n",
       "        vertical-align: middle;\n",
       "    }\n",
       "\n",
       "    .dataframe tbody tr th {\n",
       "        vertical-align: top;\n",
       "    }\n",
       "\n",
       "    .dataframe thead th {\n",
       "        text-align: right;\n",
       "    }\n",
       "</style>\n",
       "<table border=\"1\" class=\"dataframe\">\n",
       "  <thead>\n",
       "    <tr style=\"text-align: right;\">\n",
       "      <th></th>\n",
       "      <th>highest</th>\n",
       "      <th>high</th>\n",
       "      <th>mid</th>\n",
       "      <th>low</th>\n",
       "      <th>ave</th>\n",
       "      <th>volume</th>\n",
       "    </tr>\n",
       "    <tr>\n",
       "      <th>date</th>\n",
       "      <th></th>\n",
       "      <th></th>\n",
       "      <th></th>\n",
       "      <th></th>\n",
       "      <th></th>\n",
       "      <th></th>\n",
       "    </tr>\n",
       "  </thead>\n",
       "  <tbody>\n",
       "    <tr>\n",
       "      <th>1998-12-01</th>\n",
       "      <td>195</td>\n",
       "      <td>131</td>\n",
       "      <td>77</td>\n",
       "      <td>59</td>\n",
       "      <td>84.0</td>\n",
       "      <td>327</td>\n",
       "    </tr>\n",
       "    <tr>\n",
       "      <th>1998-12-02</th>\n",
       "      <td>165</td>\n",
       "      <td>144</td>\n",
       "      <td>111</td>\n",
       "      <td>93</td>\n",
       "      <td>113.0</td>\n",
       "      <td>456</td>\n",
       "    </tr>\n",
       "    <tr>\n",
       "      <th>1998-12-03</th>\n",
       "      <td>204</td>\n",
       "      <td>160</td>\n",
       "      <td>82</td>\n",
       "      <td>65</td>\n",
       "      <td>94.0</td>\n",
       "      <td>432</td>\n",
       "    </tr>\n",
       "    <tr>\n",
       "      <th>1998-12-04</th>\n",
       "      <td>189</td>\n",
       "      <td>161</td>\n",
       "      <td>114</td>\n",
       "      <td>80</td>\n",
       "      <td>116.0</td>\n",
       "      <td>583</td>\n",
       "    </tr>\n",
       "    <tr>\n",
       "      <th>1998-12-06</th>\n",
       "      <td>181</td>\n",
       "      <td>157</td>\n",
       "      <td>90</td>\n",
       "      <td>55</td>\n",
       "      <td>96.0</td>\n",
       "      <td>1052</td>\n",
       "    </tr>\n",
       "    <tr>\n",
       "      <th>...</th>\n",
       "      <td>...</td>\n",
       "      <td>...</td>\n",
       "      <td>...</td>\n",
       "      <td>...</td>\n",
       "      <td>...</td>\n",
       "      <td>...</td>\n",
       "    </tr>\n",
       "    <tr>\n",
       "      <th>2020-11-26</th>\n",
       "      <td>201</td>\n",
       "      <td>201</td>\n",
       "      <td>137</td>\n",
       "      <td>67</td>\n",
       "      <td>134.9</td>\n",
       "      <td>97</td>\n",
       "    </tr>\n",
       "    <tr>\n",
       "      <th>2020-11-27</th>\n",
       "      <td>170</td>\n",
       "      <td>170</td>\n",
       "      <td>112</td>\n",
       "      <td>52</td>\n",
       "      <td>111.8</td>\n",
       "      <td>176</td>\n",
       "    </tr>\n",
       "    <tr>\n",
       "      <th>2020-11-28</th>\n",
       "      <td>171</td>\n",
       "      <td>171</td>\n",
       "      <td>170</td>\n",
       "      <td>152</td>\n",
       "      <td>166.7</td>\n",
       "      <td>81</td>\n",
       "    </tr>\n",
       "    <tr>\n",
       "      <th>2020-11-30</th>\n",
       "      <td>172</td>\n",
       "      <td>171</td>\n",
       "      <td>119</td>\n",
       "      <td>82</td>\n",
       "      <td>122.4</td>\n",
       "      <td>88</td>\n",
       "    </tr>\n",
       "    <tr>\n",
       "      <th>2020-12-01</th>\n",
       "      <td>212</td>\n",
       "      <td>212</td>\n",
       "      <td>199</td>\n",
       "      <td>190</td>\n",
       "      <td>200.5</td>\n",
       "      <td>23</td>\n",
       "    </tr>\n",
       "  </tbody>\n",
       "</table>\n",
       "<p>6644 rows × 6 columns</p>\n",
       "</div>"
      ],
      "text/plain": [
       "            highest  high  mid  low    ave  volume\n",
       "date                                              \n",
       "1998-12-01      195   131   77   59   84.0     327\n",
       "1998-12-02      165   144  111   93  113.0     456\n",
       "1998-12-03      204   160   82   65   94.0     432\n",
       "1998-12-04      189   161  114   80  116.0     583\n",
       "1998-12-06      181   157   90   55   96.0    1052\n",
       "...             ...   ...  ...  ...    ...     ...\n",
       "2020-11-26      201   201  137   67  134.9      97\n",
       "2020-11-27      170   170  112   52  111.8     176\n",
       "2020-11-28      171   171  170  152  166.7      81\n",
       "2020-11-30      172   171  119   82  122.4      88\n",
       "2020-12-01      212   212  199  190  200.5      23\n",
       "\n",
       "[6644 rows x 6 columns]"
      ]
     },
     "execution_count": 218,
     "metadata": {},
     "output_type": "execute_result"
    }
   ],
   "source": [
    "ts"
   ]
  },
  {
   "cell_type": "code",
   "execution_count": 217,
   "metadata": {},
   "outputs": [],
   "source": [
    "import pandas as pd\n",
    "from datetime import datetime\n",
    "\n",
    "datelist = pd.date_range(ts.index[0], periods=ts.shape[0]).tolist()\n",
    "ts.index = datelist"
   ]
  },
  {
   "cell_type": "code",
   "execution_count": 219,
   "metadata": {},
   "outputs": [],
   "source": [
    "ts.index = datelist"
   ]
  },
  {
   "cell_type": "code",
   "execution_count": 220,
   "metadata": {},
   "outputs": [
    {
     "data": {
      "text/html": [
       "<div>\n",
       "<style scoped>\n",
       "    .dataframe tbody tr th:only-of-type {\n",
       "        vertical-align: middle;\n",
       "    }\n",
       "\n",
       "    .dataframe tbody tr th {\n",
       "        vertical-align: top;\n",
       "    }\n",
       "\n",
       "    .dataframe thead th {\n",
       "        text-align: right;\n",
       "    }\n",
       "</style>\n",
       "<table border=\"1\" class=\"dataframe\">\n",
       "  <thead>\n",
       "    <tr style=\"text-align: right;\">\n",
       "      <th></th>\n",
       "      <th>highest</th>\n",
       "      <th>high</th>\n",
       "      <th>mid</th>\n",
       "      <th>low</th>\n",
       "      <th>ave</th>\n",
       "      <th>volume</th>\n",
       "    </tr>\n",
       "  </thead>\n",
       "  <tbody>\n",
       "    <tr>\n",
       "      <th>1998-12-01</th>\n",
       "      <td>195</td>\n",
       "      <td>131</td>\n",
       "      <td>77</td>\n",
       "      <td>59</td>\n",
       "      <td>84.0</td>\n",
       "      <td>327</td>\n",
       "    </tr>\n",
       "    <tr>\n",
       "      <th>1998-12-02</th>\n",
       "      <td>165</td>\n",
       "      <td>144</td>\n",
       "      <td>111</td>\n",
       "      <td>93</td>\n",
       "      <td>113.0</td>\n",
       "      <td>456</td>\n",
       "    </tr>\n",
       "    <tr>\n",
       "      <th>1998-12-03</th>\n",
       "      <td>204</td>\n",
       "      <td>160</td>\n",
       "      <td>82</td>\n",
       "      <td>65</td>\n",
       "      <td>94.0</td>\n",
       "      <td>432</td>\n",
       "    </tr>\n",
       "    <tr>\n",
       "      <th>1998-12-04</th>\n",
       "      <td>189</td>\n",
       "      <td>161</td>\n",
       "      <td>114</td>\n",
       "      <td>80</td>\n",
       "      <td>116.0</td>\n",
       "      <td>583</td>\n",
       "    </tr>\n",
       "    <tr>\n",
       "      <th>1998-12-05</th>\n",
       "      <td>181</td>\n",
       "      <td>157</td>\n",
       "      <td>90</td>\n",
       "      <td>55</td>\n",
       "      <td>96.0</td>\n",
       "      <td>1052</td>\n",
       "    </tr>\n",
       "    <tr>\n",
       "      <th>...</th>\n",
       "      <td>...</td>\n",
       "      <td>...</td>\n",
       "      <td>...</td>\n",
       "      <td>...</td>\n",
       "      <td>...</td>\n",
       "      <td>...</td>\n",
       "    </tr>\n",
       "    <tr>\n",
       "      <th>2017-02-03</th>\n",
       "      <td>201</td>\n",
       "      <td>201</td>\n",
       "      <td>137</td>\n",
       "      <td>67</td>\n",
       "      <td>134.9</td>\n",
       "      <td>97</td>\n",
       "    </tr>\n",
       "    <tr>\n",
       "      <th>2017-02-04</th>\n",
       "      <td>170</td>\n",
       "      <td>170</td>\n",
       "      <td>112</td>\n",
       "      <td>52</td>\n",
       "      <td>111.8</td>\n",
       "      <td>176</td>\n",
       "    </tr>\n",
       "    <tr>\n",
       "      <th>2017-02-05</th>\n",
       "      <td>171</td>\n",
       "      <td>171</td>\n",
       "      <td>170</td>\n",
       "      <td>152</td>\n",
       "      <td>166.7</td>\n",
       "      <td>81</td>\n",
       "    </tr>\n",
       "    <tr>\n",
       "      <th>2017-02-06</th>\n",
       "      <td>172</td>\n",
       "      <td>171</td>\n",
       "      <td>119</td>\n",
       "      <td>82</td>\n",
       "      <td>122.4</td>\n",
       "      <td>88</td>\n",
       "    </tr>\n",
       "    <tr>\n",
       "      <th>2017-02-07</th>\n",
       "      <td>212</td>\n",
       "      <td>212</td>\n",
       "      <td>199</td>\n",
       "      <td>190</td>\n",
       "      <td>200.5</td>\n",
       "      <td>23</td>\n",
       "    </tr>\n",
       "  </tbody>\n",
       "</table>\n",
       "<p>6644 rows × 6 columns</p>\n",
       "</div>"
      ],
      "text/plain": [
       "            highest  high  mid  low    ave  volume\n",
       "1998-12-01      195   131   77   59   84.0     327\n",
       "1998-12-02      165   144  111   93  113.0     456\n",
       "1998-12-03      204   160   82   65   94.0     432\n",
       "1998-12-04      189   161  114   80  116.0     583\n",
       "1998-12-05      181   157   90   55   96.0    1052\n",
       "...             ...   ...  ...  ...    ...     ...\n",
       "2017-02-03      201   201  137   67  134.9      97\n",
       "2017-02-04      170   170  112   52  111.8     176\n",
       "2017-02-05      171   171  170  152  166.7      81\n",
       "2017-02-06      172   171  119   82  122.4      88\n",
       "2017-02-07      212   212  199  190  200.5      23\n",
       "\n",
       "[6644 rows x 6 columns]"
      ]
     },
     "execution_count": 220,
     "metadata": {},
     "output_type": "execute_result"
    }
   ],
   "source": [
    "ts"
   ]
  }
 ],
 "metadata": {
  "kernelspec": {
   "display_name": "Python 3",
   "language": "python",
   "name": "python3"
  },
  "language_info": {
   "codemirror_mode": {
    "name": "ipython",
    "version": 3
   },
   "file_extension": ".py",
   "mimetype": "text/x-python",
   "name": "python",
   "nbconvert_exporter": "python",
   "pygments_lexer": "ipython3",
   "version": "3.8.8"
  }
 },
 "nbformat": 4,
 "nbformat_minor": 4
}
